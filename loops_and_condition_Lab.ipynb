<!DOCTYPE html>
<html lang="en" theme="dark" editor="Default Dark"><head>
<meta http-equiv="content-type" content="text/html; charset=UTF-8"><script type="text/javascript" async="" charset="utf-8" src="loops_and_condition_Lab_files/recaptcha__en_gb.js" crossorigin="anonymous" integrity="sha384-rvfoFrA2Y8xZOj5IjCzLMi2VKPJqof27MhOJz3XCts9yq2VgoiNm69IKKhf/ex9F" nonce=""></script><script type="text/javascript" async="" charset="utf-8" src="loops_and_condition_Lab_files/recaptcha__en_gb.js" crossorigin="anonymous" integrity="sha384-rvfoFrA2Y8xZOj5IjCzLMi2VKPJqof27MhOJz3XCts9yq2VgoiNm69IKKhf/ex9F" nonce=""></script><script src="loops_and_condition_Lab_files/cb=gapi.loaded_1" nonce="" async=""></script><script src="loops_and_condition_Lab_files/cb=gapi.loaded_0" nonce="" async=""></script><script async="" src="loops_and_condition_Lab_files/analytics.js"></script><script nonce="">
      document.addEventListener('keydown', (e) => {
        // Stop propagation on ESC because otherwise it will halt outbound XHRs
        // See b/131755324 for more info.
        if (e.key === 'Escape') {
          e.stopPropagation();
          e.preventDefault();
        }
      });
    </script><meta name="referrer" content="origin"><meta name="viewport" content="width=device-width, initial-scale=1"><title>loops_and_condition_Lab.ipynb - Colab</title><link href="loops_and_condition_Lab_files/css2.css" rel="stylesheet"><link href="loops_and_condition_Lab_files/css.css" rel="stylesheet"><link rel="search" type="application/opensearchdescription+xml" href="https://colab.research.google.com/opensearch.xml" title="Google Colab"><style>.gb_2d{font:13px/27px Roboto,Arial,sans-serif;z-index:986}@keyframes gb__a{0%{opacity:0}50%{opacity:1}}a.gb_Qa{border:none;color:#4285f4;cursor:default;font-weight:bold;outline:none;position:relative;text-align:center;text-decoration:none;text-transform:uppercase;white-space:nowrap;-moz-user-select:none}a.gb_Qa:hover::after,a.gb_Qa:focus::after{background-color:rgba(0,0,0,.12);content:"";height:100%;left:0;position:absolute;top:0;width:100%}a.gb_Qa:hover,a.gb_Qa:focus{text-decoration:none}a.gb_Qa:active{background-color:rgba(153,153,153,.4);text-decoration:none}a.gb_Ra{background-color:#4285f4;color:#fff}a.gb_Ra:active{background-color:#0043b2}.gb_Sa{box-shadow:0 1px 1px rgba(0,0,0,.16)}.gb_Qa,.gb_Ra,.gb_Ta,.gb_Ua{display:inline-block;line-height:28px;padding:0 12px;border-radius:2px}.gb_Ta{background:#f8f8f8;border:1px solid #c6c6c6}.gb_Ua{background:#f8f8f8}.gb_Ta,#gb a.gb_Ta.gb_Ta,.gb_Ua{color:#666;cursor:default;text-decoration:none}#gb a.gb_Ua{cursor:default;text-decoration:none}.gb_Ua{border:1px solid #4285f4;font-weight:bold;outline:none;background:#4285f4;background:linear-gradient(top,#4387fd,#4683ea);filter:progid:DXImageTransform.Microsoft.gradient(startColorstr=#4387fd,endColorstr=#4683ea,GradientType=0)}#gb a.gb_Ua{color:#fff}.gb_Ua:hover{box-shadow:0 1px 0 rgba(0,0,0,.15)}.gb_Ua:active{box-shadow:inset 0 2px 0 rgba(0,0,0,.15);background:#3c78dc;background:linear-gradient(top,#3c7ae4,#3f76d3);filter:progid:DXImageTransform.Microsoft.gradient(startColorstr=#3c7ae4,endColorstr=#3f76d3,GradientType=0)}#gb .gb_Va{background:#fff;border:1px solid #dadce0;color:#1a73e8;display:inline-block;text-decoration:none}#gb .gb_Va:hover{background:#f8fbff;border-color:#dadce0;color:#174ea6}#gb .gb_Va:focus{background:#f4f8ff;color:#174ea6;outline:1px solid #174ea6}#gb .gb_Va:active,#gb .gb_Va:focus:active{background:#ecf3fe;color:#174ea6}#gb .gb_Va.gb_H{background:transparent;border:1px solid #5f6368;color:#8ab4f8;text-decoration:none}#gb .gb_Va.gb_H:hover{background:rgba(255,255,255,.04);color:#e8eaed}#gb .gb_Va.gb_H:focus{background:rgba(232,234,237,.12);color:#e8eaed;outline:1px solid #e8eaed}#gb .gb_Va.gb_H:active,#gb .gb_Va.gb_H:focus:active{background:rgba(232,234,237,.1);color:#e8eaed}.gb_cd{display:inline-block;vertical-align:middle}.gb_Ne .gb_Q{bottom:-3px;right:-5px}.gb_D{position:relative}.gb_B{display:inline-block;outline:none;vertical-align:middle;border-radius:2px;-moz-box-sizing:border-box;box-sizing:border-box;height:40px;width:40px;cursor:pointer;text-decoration:none}#gb#gb a.gb_B{cursor:pointer;text-decoration:none}.gb_B,a.gb_B{color:#000}.gb_dd{border-color:transparent;border-bottom-color:#fff;border-style:dashed dashed solid;border-width:0 8.5px 8.5px;display:none;position:absolute;left:11.5px;top:33px;z-index:1;height:0;width:0;animation:gb__a .2s}.gb_ed{border-color:transparent;border-style:dashed dashed solid;border-width:0 8.5px 8.5px;display:none;position:absolute;left:11.5px;z-index:1;height:0;width:0;animation:gb__a .2s;border-bottom-color:rgba(0,0,0,.2);top:32px}x:-o-prefocus,div.gb_ed{border-bottom-color:#ccc}.gb_la{background:#fff;border:1px solid #ccc;border-color:rgba(0,0,0,.2);color:#000;-moz-box-shadow:0 2px 10px rgba(0,0,0,.2);box-shadow:0 2px 10px rgba(0,0,0,.2);display:none;outline:none;overflow:hidden;position:absolute;right:8px;top:62px;animation:gb__a .2s;border-radius:2px;-moz-user-select:text}.gb_cd.gb_Tc .gb_dd,.gb_cd.gb_Tc .gb_ed,.gb_cd.gb_Tc .gb_la,.gb_Tc.gb_la{display:block}.gb_cd.gb_Tc.gb_fd .gb_dd,.gb_cd.gb_Tc.gb_fd .gb_ed{display:none}.gb_Oe{position:absolute;right:8px;top:62px;z-index:-1}.gb_gd .gb_dd,.gb_gd .gb_ed,.gb_gd .gb_la{margin-top:-10px}.gb_cd:first-child,#gbsfw:first-child+.gb_cd{padding-left:4px}.gb_Fa.gb_Pe .gb_cd:first-child{padding-left:0}.gb_Qe{position:relative}.gb_2c .gb_Qe,.gb_Jd .gb_Qe{float:right}.gb_B{padding:8px;cursor:pointer}.gb_B::after{content:"";position:absolute;top:-4px;bottom:-4px;left:-4px;right:-4px}.gb_Fa .gb_hd:not(.gb_Qa):focus img{background-color:rgba(0,0,0,.2);outline:none;-moz-border-radius:50%;border-radius:50%}.gb_id button svg,.gb_B{-moz-border-radius:50%;border-radius:50%}.gb_id button:focus:not(:focus-visible) svg,.gb_id button:hover svg,.gb_id button:active svg,.gb_B:focus:not(:focus-visible),.gb_B:hover,.gb_B:active,.gb_B[aria-expanded=true]{outline:none}.gb_Lc .gb_id.gb_jd button:focus-visible svg,.gb_id button:focus-visible svg,.gb_B:focus-visible{outline:1px solid #202124}.gb_Lc .gb_id button:focus-visible svg,.gb_Lc .gb_B:focus-visible{outline:1px solid #f1f3f4}@media (forced-colors:active){.gb_Lc .gb_id.gb_jd button:focus-visible svg,.gb_id button:focus-visible svg,.gb_Lc .gb_id button:focus-visible svg{outline:1px solid currentcolor}}.gb_Lc .gb_id.gb_jd button:focus svg,.gb_Lc .gb_id.gb_jd button:focus:hover svg,.gb_id button:focus svg,.gb_id button:focus:hover svg,.gb_B:focus,.gb_B:focus:hover{background-color:rgba(60,64,67,.1)}.gb_Lc .gb_id.gb_jd button:active svg,.gb_id button:active svg,.gb_B:active{background-color:rgba(60,64,67,.12)}.gb_Lc .gb_id.gb_jd button:hover svg,.gb_id button:hover svg,.gb_B:hover{background-color:rgba(60,64,67,.08)}.gb_Wa .gb_B.gb_Za:hover{background-color:transparent}.gb_B[aria-expanded=true],.gb_B:hover[aria-expanded=true]{background-color:rgba(95,99,104,.24)}.gb_B[aria-expanded=true] .gb_F{fill:#5f6368;opacity:1}.gb_Lc .gb_id button:hover svg,.gb_Lc .gb_B:hover{background-color:rgba(232,234,237,.08)}.gb_Lc .gb_id button:focus svg,.gb_Lc .gb_id button:focus:hover svg,.gb_Lc .gb_B:focus,.gb_Lc .gb_B:focus:hover{background-color:rgba(232,234,237,.1)}.gb_Lc .gb_id button:active svg,.gb_Lc .gb_B:active{background-color:rgba(232,234,237,.12)}.gb_Lc .gb_B[aria-expanded=true],.gb_Lc .gb_B:hover[aria-expanded=true]{background-color:rgba(255,255,255,.12)}.gb_Lc .gb_B[aria-expanded=true] .gb_F{fill:#fff;opacity:1}.gb_cd{padding:4px}.gb_Fa.gb_Pe .gb_cd{padding:4px 2px}.gb_Fa.gb_Pe .gb_z.gb_cd{padding-left:6px}.gb_la{z-index:991;line-height:normal}.gb_la.gb_kd{left:0;right:auto}@media (max-width:350px){.gb_la.gb_kd{left:0}}.gb_Re .gb_la{top:56px}.gb_R{display:none!important}.gb_nd{visibility:hidden}.gb_J .gb_B,.gb_ka .gb_J .gb_B{background-position:-64px -29px}.gb_1 .gb_J .gb_B{background-position:-29px -29px;opacity:1}.gb_J .gb_B,.gb_J .gb_B:hover,.gb_J .gb_B:focus{opacity:1}.gb_L{display:none}@media screen and (max-width:319px){.gb_ld:not(.gb_md) .gb_J{display:none;visibility:hidden}}.gb_Q{display:none}.gb_9c{font-family:Google Sans,Roboto,Helvetica,Arial,sans-serif;font-size:20px;font-weight:400;letter-spacing:0.25px;line-height:48px;margin-bottom:2px;opacity:1;overflow:hidden;padding-left:16px;position:relative;text-overflow:ellipsis;vertical-align:middle;top:2px;white-space:nowrap;-moz-box-flex:1;flex:1 1 auto}.gb_9c.gb_ad{color:#3c4043}.gb_Fa.gb_cc .gb_9c{margin-bottom:0}.gb_sd.gb_ud .gb_9c{padding-left:4px}.gb_Fa.gb_cc .gb_vd{position:relative;top:-2px}.gb_bd{display:none}.gb_Fa{color:black;min-width:160px;position:relative;transition:box-shadow 250ms}.gb_Fa.gb_Sc{min-width:120px}.gb_Fa.gb_wd .gb_xd{display:none}.gb_Fa.gb_wd .gb_ld{height:56px}header.gb_Fa{display:block}.gb_Fa svg{fill:currentColor}.gb_Dd{position:fixed;top:0;width:100%}.gb_yd{-moz-box-shadow:0 4px 5px 0 rgba(0,0,0,.14),0 1px 10px 0 rgba(0,0,0,.12),0 2px 4px -1px rgba(0,0,0,.2);box-shadow:0 4px 5px 0 rgba(0,0,0,.14),0 1px 10px 0 rgba(0,0,0,.12),0 2px 4px -1px rgba(0,0,0,.2)}.gb_Ed{height:64px}.gb_ld{-moz-box-sizing:border-box;box-sizing:border-box;position:relative;width:100%;display:-webkit-box;display:-moz-box;display:-ms-flexbox;display:-webkit-flex;display:flex;-moz-box-pack:space-between;justify-content:space-between;min-width:-webkit-min-content;min-width:-moz-min-content;min-width:-ms-min-content;min-width:min-content}.gb_Fa:not(.gb_cc) .gb_ld{padding:8px}.gb_Fa.gb_Fd .gb_ld{-moz-box-flex:1;flex:1 0 auto}.gb_Fa .gb_ld.gb_md.gb_Hd{min-width:0}.gb_Fa.gb_cc .gb_ld{padding:4px;padding-left:8px;min-width:0}.gb_xd{height:48px;vertical-align:middle;white-space:nowrap;-moz-box-align:center;align-items:center;display:-webkit-box;display:-moz-box;display:-ms-flexbox;display:-webkit-flex;display:flex;-moz-user-select:-moz-none}.gb_Ad>.gb_xd{display:table-cell;width:100%}.gb_sd{padding-right:30px;-moz-box-sizing:border-box;box-sizing:border-box;-moz-box-flex:1;flex:1 0 auto}.gb_Fa.gb_cc .gb_sd{padding-right:14px}.gb_Bd{-moz-box-flex:1;flex:1 1 100%}.gb_Bd>:only-child{display:inline-block}.gb_Cd.gb_3c{padding-left:4px}.gb_Cd.gb_Id,.gb_Fa.gb_Fd .gb_Cd,.gb_Fa.gb_cc:not(.gb_Jd) .gb_Cd{padding-left:0}.gb_Fa.gb_cc .gb_Cd.gb_Id{padding-right:0}.gb_Fa.gb_cc .gb_Cd.gb_Id .gb_Wa{margin-left:10px}.gb_3c{display:inline}.gb_Fa.gb_Wc .gb_Cd.gb_Kd,.gb_Fa.gb_Jd .gb_Cd.gb_Kd{padding-left:2px}.gb_9c{display:inline-block}.gb_Cd{-moz-box-sizing:border-box;box-sizing:border-box;height:48px;line-height:normal;padding:0 4px;padding-left:30px;-moz-box-flex:0;flex:0 0 auto;-moz-box-pack:flex-end;justify-content:flex-end}.gb_Jd{height:48px}.gb_Fa.gb_Jd{min-width:auto}.gb_Jd .gb_Cd{float:right;padding-left:32px}.gb_Jd .gb_Cd.gb_Ld{padding-left:0}.gb_Md{font-size:14px;max-width:200px;overflow:hidden;padding:0 12px;text-overflow:ellipsis;white-space:nowrap;-moz-user-select:text}.gb_pd{transition:background-color .4s}.gb_Nd{color:black}.gb_Lc{color:white}.gb_Fa a,.gb_Pc a{color:inherit}.gb_ba{color:rgba(0,0,0,.87)}.gb_Fa svg,.gb_Pc svg,.gb_sd .gb_td,.gb_2c .gb_td{color:#5f6368;opacity:1}.gb_Lc svg,.gb_Pc.gb_Uc svg,.gb_Lc .gb_sd .gb_td,.gb_Lc .gb_sd .gb_Kc,.gb_Lc .gb_sd .gb_vd,.gb_Pc.gb_Uc .gb_td{color:rgba(255,255,255,.87)}.gb_Lc .gb_sd .gb_Od:not(.gb_Pd){opacity:.87}.gb_ad{color:inherit;opacity:1;text-rendering:optimizeLegibility;-moz-osx-font-smoothing:grayscale}.gb_Lc .gb_ad,.gb_Nd .gb_ad{opacity:1}.gb_Qd{position:relative}.gb_M{font-family:arial,sans-serif;line-height:normal;padding-right:15px}a.gb_X,span.gb_X{color:rgba(0,0,0,.87);text-decoration:none}.gb_Lc a.gb_X,.gb_Lc span.gb_X{color:white}a.gb_X:focus{outline-offset:2px}a.gb_X:hover{text-decoration:underline}.gb_Z{display:inline-block;padding-left:15px}.gb_Z .gb_X{display:inline-block;line-height:24px;vertical-align:middle}.gb_qd{font-family:Google Sans,Roboto,Helvetica,Arial,sans-serif;font-weight:500;font-size:14px;letter-spacing:.25px;line-height:16px;margin-left:10px;margin-right:8px;min-width:96px;padding:9px 23px;text-align:center;vertical-align:middle;border-radius:4px;-moz-box-sizing:border-box;box-sizing:border-box}.gb_Fa.gb_Jd .gb_qd{margin-left:8px}#gb a.gb_Ua.gb_qd{cursor:pointer}.gb_Ua.gb_qd:hover{background:#1b66c9;-moz-box-shadow:0 1px 3px 1px rgba(66,64,67,.15),0 1px 2px 0 rgba(60,64,67,.3);box-shadow:0 1px 3px 1px rgba(66,64,67,.15),0 1px 2px 0 rgba(60,64,67,.3)}.gb_Ua.gb_qd:focus,.gb_Ua.gb_qd:hover:focus{background:#1c5fba;-moz-box-shadow:0 1px 3px 1px rgba(66,64,67,.15),0 1px 2px 0 rgba(60,64,67,.3);box-shadow:0 1px 3px 1px rgba(66,64,67,.15),0 1px 2px 0 rgba(60,64,67,.3)}.gb_Ua.gb_qd:active{background:#1b63c1;-moz-box-shadow:0 1px 3px 1px rgba(66,64,67,.15),0 1px 2px 0 rgba(60,64,67,.3);box-shadow:0 1px 3px 1px rgba(66,64,67,.15),0 1px 2px 0 rgba(60,64,67,.3)}.gb_qd{background:#1a73e8;border:1px solid transparent}.gb_Fa.gb_cc .gb_qd{padding:9px 15px;min-width:80px}.gb_Rd{text-align:left}#gb .gb_Lc a.gb_qd:not(.gb_H),#gb.gb_Lc a.gb_qd{background:#fff;border-color:#dadce0;-moz-box-shadow:none;box-shadow:none;color:#1a73e8}#gb a.gb_Ua.gb_H.gb_qd{background:#8ab4f8;border:1px solid transparent;-moz-box-shadow:none;box-shadow:none;color:#202124}#gb .gb_Lc a.gb_qd:hover:not(.gb_H),#gb.gb_Lc a.gb_qd:hover{background:#f8fbff;border-color:#cce0fc}#gb a.gb_Ua.gb_H.gb_qd:hover{background:#93baf9;border-color:transparent;-moz-box-shadow:0 1px 3px 1px rgba(0,0,0,.15),0 1px 2px rgba(0,0,0,.3);box-shadow:0 1px 3px 1px rgba(0,0,0,.15),0 1px 2px rgba(0,0,0,.3)}#gb .gb_Lc a.gb_qd:focus:not(.gb_H),#gb .gb_Lc a.gb_qd:focus:hover:not(.gb_H),#gb.gb_Lc a.gb_qd:focus:not(.gb_H),#gb.gb_Lc a.gb_qd:focus:hover:not(.gb_H){background:#f4f8ff;outline:1px solid #c9ddfc}#gb a.gb_Ua.gb_H.gb_qd:focus,#gb a.gb_Ua.gb_H.gb_qd:focus:hover{background:#a6c6fa;border-color:transparent;-moz-box-shadow:none;box-shadow:none}#gb .gb_Lc a.gb_qd:active:not(.gb_H),#gb.gb_Lc a.gb_qd:active{background:#ecf3fe}#gb a.gb_Ua.gb_H.gb_qd:active{background:#a1c3f9;-moz-box-shadow:0 1px 2px rgba(60,64,67,.3),0 2px 6px 2px rgba(60,64,67,.15);box-shadow:0 1px 2px rgba(60,64,67,.3),0 2px 6px 2px rgba(60,64,67,.15)}.gb_K{display:none}@media screen and (max-width:319px){.gb_ld .gb_J{display:none;visibility:hidden}}.gb_Wa{background-color:rgba(255,255,255,.88);border:1px solid #dadce0;-moz-box-sizing:border-box;box-sizing:border-box;cursor:pointer;display:inline-block;max-height:48px;overflow:hidden;outline:none;padding:0;vertical-align:middle;width:134px;-moz-border-radius:8px;border-radius:8px}.gb_Wa.gb_H{background-color:transparent;border:1px solid #5f6368}.gb_3a{display:inherit}.gb_Wa.gb_H .gb_3a{background:#fff;-moz-border-radius:4px;border-radius:4px;display:inline-block;left:8px;margin-right:5px;position:relative;padding:3px;top:-1px}.gb_Wa:hover{border:1px solid #d2e3fc;background-color:rgba(248,250,255,.88)}.gb_Wa.gb_H:hover{background-color:rgba(241,243,244,.04);border:1px solid #5f6368}.gb_Wa:focus-visible,.gb_Wa:focus{background-color:#fff;outline:1px solid #202124;-moz-box-shadow:0 1px 2px 0 rgba(60,64,67,.3),0 1px 3px 1px rgba(60,64,67,.15);box-shadow:0 1px 2px 0 rgba(60,64,67,.3),0 1px 3px 1px rgba(60,64,67,.15)}.gb_Wa.gb_H:focus-visible,.gb_Wa.gb_H:focus{background-color:rgba(241,243,244,.12);outline:1px solid #f1f3f4;-moz-box-shadow:0 1px 3px 1px rgba(0,0,0,.15),0 1px 2px 0 rgba(0,0,0,.3);box-shadow:0 1px 3px 1px rgba(0,0,0,.15),0 1px 2px 0 rgba(0,0,0,.3)}.gb_Wa.gb_H:active,.gb_Wa.gb_Tc.gb_H:focus{background-color:rgba(241,243,244,.1);border:1px solid #5f6368}.gb_4a{display:inline-block;padding-bottom:2px;padding-left:7px;padding-top:2px;text-align:center;vertical-align:middle;line-height:32px;width:78px}.gb_Wa.gb_H .gb_4a{line-height:26px;margin-left:0;padding-bottom:0;padding-left:0;padding-top:0;width:72px}.gb_4a.gb_5a{background-color:#f1f3f4;-moz-border-radius:4px;border-radius:4px;margin-left:8px;padding-left:0;line-height:30px}.gb_4a.gb_5a .gb_Ic{vertical-align:middle}.gb_Fa:not(.gb_cc) .gb_Wa{margin-left:10px;margin-right:4px}.gb_Sd{max-height:32px;width:78px}.gb_Wa.gb_H .gb_Sd{max-height:26px;width:72px}.gb_P{background-size:32px 32px;border:0;-moz-border-radius:50%;border-radius:50%;display:block;margin:0px;position:relative;height:32px;width:32px;z-index:0}.gb_eb{background-color:#e8f0fe;border:1px solid rgba(32,33,36,.08);position:relative}.gb_eb.gb_P{height:30px;width:30px}.gb_eb.gb_P:hover,.gb_eb.gb_P:active{-moz-box-shadow:none;box-shadow:none}.gb_fb{background:#fff;border:none;-moz-border-radius:50%;border-radius:50%;bottom:2px;-moz-box-shadow:0px 1px 2px 0px rgba(60,64,67,.30),0px 1px 3px 1px rgba(60,64,67,.15);box-shadow:0px 1px 2px 0px rgba(60,64,67,.30),0px 1px 3px 1px rgba(60,64,67,.15);height:14px;margin:2px;position:absolute;right:0;width:14px}.gb_wc{color:#1f71e7;font:400 22px/32px Google Sans,Roboto,Helvetica,Arial,sans-serif;text-align:center;text-transform:uppercase}@media (-webkit-min-device-pixel-ratio:1.25),(min-resolution:1.25dppx),(min-device-pixel-ratio:1.25){.gb_P::before,.gb_gb::before{display:inline-block;transform:scale(0.5);transform-origin:left 0}.gb_3 .gb_gb::before{transform:scale(scale(0.416666667))}}.gb_P:hover,.gb_P:focus{-moz-box-shadow:0 1px 0 rgba(0,0,0,.15);box-shadow:0 1px 0 rgba(0,0,0,.15)}.gb_P:active{-moz-box-shadow:inset 0 2px 0 rgba(0,0,0,.15);box-shadow:inset 0 2px 0 rgba(0,0,0,.15)}.gb_P:active::after{background:rgba(0,0,0,.1);-moz-border-radius:50%;border-radius:50%;content:"";display:block;height:100%}.gb_hb{cursor:pointer;line-height:40px;min-width:30px;opacity:.75;overflow:hidden;vertical-align:middle;text-overflow:ellipsis}.gb_B.gb_hb{width:auto}.gb_hb:hover,.gb_hb:focus{opacity:.85}.gb_gd .gb_hb,.gb_gd .gb_Ud{line-height:26px}#gb#gb.gb_gd a.gb_hb,.gb_gd .gb_Ud{font-size:11px;height:auto}.gb_ib{border-top:4px solid #000;border-left:4px dashed transparent;border-right:4px dashed transparent;display:inline-block;margin-left:6px;opacity:.75;vertical-align:middle}.gb_Za:hover .gb_ib{opacity:.85}.gb_Wa>.gb_z{padding:3px 3px 3px 4px}.gb_Vd.gb_nd{color:#fff}.gb_1 .gb_hb,.gb_1 .gb_ib{opacity:1}#gb#gb.gb_1.gb_1 a.gb_hb,#gb#gb .gb_1.gb_1 a.gb_hb{color:#fff}.gb_1.gb_1 .gb_ib{border-top-color:#fff;opacity:1}.gb_ka .gb_P:hover,.gb_1 .gb_P:hover,.gb_ka .gb_P:focus,.gb_1 .gb_P:focus{-moz-box-shadow:0 1px 0 rgba(0,0,0,.15),0 1px 2px rgba(0,0,0,.2);box-shadow:0 1px 0 rgba(0,0,0,.15),0 1px 2px rgba(0,0,0,.2)}.gb_Wd .gb_z,.gb_Xd .gb_z{position:absolute;right:1px}.gb_z.gb_0,.gb_jb.gb_0,.gb_Za.gb_0{-moz-box-flex:0;flex:0 1 auto}.gb_Zd.gb_0d .gb_hb{width:30px!important}.gb_1d{height:40px;position:absolute;right:-5px;top:-5px;width:40px}.gb_2d .gb_1d,.gb_3d .gb_1d{right:0;top:0}.gb_z .gb_B{padding:4px}.gb_S{display:none}sentinel{}</style><script nonce="">;this.gbar_={CONFIG:[[[0,"www.gstatic.com","og.qtm.en_US.Bvq7OK2_7ZA.2019.O","com.sa","en-GB","425",0,[4,2,"","","","725022048","0"],null,"_CKyZ6fSM4eHp84P-56p0AI",null,0,"og.qtm.8pptAPbABqk.L.F4.O","AA2YrTs9um7nM7ISNupfodds9-y7C7I4sA","AA2YrTtuzhea0kp8k7Fuae4wH5AjxW34MA","",2,1,200,"SAU",null,null,"425","425",1,null,null,114591953,null,0],null,[1,0.1000000014901161,2,1],null,[1,0,0,null,"0","azamsud.745.745@gmail.com","","AAc6HT0Ho-dgCGRBX6iknOWv-n3zbEnVXPirFcpnuZWQjVgVbaO-AIijezp4urLfbk-ImMlzdJ0C1oOQf-m5tKeqEmI9IZbVDw",0,0,0,""],[0,0,"",1,0,0,0,0,0,0,null,0,0,null,0,0,null,null,0,0,0,"","","","","","",null,0,0,0,0,0,null,null,null,"rgba(32,33,36,1)","rgba(255,255,255,1)",0,0,0,null,null,null,0],["%1$s (default)","Brand account",1,"%1$s (delegated)",1,null,83,"https://colab.research.google.com/drive/1E_kL3EyTqBz1yGV1-U_Q0tp31V0gxg4x?authuser=$authuser",null,null,null,1,"https://accounts.google.com/ListAccounts?listPages=0\u0026pid=425\u0026gpsia=1\u0026source=ogb\u0026atic=1\u0026mo=1\u0026mn=1\u0026hl=en-GB\u0026ts=250",0,"dashboard",null,null,null,null,"Profile","",1,null,"Signed out","https://accounts.google.com/AccountChooser?source=ogb\u0026continue=$continue\u0026Email=$email\u0026ec=GAhAqQM","https://accounts.google.com/RemoveLocalAccount?source=ogb","Remove","Sign in",0,1,1,0,1,1,0,null,null,null,"Session expired",null,null,null,"Visitor",null,"Default","Delegated","Sign out of all accounts",0,null,null,0,null,null,"myaccount.google.com","https",0,1,0],null,["1","gci_91f30755d6a6b787dcc2a4062e6e9824.js","googleapis.client:gapi.iframes","0","en-GB"],null,null,null,null,["m;/_/scs/abc-static/_/js/k=gapi.gapi.en.l2ZUC8FxqV8.O/d=1/rs=AHpOoo9xAAkaXO7Lqf7-9uTpZLtrkpWaXQ/m=__features__","https://apis.google.com","","","1","",null,1,"es_plusone_gc_20241202.0_p2","en-GB",null,0],[0.009999999776482582,"com.sa","425",[null,"","0",null,1,5184000,null,null,"",null,null,null,null,null,0,null,0,null,1,0,0,0,null,null,0,0,null,0,0,0,0,0],null,null,null,0],[1,null,null,40400,425,"SAU","en-GB","725022048.0",8,null,1,0,null,null,null,null,"3700949",null,null,null,"_CKyZ6fSM4eHp84P-56p0AI",0,0,0,null,2,5,"nn",76,0,0,0,0,1,114591953,0,0],[[null,null,null,"https://www.gstatic.com/og/_/js/k=og.qtm.en_US.Bvq7OK2_7ZA.2019.O/rt=j/m=qabr,qgl,q_dnp,qcwid,qbd,qapid,qads,qrcd,q_dg/exm=qaaw,qadd,qaid,qein,qhaw,qhba,qhbr,qhch,qhga,qhid,qhin/d=1/ed=1/rs=AA2YrTs9um7nM7ISNupfodds9-y7C7I4sA"],[null,null,null,"https://www.gstatic.com/og/_/ss/k=og.qtm.8pptAPbABqk.L.F4.O/m=qcwid,qba/excm=qaaw,qadd,qaid,qein,qhaw,qhba,qhbr,qhch,qhga,qhid,qhin/d=1/ed=1/ct=zgms/rs=AA2YrTtuzhea0kp8k7Fuae4wH5AjxW34MA"]],null,null,null,[[[null,null,[null,null,null,"https://ogs.google.com/u/0/widget/account?yac=1\u0026amb=1"],0,414,436,57,4,1,0,0,65,66,8000,"https://accounts.google.com/SignOutOptions?hl=en-GB\u0026continue=https://colab.research.google.com/drive/1E_kL3EyTqBz1yGV1-U_Q0tp31V0gxg4x\u0026ec=GBRAqQM",68,2,null,null,1,113,"Something went wrong.%1$s Refresh to try again or %2$schoose another account%3$s.",3,null,null,75,0,null,null,null,null,null,null,null,"/widget/account",["https","myaccount.google.com",0,32,83,0],0,0,1,["Critical security alert","Important account alert","Storage usage alert",1,1],0,1,null,1,1,1,1,null,null,0,0,0,null,0,0],[null,null,[null,null,null,"https://ogs.google.com/u/0/widget/callout/sid?dc=1"],null,280,420,70,25,0,null,0,null,null,8000,null,71,4,null,null,null,null,null,null,null,null,76,null,null,null,107,108,109,"",null,null,null,null,null,null,null,null,null,null,null,null,null,null,null,null,null,null,null,null,0]],null,null,"425","425",1,0,null,"en-GB",0,["https://colab.research.google.com/drive/1E_kL3EyTqBz1yGV1-U_Q0tp31V0gxg4x?authuser=$authuser","https://accounts.google.com/AddSession?hl=en-GB\u0026continue=https://colab.research.google.com/drive/1E_kL3EyTqBz1yGV1-U_Q0tp31V0gxg4x\u0026ec=GAlAqQM","https://accounts.google.com/Logout?hl=en-GB\u0026continue=https://colab.research.google.com/drive/1E_kL3EyTqBz1yGV1-U_Q0tp31V0gxg4x\u0026timeStmp=1739727612\u0026secTok=.AG5fkS8OmCY8uQ1nWKGv_3iBN6qrj33CaA\u0026ec=GAdAqQM","https://accounts.google.com/ListAccounts?listPages=0\u0026pid=425\u0026gpsia=1\u0026source=ogb\u0026atic=1\u0026mo=1\u0026mn=1\u0026hl=en-GB\u0026ts=250",0,0,"",0,0,null,0,0,"https://accounts.google.com/ServiceLogin?passive=true\u0026continue=https%3A%2F%2Fcolab.research.google.com%2Fdrive%2F1E_kL3EyTqBz1yGV1-U_Q0tp31V0gxg4x\u0026ec=GAZAqQM",1,1,0,0,null,0],0,0,0,[null,"",null,null,null,1,null,0,0,"","","","https://ogads-pa.clients6.google.com",0,0,0,"","",0,0,null,86400,null,1,1,null,0,null,0],0,null,null,null,1],null,[["mousedown","touchstart","touchmove","wheel","keydown"],300000],[[null,null,null,"https://accounts.google.com/RotateCookiesPage"],3,null,null,null,0,1]]],};this.gbar_=this.gbar_||{};(function(_){var window=this;
try{
_._F_toggles_initialize=function(a){(typeof globalThis!=="undefined"?globalThis:typeof self!=="undefined"?self:this)._F_toggles=a||[]};(0,_._F_toggles_initialize)([]);
/*

 Copyright The Closure Library Authors.
 SPDX-License-Identifier: Apache-2.0
*/
var ca,ka,la,pa,ra,sa,Ba,Ca,Ea,Ja,Ka,Oa,Ra,La,Qa,Pa,Na,Ma,Sa,Ta,db,fb,eb,jb,lb,hb,mb,wb,xb,yb,zb;_.aa=function(a,b){if(Error.captureStackTrace)Error.captureStackTrace(this,_.aa);else{const c=Error().stack;c&&(this.stack=c)}a&&(this.message=String(a));b!==void 0&&(this.cause=b)};_.ba=function(a){a.Fj=!0;return a};ca=function(a,b){if(a.length>b.length)return!1;if(a.length<b.length||a===b)return!0;for(let c=0;c<a.length;c++){const d=a[c],e=b[c];if(d>e)return!1;if(d<e)return!0}};
_.da=function(a){_.t.setTimeout(()=>{throw a;},0)};_.fa=function(){return _.ea().toLowerCase().indexOf("webkit")!=-1};_.ea=function(){var a=_.t.navigator;return a&&(a=a.userAgent)?a:""};ka=function(a){return ha?ja?ja.brands.some(({brand:b})=>b&&b.indexOf(a)!=-1):!1:!1};_.u=function(a){return _.ea().indexOf(a)!=-1};la=function(){return ha?!!ja&&ja.brands.length>0:!1};_.ma=function(){return la()?!1:_.u("Opera")};_.na=function(){return la()?!1:_.u("Trident")||_.u("MSIE")};
_.oa=function(){return _.u("Firefox")||_.u("FxiOS")};_.qa=function(){return _.u("Safari")&&!(pa()||(la()?0:_.u("Coast"))||_.ma()||(la()?0:_.u("Edge"))||(la()?ka("Microsoft Edge"):_.u("Edg/"))||(la()?ka("Opera"):_.u("OPR"))||_.oa()||_.u("Silk")||_.u("Android"))};pa=function(){return la()?ka("Chromium"):(_.u("Chrome")||_.u("CriOS"))&&!(la()?0:_.u("Edge"))||_.u("Silk")};ra=function(){return ha?!!ja&&!!ja.platform:!1};sa=function(){return _.u("iPhone")&&!_.u("iPod")&&!_.u("iPad")};
_.ta=function(){return sa()||_.u("iPad")||_.u("iPod")};_.ua=function(){return ra()?ja.platform==="macOS":_.u("Macintosh")};_.wa=function(a,b){return _.va(a,b)>=0};_.xa=function(a){let b="",c=0;const d=a.length-10240;for(;c<d;)b+=String.fromCharCode.apply(null,a.subarray(c,c+=10240));b+=String.fromCharCode.apply(null,c?a.subarray(c):a);return btoa(b)};_.ya=function(a){return a!=null&&a instanceof Uint8Array};
_.Aa=function(a,b=!1,c=!1){a=c&&Symbol.for&&a?Symbol.for(a):a!=null?Symbol(a):Symbol();b&&za.add(a);return a};Ba=function(a,b){b[_.v]=(a|0)&-30975};Ca=function(a,b){b[_.v]=(a|34)&-30941};_.Da=function(a){return Array.prototype.slice.call(a)};Ea=function(a){return a!==null&&typeof a==="object"&&!Array.isArray(a)&&a.constructor===Object};_.Fa=function(a){if(a&2)throw Error();};_.Ia=function(a){const b=_.Ga(_.Ha);return b?a[b]:void 0};Ja=function(a){return a};Ka=function(a){return a};
Oa=function(a,b,c,d){return La(a,b,c,d,Ma,Na)};Ra=function(a,b,c,d){return La(a,b,c,d,Pa,Qa)};
La=function(a,b,c,d,e,f){if(!c.length&&!d)return 0;var g=0;let h=0,k=0;var l=0;let m=0;for(var p=c.length-1;p>=0;p--){var r=c[p];d&&p===c.length-1&&r===d||(l++,r!=null&&k++)}if(d)for(var q in d)p=+q,isNaN(p)||(m+=Sa(p),h++,p>g&&(g=p));l=e(l,k)+f(h,g,m);q=k;p=h;r=g;let x=m;for(let F=c.length-1;F>=0;F--){var C=c[F];if(C==null||d&&F===c.length-1&&C===d)continue;C=F-b;const K=e(C,q)+f(p,r,x);K<l&&(a=1+C,l=K);p++;q--;x+=Sa(C);r=Math.max(r,C)}b=e(0,0)+f(p,r,x);b<l&&(a=0,l=b);if(d){p=h;r=g;x=m;q=k;for(const F in d)d=
+F,isNaN(d)||d>=1024||(p--,q++,x-=F.length,g=e(d,q)+f(p,r,x),g<l&&(a=1+d,l=g))}return a};Qa=function(a,b,c){return c+a*3+(a>1?a-1:0)};Pa=function(a,b){return(a>1?a-1:0)+(a-b)*4};Na=function(a,b){return a==0?0:9*Math.max(1<<32-Math.clz32(a+a/2-1),4)<=b?a==0?0:a<4?100+(a-1)*16:a<6?148+(a-4)*16:a<12?244+(a-6)*16:a<22?436+(a-12)*19:a<44?820+(a-22)*17:52+32*a:40+4*b};Ma=function(a){return 40+4*a};Sa=function(a){return a>=100?a>=1E4?Math.ceil(Math.log10(1+a)):a<1E3?3:4:a<10?1:2};
Ta=function(a,b){a.__closure__error__context__984382||(a.__closure__error__context__984382={});a.__closure__error__context__984382.severity=b};_.Ua=function(a){a=Error(a);Ta(a,"warning");return a};_.Wa=function(a){if(typeof a!=="boolean")throw Error("s`"+_.Va(a)+"`"+a);return a};_.Ya=function(a){if(!(0,_.Xa)(a))throw _.Ua("enum");return a|0};_.Za=function(a){if(typeof a!=="number")throw _.Ua("int32");if(!(0,_.Xa)(a))throw _.Ua("int32");return a|0};
_.$a=function(a){if(a!=null&&typeof a!=="string")throw Error();return a};_.ab=function(a){return a==null||typeof a==="string"?a:void 0};_.cb=function(a,b,c){if(a!=null&&typeof a==="object"&&a.Dd===_.bb)return a;if(Array.isArray(a)){var d=a[_.v]|0,e=d;e===0&&(e|=c&32);e|=c&2;e!==d&&(a[_.v]=e);return new b(a)}};
db=function(a,b,c){const d=_.Da(a);var e=d.length;const f=b&256?d[e-1]:void 0;e+=f?-1:0;for(b=b&512?1:0;b<e;b++)d[b]=c(d[b]);if(f){b=d[b]={};for(const g in f)b[g]=c(f[g])}(a=_.Ia(a))&&(d[_.Ha]=_.Da(a));return d};fb=function(a,b,c,d,e){if(a!=null){if(Array.isArray(a)){const f=a[_.v]|0;return a.length===0&&f&1?void 0:e&&f&2?a:eb(a,b,c,d!==void 0,e)}return b(a,d)}};
eb=function(a,b,c,d,e){const f=d||c?a[_.v]|0:0,g=d?!!(f&32):void 0;d=_.Da(a);let h=0;const k=d.length;for(let x=0;x<k;x++){var l=d[x];if(x===k-1&&Ea(l)){var m=b,p=c,r=g,q=e;let C=void 0;for(let F in l){const K=fb(l[F],m,p,r,q);if(K!=null){let H;((H=C)!=null?H:C={})[F]=K}}l=C}else l=fb(d[x],b,c,g,e);d[x]=l;l!=null&&(h=x+1)}h<k&&(d.length=h);c&&((a=_.Ia(a))&&(d[_.Ha]=_.Da(a)),c(f,d));return d};
jb=function(a){switch(typeof a){case "number":return Number.isFinite(a)?a:""+a;case "bigint":return(0,_.gb)(a)?Number(a):""+a;case "boolean":return a?1:0;case "object":if(_.ya(a))return _.xa(a);if(a.Dd===_.bb)return hb(a);if("function"==typeof _.ib&&a instanceof _.ib)return a.j();return}return a};lb=function(a,b){b&&(kb=b===Ka||b!==Ja&&b!==Oa&&b!==Ra?Ka:b);try{return hb(a)}finally{kb=void 0}};
hb=function(a){var b=a.ha;a=eb(b,jb,void 0,void 0,!1);var c=b[_.v]|0;if((b=a.length)&&!(c&512)){var d=a[b-1],e=!1;Ea(d)?(b--,e=!0):d=void 0;var f,g=(f=kb)!=null?f:Ka;f=c&512?0:-1;c=b-f;g=g(c,f,a,d);d&&(a[b]=void 0);if(c<g&&d){c=!0;for(var h in d){const k=+h;if(k<=g)e=k+f,a[e]=d[h],b=Math.max(e+1,b),e=!1,delete d[h];else{c=!1;break}}c&&(d=void 0)}for(c=b-1;b>0;c=b-1)if(h=a[c],h==null)b--,e=!0;else if(c-=f,c>=g){let k;((k=d)!=null?k:d={})[c]=h;b--;e=!0}else break;e&&(a.length=b);d&&a.push(d)}return a};
mb=function(a,b,c=Ca){if(a!=null){if(a instanceof Uint8Array)return b?a:new Uint8Array(a);if(Array.isArray(a)){var d=a[_.v]|0;if(d&2)return a;b&&(b=d===0||!!(d&32)&&!(d&64||!(d&16)));return b?(a[_.v]=(d|34)&-12293,a):eb(a,mb,d&4?Ca:c,!0,!0)}a.Dd===_.bb&&(c=a.ha,d=c[_.v]|0,a=d&2?a:new a.constructor(_.nb(c,d,!0)));return a}};_.nb=function(a,b,c){const d=c||b&2?Ca:Ba,e=!!(b&32);a=db(a,b,f=>mb(f,e,d));a[_.v]=a[_.v]|32|(c?2:0);return a};
_.ob=function(a){const b=a.ha,c=b[_.v]|0;return c&2?new a.constructor(_.nb(b,c,!1)):a};
_.pb=function(a,b,c,d){if(a==null){var e=96;c?(a=[c],e|=512):a=[];b&&(e=e&-33521665|(b&1023)<<15)}else{if(!Array.isArray(a))throw Error("v");e=a[_.v]|0;if(e&2048)throw Error("y");if(e&64)return a;d===1||d===2||(e|=64);if(c&&(e|=512,c!==a[0]))throw Error("z");a:{c=a;if(d=c.length){const f=d-1;if(Ea(c[f])){e|=256;b=f-(e&512?0:-1);if(b>=1024)throw Error("A");e=e&-33521665|(b&1023)<<15;break a}}if(b){b=Math.max(b,d-(e&512?0:-1));if(b>1024)throw Error("B");e=e&-33521665|(b&1023)<<15}}}a[_.v]=e;return a};
_.qb=function(a,b,c,d){const e=b&512?0:-1,f=c+e;var g=a.length-1;if(f>=g&&b&256)return a[g][c]=d,b;if(f<=g)return a[f]=d,b&256&&(a=a[g],c in a&&delete a[c]),b;d!==void 0&&(g=b>>15&1023||536870912,c>=g?d!=null&&(a[g+e]={[c]:d},b|=256,a[_.v]=b):a[f]=d);return b};_.sb=function(a,b,c,d){a=a.ha;let e=a[_.v]|0;d=_.rb(a,e,c,d);b=_.cb(d,b,e);b!==d&&b!=null&&_.qb(a,e,c,b);return b};_.tb=function(){const a=class{constructor(){throw Error();}};Object.setPrototypeOf(a,a.prototype);return a};
_.w=function(a,b){return a!=null?!!a:!!b};_.y=function(a,b){b==void 0&&(b="");return a!=null?a:b};_.ub=function(a,b,c){for(const d in a)b.call(c,a[d],d,a)};_.vb=function(a){for(const b in a)return!1;return!0};wb=Object.defineProperty;xb=function(a){a=["object"==typeof globalThis&&globalThis,a,"object"==typeof window&&window,"object"==typeof self&&self,"object"==typeof global&&global];for(var b=0;b<a.length;++b){var c=a[b];if(c&&c.Math==Math)return c}throw Error("a");};yb=xb(this);
zb=function(a,b){if(b)a:{var c=yb;a=a.split(".");for(var d=0;d<a.length-1;d++){var e=a[d];if(!(e in c))break a;c=c[e]}a=a[a.length-1];d=c[a];b=b(d);b!=d&&b!=null&&wb(c,a,{configurable:!0,writable:!0,value:b})}};zb("globalThis",function(a){return a||yb});zb("Symbol.dispose",function(a){return a?a:Symbol("b")});
zb("Promise.prototype.finally",function(a){return a?a:function(b){return this.then(function(c){return Promise.resolve(b()).then(function(){return c})},function(c){return Promise.resolve(b()).then(function(){throw c;})})}});var Bb,Fb;_.Ab=_.Ab||{};_.t=this||self;Bb=_.t._F_toggles||[];_.Cb=function(a,b){a=a.split(".");b=b||_.t;for(var c=0;c<a.length;c++)if(b=b[a[c]],b==null)return null;return b};_.Va=function(a){var b=typeof a;return b!="object"?b:a?Array.isArray(a)?"array":b:"null"};_.Db=function(a){var b=typeof a;return b=="object"&&a!=null||b=="function"};_.Eb="closure_uid_"+(Math.random()*1E9>>>0);Fb=function(a,b,c){return a.call.apply(a.bind,arguments)};_.z=function(a,b,c){_.z=Fb;return _.z.apply(null,arguments)};
_.Gb=function(a,b){var c=Array.prototype.slice.call(arguments,1);return function(){var d=c.slice();d.push.apply(d,arguments);return a.apply(this,d)}};_.A=function(a,b){a=a.split(".");for(var c=_.t,d;a.length&&(d=a.shift());)a.length||b===void 0?c[d]&&c[d]!==Object.prototype[d]?c=c[d]:c=c[d]={}:c[d]=b};_.Ga=function(a){return a};
_.B=function(a,b){function c(){}c.prototype=b.prototype;a.X=b.prototype;a.prototype=new c;a.prototype.constructor=a;a.wj=function(d,e,f){for(var g=Array(arguments.length-2),h=2;h<arguments.length;h++)g[h-2]=arguments[h];return b.prototype[e].apply(d,g)}};_.B(_.aa,Error);_.aa.prototype.name="CustomError";var Hb=!!(Bb[0]&2048);var Ib;if(Bb[0]&1024)Ib=Hb;else{var Jb=_.Cb("WIZ_global_data.oxN3nb"),Kb=Jb&&Jb[610401301];Ib=Kb!=null?Kb:!1}var ha=Ib;_.Lb=_.ba(a=>typeof a==="number");_.Mb=_.ba(a=>typeof a==="string");_.Nb=_.ba(a=>typeof a==="boolean");_.Ob=typeof _.t.BigInt==="function"&&typeof _.t.BigInt(0)==="bigint";var Rb,Pb,Sb,Qb;_.gb=_.ba(a=>_.Ob?a>=Pb&&a<=Qb:a[0]==="-"?ca(a,Rb):ca(a,Sb));Rb=Number.MIN_SAFE_INTEGER.toString();Pb=_.Ob?BigInt(Number.MIN_SAFE_INTEGER):void 0;Sb=Number.MAX_SAFE_INTEGER.toString();Qb=_.Ob?BigInt(Number.MAX_SAFE_INTEGER):void 0;_.Tb=typeof TextDecoder!=="undefined";_.Ub=typeof TextEncoder!=="undefined";var ja,Vb=_.t.navigator;ja=Vb?Vb.userAgentData||null:null;_.va=function(a,b){return Array.prototype.indexOf.call(a,b,void 0)};_.Wb=function(a,b,c){Array.prototype.forEach.call(a,b,c)};_.Xb=function(a,b){return Array.prototype.some.call(a,b,void 0)};_.Yb=function(a){_.Yb[" "](a);return a};_.Yb[" "]=function(){};var kc;_.Zb=_.ma();_.$b=_.na();_.ac=_.u("Edge");_.bc=_.u("Gecko")&&!(_.fa()&&!_.u("Edge"))&&!(_.u("Trident")||_.u("MSIE"))&&!_.u("Edge");_.cc=_.fa()&&!_.u("Edge");_.dc=_.ua();_.ec=ra()?ja.platform==="Windows":_.u("Windows");_.fc=ra()?ja.platform==="Android":_.u("Android");_.gc=sa();_.hc=_.u("iPad");_.ic=_.u("iPod");_.jc=_.ta();
a:{let a="";const b=function(){const c=_.ea();if(_.bc)return/rv:([^\);]+)(\)|;)/.exec(c);if(_.ac)return/Edge\/([\d\.]+)/.exec(c);if(_.$b)return/\b(?:MSIE|rv)[: ]([^\);]+)(\)|;)/.exec(c);if(_.cc)return/WebKit\/(\S+)/.exec(c);if(_.Zb)return/(?:Version)[ \/]?(\S+)/.exec(c)}();b&&(a=b?b[1]:"");if(_.$b){var lc;const c=_.t.document;lc=c?c.documentMode:void 0;if(lc!=null&&lc>parseFloat(a)){kc=String(lc);break a}}kc=a}_.mc=kc;_.nc=_.oa();_.oc=sa()||_.u("iPod");_.pc=_.u("iPad");_.qc=_.u("Android")&&!(pa()||_.oa()||_.ma()||_.u("Silk"));_.rc=pa();_.sc=_.qa()&&!_.ta();var za,tc;za=new Set;tc=_.Aa();_.Ha=_.Aa(void 0,!0);_.v=_.Aa("jas",!0,!0);var vc;_.bb={};vc=[];vc[_.v]=55;_.uc=Object.freeze(vc);_.wc=Object.freeze({});var xc=void 0;_.yc=typeof BigInt==="function"?BigInt.asIntN:void 0;_.zc=Number.isSafeInteger;_.Xa=Number.isFinite;_.Ac=Math.trunc;var kb;_.Bc=function(a,b){a=a.ha;return _.rb(a,a[_.v]|0,b)};_.rb=function(a,b,c,d){if(c===-1)return null;const e=c+(b&512?0:-1),f=a.length-1;if(e>=f&&b&256)return a[f][c];if(d&&b&256&&(b=a[f][c],b!=null)){if(a[e]!=null&&tc!=null){var g;a=(g=xc)!=null?g:xc={};g=a[tc]||0;g>=4||(a[tc]=g+1,g=Error(),Ta(g,"incident"),_.da(g))}return b}if(e<=f)return a[e]};_.Cc=function(a,b,c){const d=a.ha;let e=d[_.v]|0;_.Fa(e);_.qb(d,e,b,c);return a};
_.D=function(a,b,c,d=!1){b=_.sb(a,b,c,d);if(b==null)return b;a=a.ha;d=a[_.v]|0;if(!(d&2)){const e=_.ob(b);e!==b&&(b=e,_.qb(a,d,c,b))}return b};_.E=function(a,b,c){c==null&&(c=void 0);return _.Cc(a,b,c)};_.G=function(a,b){a=_.Bc(a,b);return a==null||typeof a==="boolean"?a:typeof a==="number"?!!a:void 0};_.I=function(a,b){return _.ab(_.Bc(a,b))};_.J=function(a,b,c=!1){let d;return(d=_.G(a,b))!=null?d:c};_.L=function(a,b){let c;return(c=_.I(a,b))!=null?c:""};
_.M=function(a,b,c){return _.Cc(a,b,c==null?c:_.Wa(c))};_.N=function(a,b,c){return _.Cc(a,b,c==null?c:_.Za(c))};_.O=function(a,b,c){return _.Cc(a,b,_.$a(c))};_.P=function(a,b,c){return _.Cc(a,b,c==null?c:_.Ya(c))};_.Q=class{constructor(a,b,c){this.ha=_.pb(a,b,c)}toJSON(){return lb(this)}ya(a){return JSON.stringify(lb(this,a))}nc(){return!!((this.ha[_.v]|0)&2)}};_.Q.prototype.Dd=_.bb;_.Q.prototype.toString=function(){return this.ha.toString()};_.Dc=_.tb();_.Gc=_.tb();_.Hc=_.tb();var Ic=class extends _.Q{constructor(a){super(a)}};_.Jc=class extends _.Q{constructor(a){super(a)}D(a){return _.N(this,3,a)}};var Kc=class extends _.Q{constructor(a){super(a)}Gc(a){return _.O(this,24,a)}};_.Lc=class extends _.Q{constructor(a){super(a)}};_.R=function(){this.qa=this.qa;this.Y=this.Y};_.R.prototype.qa=!1;_.R.prototype.isDisposed=function(){return this.qa};_.R.prototype.dispose=function(){this.qa||(this.qa=!0,this.P())};_.R.prototype[Symbol.dispose]=function(){this.dispose()};_.R.prototype.P=function(){if(this.Y)for(;this.Y.length;)this.Y.shift()()};var Mc=class extends _.R{constructor(){var a=window;super();this.o=a;this.i=[];this.j={}}resolve(a){let b=this.o;a=a.split(".");const c=a.length;for(let d=0;d<c;++d)if(b[a[d]])b=b[a[d]];else return null;return b instanceof Function?b:null}nb(){const a=this.i.length,b=this.i,c=[];for(let d=0;d<a;++d){const e=b[d].i(),f=this.resolve(e);if(f&&f!=this.j[e])try{b[d].nb(f)}catch(g){}else c.push(b[d])}this.i=c.concat(b.slice(a))}};var Oc=class extends _.R{constructor(){var a=_.Nc;super();this.o=a;this.A=this.i=null;this.v=0;this.B={};this.j=!1;a=window.navigator.userAgent;a.indexOf("MSIE")>=0&&a.indexOf("Trident")>=0&&(a=/\b(?:MSIE|rv)[: ]([^\);]+)(\)|;)/.exec(a))&&a[1]&&parseFloat(a[1])<9&&(this.j=!0)}C(a,b){this.i=b;this.A=a;b.preventDefault?b.preventDefault():b.returnValue=!1}};_.Pc=class extends _.Q{constructor(a){super(a)}};var Qc=class extends _.Q{constructor(a){super(a)}};var Tc;_.Rc=function(a,b,c=98,d=new _.Jc){if(a.i){const e=new Ic;_.O(e,1,b.message);_.O(e,2,b.stack);_.N(e,3,b.lineNumber);_.P(e,5,1);_.E(d,40,e);a.i.log(c,d)}};Tc=class{constructor(){var a=Sc;this.i=null;_.J(a,4,!0)}log(a,b,c=new _.Jc){_.Rc(this,a,98,c)}};var Uc,Vc;Uc=function(a){if(a.o.length>0){var b=a.i!==void 0,c=a.j!==void 0;if(b||c){b=b?a.v:a.A;c=a.o;a.o=[];try{_.Wb(c,b,a)}catch(d){console.error(d)}}}};_.Wc=class{constructor(a){this.i=a;this.j=void 0;this.o=[]}then(a,b,c){this.o.push(new Vc(a,b,c));Uc(this)}resolve(a){if(this.i!==void 0||this.j!==void 0)throw Error("F");this.i=a;Uc(this)}reject(a){if(this.i!==void 0||this.j!==void 0)throw Error("F");this.j=a;Uc(this)}v(a){a.j&&a.j.call(a.i,this.i)}A(a){a.o&&a.o.call(a.i,this.j)}};
Vc=class{constructor(a,b,c){this.j=a;this.o=b;this.i=c}};_.Xc=a=>{var b="jc";if(a.jc&&a.hasOwnProperty(b))return a.jc;b=new a;return a.jc=b};_.Yc=class{constructor(){this.v=new _.Wc;this.i=new _.Wc;this.D=new _.Wc;this.B=new _.Wc;this.C=new _.Wc;this.A=new _.Wc;this.o=new _.Wc;this.j=new _.Wc;this.F=new _.Wc}Y(){return this.v}M(){return this.i}N(){return this.D}L(){return this.B}qa(){return this.C}K(){return this.A}J(){return this.o}G(){return this.j}static i(){return _.Xc(_.Yc)}};var bd;_.$c=function(){return _.D(_.Zc,Kc,1)};_.ad=function(){return _.D(_.Zc,_.Lc,5)};bd=class extends _.Q{constructor(a){super(a)}};var cd;window.gbar_&&window.gbar_.CONFIG?cd=window.gbar_.CONFIG[0]||{}:cd=[];_.Zc=new bd(cd);var Sc=_.D(_.Zc,Qc,3)||new Qc;_.$c()||new Kc;_.Nc=new Tc;_.A("gbar_._DumpException",function(a){_.Nc?_.Nc.log(a):console.error(a)});_.dd=new Oc;var fd;_.gd=function(a,b){var c=_.ed.i();if(a in c.i){if(c.i[a]!=b)throw new fd;}else{c.i[a]=b;const h=c.j[a];if(h)for(let k=0,l=h.length;k<l;k++){b=h[k];var d=c.i;delete b.i[a];if(_.vb(b.i)){for(var e=b.j.length,f=Array(e),g=0;g<e;g++)f[g]=d[b.j[g]];b.o.apply(b.v,f)}}delete c.j[a]}};_.ed=class{constructor(){this.i={};this.j={}}static i(){return _.Xc(_.ed)}};_.hd=class extends _.aa{constructor(){super()}};fd=class extends _.hd{};_.A("gbar.A",_.Wc);_.Wc.prototype.aa=_.Wc.prototype.then;_.A("gbar.B",_.Yc);_.Yc.prototype.ba=_.Yc.prototype.M;_.Yc.prototype.bb=_.Yc.prototype.N;_.Yc.prototype.bd=_.Yc.prototype.qa;_.Yc.prototype.bf=_.Yc.prototype.Y;_.Yc.prototype.bg=_.Yc.prototype.L;_.Yc.prototype.bh=_.Yc.prototype.K;_.Yc.prototype.bj=_.Yc.prototype.J;_.Yc.prototype.bk=_.Yc.prototype.G;_.A("gbar.a",_.Yc.i());window.gbar&&window.gbar.ap&&window.gbar.ap(window.gbar.a);var id=new Mc;_.gd("api",id);
var jd=_.ad()||new _.Lc,kd=window,ld=_.y(_.I(jd,8));kd.__PVT=ld;_.gd("eq",_.dd);
}catch(e){_._DumpException(e)}
try{
_.md=class extends _.Q{constructor(a){super(a)}};
}catch(e){_._DumpException(e)}
try{
var od=class extends _.Q{constructor(a){super(a)}};var pd=class extends _.R{constructor(){super();this.j=[];this.i=[]}o(a,b){this.j.push({features:a,options:b!=null?b:null})}init(a,b,c){window.gapi={};const d=window.___jsl={};d.h=_.y(_.I(a,1));_.G(a,12)!=null&&(d.dpo=_.w(_.J(a,12)));d.ms=_.y(_.I(a,2));d.m=_.y(_.I(a,3));d.l=[];_.L(b,1)&&(a=_.I(b,3))&&this.i.push(a);_.L(c,1)&&(c=_.I(c,2))&&this.i.push(c);_.A("gapi.load",(0,_.z)(this.o,this));return this}};var qd=_.D(_.Zc,_.Pc,14);if(qd){var rd=_.D(_.Zc,_.md,9)||new _.md,sd=new od,td=new pd;td.init(qd,rd,sd);_.gd("gs",td)};
}catch(e){_._DumpException(e)}
})(this.gbar_);
// Google Inc.
</script><script nonce="">try {const preferences = JSON.parse(window.localStorage.getItem("datalab_prefs_azamsud.745.745@gmail.com")); document.querySelector('html') .setAttribute('theme', preferences['siteTheme'] || 'default');} catch (e) {}</script><script nonce="">window.performance.mark('head_start');</script><link rel="stylesheet" href="loops_and_condition_Lab_files/bundle.css"><script nonce="">var colabVersionTag = 'colab_20250213-060120_RC00_726405724'; var colabScsVersion = 'a188df2f7c7f6efd88ca6912c9fd7438'; var hl = 'en-GB'; var colabExperiments = JSON.parse('\x7b\x22add_prompt_cell\x22: false, \x22ai_banner\x22: false, \x22ai_unsubscribed_warning\x22: false, \x22ai_user_input_char_limit\x22: 2000, \x22aida_complete_code_model_id\x22: \x22\x22, \x22aida_converse_max_facts\x22: 20, \x22aida_do_conversation_model_id\x22: \x22\x22, \x22aida_generate_code_model_id\x22: \x22\x22, \x22allow_dsa_page_interaction\x22: false, \x22allow_readonly_cells\x22: true, \x22allowed_public_url_domains\x22: \x5b\x22huggingface.co\x22, \x22dagshub.com\x22, \x22storage.googleapis.com\x22\x5d, \x22auto_open_chat_on_empty_notebook\x22: false, \x22backend_url_allowlist\x22: \x5b\x22localhost\x22, \x22127.0.0.1\x22, \x22\x5b::1\x5d\x22, \x22kkb-production.jupyter-proxy.kaggle.net\x22\x5d, \x22backend_version\x22: \x22next\x22, \x22backtracking_strategy\x22: \x22non-literals\x22, \x22cell_markdown_toolbar_tooltips\x22: true, \x22cell_output_actions_tooltip\x22: true, \x22cell_tags\x22: false, \x22cell_toolbar_ai_menu\x22: true, \x22cell_toolbar_tooltips\x22: true, \x22cell_ui_refresh\x22: false, \x22chat_explain_error_temp\x22: \x221.0\x22, \x22chat_model_id_override\x22: \x22\x22, \x22chat_reduce_refusals\x22: true, \x22classified_generate\x22: false, \x22classroom_iframe_parent_origin\x22: \x22\x22, \x22client_text_compose\x22: true, \x22client_trim_completion_text\x22: 400, \x22cloud_origin\x22: \x22\x22, \x22code_report_millis\x22: 600000, \x22commands_in_toolbar\x22: false, \x22comment_poll_long\x22: 900000, \x22comment_poll_short\x22: 60000, \x22compose_skip_suffix_check\x22: false, \x22converse_server_side_history\x22: false, \x22converse_temp\x22: \x22\x22, \x22crawler\x22: false, \x22create_gemini_api_key\x22: false, \x22critique_comments\x22: false, \x22dbu\x22: \x22\x22, \x22debug_external\x22: \x22external\x22, \x22debug_prod\x22: \x22prod\x22, \x22dep_cells_commands\x22: true, \x22dep_cells_enabled\x22: false, \x22dep_graph\x22: false, \x22development\x22: false, \x22document_change_poll_interval\x22: 30000, \x22drive_anon_api_key\x22: \x22AIzaSyB10s2vWUTwP0pj20wZoxmpZIt3rRodYeg\x22, \x22drive_api_key\x22: \x22AIzaSyCN_sSPJMpYrAzC5AtTrltNC8oRmLtoqBk\x22, \x22drive_background_save_project_number\x22: \x22948411933973\x22, \x22drive_realtime_project_number\x22: \x22\x22, \x22drop_chat_links\x22: true, \x22dsa\x22: false, \x22embedding_app\x22: \x22\x22, \x22enable_adhoc_backends\x22: false, \x22enable_agent_connect_to_new_vm\x22: true, \x22enable_completions_backend_switching\x22: false, \x22enable_dasher_subscription_ui\x22: true, \x22enable_more_reprs\x22: true, \x22enable_mpp_orc_model_overrides\x22: true, \x22enable_rt_on_create\x22: false, \x22execution_announcements\x22: true, \x22execution_status_propagation\x22: true, \x22explain_cell\x22: true, \x22explain_error\x22: true, \x22explain_error_model_id_override\x22: \x22\x22, \x22explain_error_trim_traceback\x22: true, \x22explicit_ai_backend\x22: \x22\x22, \x22external_trusted_github_org_repos_quick_add\x22: \x22GoogleChrome\/CrUX,google\/generative-ai-docs,google-health\/cxr-foundation,google-health\/derm-foundation,google-health\/path-foundation\x22, \x22file_browser_poll_interval_millis\x22: 10000, \x22file_upload_rate_limit\x22: 5, \x22filter_repetitive_suggestions\x22: false, \x22first_party_auth\x22: true, \x22fix_imports\x22: false, \x22gemini_rebrand\x22: true, \x22generate_code\x22: true, \x22generate_df\x22: true, \x22generate_prompt_reduce_blank_responses\x22: false, \x22generate_prompt_reduce_name_errors\x22: false, \x22generate_temp\x22: \x22\x22, \x22get_started\x22: false, \x22gis_auth\x22: true, \x22github_client_id\x22: \x225036cf6d81e65aaa6340\x22, \x22gpu_utilization_check_interval_ms\x22: 600000, \x22granular_browser_permissions\x22: true, \x22hats_surveys\x22: true, \x22hrc\x22: false, \x22i18n_runtime_labels\x22: true, \x22import_data\x22: false, \x22import_gemini_api_key\x22: true, \x22include_df_vars_in_ai_conversation_context\x22: false, \x22inline_completion_ai_campaign_max_views\x22: 3, \x22inline_completion_ai_campaign_throttle_ms\x22: 600000, \x22interactive_sheet_next_steps\x22: true, \x22internal_chat\x22: false, \x22internal_schedule\x22: true, \x22is_prober\x22: false, \x22jsraw\x22: \x22compiled\x22, \x22key_promoter\x22: false, \x22kr\x22: false, \x22last_saved_indicator_refresh\x22: true, \x22latest_notebook_context_for_converse\x22: true, \x22link_id_assignments\x22: true, \x22link_imports_to_installs\x22: true, \x22local_cloud_apis\x22: false, \x22local_service_worker\x22: false, \x22lsp_diagnostics_reporting\x22: false, \x22lsp_inlay_hint\x22: false, \x22makersuite_api_key\x22: \x22AIzaSyAmDcruecW4rCL1KdwcbIVHL4LkXxahIgw\x22, \x22makersuite_service_url\x22: \x22https:\/\/alkalimakersuite-pa.clients6.google.com\x22, \x22markdown_spellchecker\x22: false, \x22min_dep_cells_runtime_kernel_cl\x22: 694609395, \x22ml_enabled\x22: true, \x22mlpp_multiline\x22: false, \x22mobile\x22: false, \x22mpp_orc_temperature_override\x22: \x221.0\x22, \x22next_steps\x22: true, \x22nl2code_missing_imports\x22: false, \x22no_fun\x22: false, \x22notebook_context_length\x22: 40000, \x22outage_notification\x22: \x22\x22, \x22outage_notification_link\x22: \x22\x22, \x22outputframe_version\x22: \x22\x22, \x22override_suf_params_for_test\x22: false, \x22parallel_prompting\x22: true, \x22pds_minting\x22: false, \x22prereq_cells_next_steps\x22: true, \x22prompt_for_dsa_trusted_tester_consent\x22: false, \x22recaptcha_polling_frequency_ms\x22: 300000, \x22recaptcha_v2_site_key\x22: \x226LfQttQUAAAAADuPanA_VZMaZgBAOnHZNuuqUewp\x22, \x22recaptcha_v3_site_key\x22: \x226LfQPtEUAAAAAHBpAdFng54jyuB1V5w5dofknpip\x22, \x22reconnect_max_delay_seconds\x22: 300, \x22remove_ai_explain_cell_fencing\x22: false, \x22remove_ai_explain_error_fencing\x22: false, \x22remove_ai_generate_fencing\x22: true, \x22require_ai_consent\x22: true, \x22resource_poll_interval_ms\x22: 10000, \x22rp_kws\x22: false, \x22rp_kxhr_skip_fallback\x22: false, \x22rp_serve_kernel_port\x22: false, \x22rp_socketio_fallback\x22: true, \x22rp_token_refresh_headroom_millis\x22: 300000, \x22rt_opt_in\x22: \x22OFF\x22, \x22run_mode\x22: false, \x22runtime_env_overrides\x22: \x22\\n          \x5b\\n            \x5b\\\x22ENABLE_DIRECTORYPREFETCHER\\\x22, \\\x221\\\x22\x5d\\n          \x5d\\n        \x22, \x22runtime_type_for_test\x22: \x22\x22, \x22server_execution_queue\x22: true, \x22server_side_generate_prompt_formatting_cloud\x22: false, \x22session_resume_coalesce\x22: true, \x22show_empty_notebook_actions\x22: false, \x22show_payments_interstitial\x22: false, \x22show_rel_notes_on_open\x22: true, \x22show_signup_survey\x22: true, \x22show_subscription_renewal_time\x22: false, \x22show_switch_to_prod_link\x22: false, \x22single_page_consent_form\x22: true, \x22smartpaste\x22: false, \x22smartpaste_serving_config\x22: \x22pl_700m_smart_paste_3.0.32_60\x22, \x22sql_cell\x22: false, \x22sql_cell_buttons\x22: false, \x22storage_partition_trial\x22: true, \x22storage_partition_trial_token\x22: \x22Agk\/t4Bt05W7j6CHeqXH9+6ccDayrBsQPqCLDPSElphe\/7cUobayuvN0A3huajTbJenIjp6qibLteh6e0IEWrgIAAAB4eyJvcmlnaW4iOiJodHRwczovL2NvbGFiLnJlc2VhcmNoLmdvb2dsZS5jb206NDQzIiwiZmVhdHVyZSI6IkRpc2FibGVUaGlyZFBhcnR5U3RvcmFnZVBhcnRpdGlvbmluZzIiLCJleHBpcnkiOjE3NDIzNDIzOTl9\x22, \x22task_service_max_poll_count\x22: 45, \x22task_service_poll_interval_ms\x22: 2000, \x22task_service_wait_before_polling_ms\x22: 5000, \x22term4all\x22: false, \x22text_compose_report_changes_millis\x22: 10000, \x22text_span_comments\x22: false, \x22tpu_node_redirect\x22: true, \x22tpu_resource_stats\x22: false, \x22tpu_v5e1\x22: true, \x22transform_code\x22: false, \x22transform_code_context_file_per_cell\x22: false, \x22turn_off_agent_mode_when_safe\x22: false, \x22unmanaged_vm_min_label_block\x22: \x22\x22, \x22unmanaged_vm_min_label_warn\x22: \x22\x22, \x22unmanaged_vm_min_release_tag_block\x22: \x22\x22, \x22unmanaged_vm_min_release_tag_warn\x22: \x22\x22, \x22unsupported_magics_check\x22: true, \x22updated_inline_cell_diff\x22: false, \x22use_corplogin\x22: true, \x22use_dm_sql_lsp\x22: false, \x22user_visible_gpu_types\x22: \x5b\x22T4\x22, \x22A100\x22, \x22L4\x22\x5d, \x22v_100_redirect\x22: true, \x22verbose_warnings\x22: false, \x22vertex_ai_api_environment_override\x22: \x22\x22, \x22want_completions_ai_consent_campaign\x22: true, \x22workstations\x22: false, \x22ids\x22: \x5b20730360, 20730315, 20730265, 20730324, 20730230, 20730182, 20730185, 20730297, 20730351, 20730150, 20730330, 20730177\x5d, \x22flag_ids\x22: \x7b\x22add_prompt_cell\x22: 45644995, \x22ai_banner\x22: 45670540, \x22ai_unsubscribed_warning\x22: 45504730, \x22ai_user_input_char_limit\x22: 45661098, \x22aida_complete_code_model_id\x22: 45427660, \x22aida_converse_max_facts\x22: 45680037, \x22aida_do_conversation_model_id\x22: 45427664, \x22aida_generate_code_model_id\x22: 45427663, \x22allow_dsa_page_interaction\x22: 45675785, \x22allow_readonly_cells\x22: 45671718, \x22allowed_public_url_domains\x22: 45425558, \x22auto_open_chat_on_empty_notebook\x22: 45669599, \x22backend_url_allowlist\x22: 45660303, \x22backend_version\x22: 45425541, \x22backtracking_strategy\x22: 45644832, \x22cell_markdown_toolbar_tooltips\x22: 45654223, \x22cell_output_actions_tooltip\x22: 45650940, \x22cell_tags\x22: 45425779, \x22cell_toolbar_ai_menu\x22: 45647581, \x22cell_toolbar_tooltips\x22: 45649981, \x22cell_ui_refresh\x22: 45673630, \x22chat_explain_error_temp\x22: 45655973, \x22chat_model_id_override\x22: 45631876, \x22chat_reduce_refusals\x22: 45656767, \x22classified_generate\x22: 45425499, \x22classroom_iframe_parent_origin\x22: 45425537, \x22client_text_compose\x22: 45425512, \x22client_trim_completion_text\x22: 45425628, \x22cloud_origin\x22: 45425538, \x22code_report_millis\x22: 45658073, \x22commands_in_toolbar\x22: 45425502, \x22comment_poll_long\x22: 45425588, \x22comment_poll_short\x22: 45425587, \x22compose_skip_suffix_check\x22: 45615470, \x22converse_server_side_history\x22: 45634472, \x22converse_temp\x22: 45425509, \x22crawler\x22: 45425491, \x22create_gemini_api_key\x22: 45654552, \x22critique_comments\x22: 45612076, \x22dbu\x22: 45425545, \x22debug_external\x22: 45425470, \x22debug_prod\x22: 45425471, \x22dep_cells_commands\x22: 45622249, \x22dep_cells_enabled\x22: 45653551, \x22dep_graph\x22: 45629071, \x22development\x22: 45425544, \x22document_change_poll_interval\x22: 45425589, \x22drive_anon_api_key\x22: 45425478, \x22drive_api_key\x22: 45425473, \x22drive_background_save_project_number\x22: 45425479, \x22drive_realtime_project_number\x22: 45425629, \x22drop_chat_links\x22: 45646864, \x22dsa\x22: 45656258, \x22enable_adhoc_backends\x22: 45425506, \x22enable_agent_connect_to_new_vm\x22: 45670252, \x22enable_completions_backend_switching\x22: 45662651, \x22enable_dasher_subscription_ui\x22: 45639531, \x22enable_more_reprs\x22: 45613354, \x22enable_mpp_orc_model_overrides\x22: 45649913, \x22enable_rt_on_create\x22: 45667583, \x22execution_announcements\x22: 45651325, \x22execution_status_propagation\x22: 45644828, \x22explain_cell\x22: 45425505, \x22explain_error\x22: 45425487, \x22explain_error_model_id_override\x22: 45631875, \x22explain_error_trim_traceback\x22: 45618831, \x22explicit_ai_backend\x22: 45638548, \x22external_trusted_github_org_repos_quick_add\x22: 45425555, \x22file_browser_poll_interval_millis\x22: 45643722, \x22file_upload_rate_limit\x22: 45637799, \x22filter_repetitive_suggestions\x22: 45615781, \x22first_party_auth\x22: 45425560, \x22fix_imports\x22: 45624140, \x22gemini_rebrand\x22: 45631310, \x22generate_code\x22: 45425492, \x22generate_df\x22: 45425503, \x22generate_prompt_reduce_blank_responses\x22: 45643396, \x22generate_prompt_reduce_name_errors\x22: 45634392, \x22generate_temp\x22: 45425508, \x22get_started\x22: 45430267, \x22gis_auth\x22: 45425625, \x22github_client_id\x22: 45425556, \x22gpu_utilization_check_interval_ms\x22: 45425561, \x22granular_browser_permissions\x22: 45630936, \x22hats_surveys\x22: 45425559, \x22i18n_runtime_labels\x22: 45662916, \x22import_data\x22: 45430411, \x22import_gemini_api_key\x22: 45654551, \x22include_df_vars_in_ai_conversation_context\x22: 45676033, \x22inline_completion_ai_campaign_max_views\x22: 45676328, \x22inline_completion_ai_campaign_throttle_ms\x22: 45671534, \x22interactive_sheet_next_steps\x22: 45634324, \x22internal_chat\x22: 45622872, \x22internal_schedule\x22: 45425578, \x22is_prober\x22: 45429104, \x22jsraw\x22: 45425557, \x22key_promoter\x22: 45425570, \x22last_saved_indicator_refresh\x22: 45672240, \x22latest_notebook_context_for_converse\x22: 45668776, \x22link_id_assignments\x22: 45644831, \x22link_imports_to_installs\x22: 45644830, \x22local_cloud_apis\x22: 45425630, \x22local_service_worker\x22: 45425550, \x22lsp_diagnostics_reporting\x22: 45425604, \x22lsp_inlay_hint\x22: 45614695, \x22makersuite_api_key\x22: 45655361, \x22makersuite_service_url\x22: 45655362, \x22markdown_spellchecker\x22: 45671479, \x22min_dep_cells_runtime_kernel_cl\x22: 45654240, \x22ml_enabled\x22: 45425493, \x22mlpp_multiline\x22: 45425623, \x22mobile\x22: 45425562, \x22mpp_orc_temperature_override\x22: 45649914, \x22next_steps\x22: 45428239, \x22nl2code_missing_imports\x22: 45615676, \x22no_fun\x22: 45425540, \x22notebook_context_length\x22: 45633457, \x22outage_notification\x22: 45425584, \x22outage_notification_link\x22: 45425585, \x22outputframe_version\x22: 45425591, \x22override_suf_params_for_test\x22: 45425592, \x22parallel_prompting\x22: 45666384, \x22pds_minting\x22: 45648255, \x22prereq_cells_next_steps\x22: 45640400, \x22prompt_for_dsa_trusted_tester_consent\x22: 45670923, \x22recaptcha_polling_frequency_ms\x22: 45425582, \x22recaptcha_v2_site_key\x22: 45425581, \x22recaptcha_v3_site_key\x22: 45425580, \x22reconnect_max_delay_seconds\x22: 45425539, \x22remove_ai_explain_cell_fencing\x22: 45677303, \x22remove_ai_explain_error_fencing\x22: 45677302, \x22remove_ai_generate_fencing\x22: 45673079, \x22require_ai_consent\x22: 45425489, \x22resource_poll_interval_ms\x22: 45425590, \x22rp_kws\x22: 45650184, \x22rp_kxhr_skip_fallback\x22: 45656329, \x22rp_serve_kernel_port\x22: 45572083, \x22rp_socketio_fallback\x22: 45658495, \x22rp_token_refresh_headroom_millis\x22: 45517773, \x22rt_opt_in\x22: 45667546, \x22run_mode\x22: 45642857, \x22runtime_env_overrides\x22: 45425583, \x22runtime_type_for_test\x22: 45425586, \x22server_execution_queue\x22: 45425600, \x22server_side_generate_prompt_formatting_cloud\x22: 45655196, \x22session_resume_coalesce\x22: 45425603, \x22show_empty_notebook_actions\x22: 45677304, \x22show_payments_interstitial\x22: 45425543, \x22show_rel_notes_on_open\x22: 45644210, \x22show_signup_survey\x22: 45425620, \x22show_subscription_renewal_time\x22: 45425569, \x22show_switch_to_prod_link\x22: 45425483, \x22single_page_consent_form\x22: 45656775, \x22smartpaste\x22: 45627425, \x22smartpaste_serving_config\x22: 45630585, \x22sql_cell\x22: 45425497, \x22sql_cell_buttons\x22: 45425498, \x22task_service_max_poll_count\x22: 45669592, \x22task_service_poll_interval_ms\x22: 45669591, \x22task_service_wait_before_polling_ms\x22: 45669590, \x22term4all\x22: 45425542, \x22text_compose_report_changes_millis\x22: 45425568, \x22text_span_comments\x22: 45545873, \x22tpu_node_redirect\x22: 45634372, \x22tpu_resource_stats\x22: 45655215, \x22tpu_v5e1\x22: 45652002, \x22transform_code\x22: 45667102, \x22transform_code_context_file_per_cell\x22: 45671260, \x22turn_off_agent_mode_when_safe\x22: 45679577, \x22unmanaged_vm_min_label_block\x22: 45425546, \x22unmanaged_vm_min_label_warn\x22: 45425547, \x22unmanaged_vm_min_release_tag_block\x22: 45425548, \x22unmanaged_vm_min_release_tag_warn\x22: 45425549, \x22unsupported_magics_check\x22: 45644829, \x22updated_inline_cell_diff\x22: 45667103, \x22use_corplogin\x22: 45425606, \x22use_dm_sql_lsp\x22: 45425610, \x22user_visible_gpu_types\x22: 45620529, \x22v_100_redirect\x22: 45644963, \x22verbose_warnings\x22: 45425551, \x22vertex_ai_api_environment_override\x22: 45612077, \x22want_completions_ai_consent_campaign\x22: 45671138, \x22workstations\x22: 45425626\x7d\x7d'); var colabUserEmail = 'azamsud.745.745@gmail.com'; var colabRenderDataToken = 'AFWLbD3TCR7nUxa9gGcTzb8qghWe1TKBkbaPc3b3hXLGgR9-UoBRyPrCTtuPAdDnfeIEbrCIG2uZMIIiWjDj90XZepRxroiA1UY9CQrs'; var colabConfig = '\x5b\x5b\x22azamsud.745.745@gmail.com\x22,\x5b1,\x22AHXL0D3MjO9DHPaK4lSpgjiiZwid0QRm3ZCpwXhHepBZjtyiko6vndwaDLm\/cFfPEDengq27a86+z0obapgXL9sUUjW\/jPBCsjufgt20ZT9PK4bzaTTDrbgks1S+X5bc6b+dJDj5pHEYSBnqKT82zKkCZEnyoVu4eTewoVR4hVm4E6oNtntfI4chvQ\/C+XA8DHUCghqCsYoU9skE+m+fiZTF3QTS03a1944x8Lj7kH57rc7zLx07J+r5OivnMmQJLgZrmTqrcTRfJXQEeAmQb1MUfqYzJFAFjYRczDeZXeZC5tkiR6Sqs0nyH0HzFLuOIRl22Yde2DrEzgl4V5Xv8CASOcCg6LF8Mv9fmSqmRffpNhgeXQ++3Cu2gIcFlEyXdb0AIjUrTeGc\/QfL2LuXN7n4H83Oh+lQH3A4MgI3Hiqe1\/eswTWK9KHxoTjc09CKQ2wkmmKZDYZvedKZA4kMykKNsaLLgXIFJ82KlezeCD3eOWWt80fe2Ge7m5VcD7FzQjYWh7miZnj\/Ny+jForSTISS1dLv3CCcLhSR45Nl3uryUKa1GfML5vx4YSrPem2xCaB4qn2F4cexn6nD6zrIR1m3nqZM1GvAaZa15hlHz1rAHVMiFhMp8T5xU+kNRxzKlFK1bstZGgA9snN+5GwYTOJb+C87M8rJRpd29zZXCs6YgE3vC77cyazGG1AYWczLoPayq6r1Mf9xAonXvtTaBKL7aceBXjMx8LFVpV3gIXHFf\/3UAcXKY1CjjT6qVDYQJA2MgNCZokm0BSi9kyo5Z6ICtZclGDS5sqJWaziuZebI1dLXfFueqzUTAk0g9IAEz1W+96Nem6uY85TsRk7iq7iif\/5ttZkn\/3rAwNrCzyxwcwhUgFQ18u6o7BCbpiJ+WMwfBWeN7G039GH8ju\/UFFcG+dyfsMRA55E+t7UiJpKmwRJiojVcytVsC3ifb0Vf4sE4ZP82pdOYLpkrbv2le3yCuC9nAKtEJf1UlZwjp4hgu4XCdt+hXPBIv4kmDj01Ii5PDThvTu7s6dHTahRAby7ns7xxgnRfnnbYZQyDGYfSYDyqdAzSIXThaqPT1vUT\/SpHZVRHTXh0346X2iVHSh7BJoptTD7XB7Np61tDu4v8xr+RnI2AcwM4Nk\/KX7YnIiqIB0TWzwJmSR\/pJOKsIZoVk9uLU5MDEEjFnk1dOtTKz0Iu8JWCNDTulVrWNnJDW1A+54DCea769ZcPpQ6hQXRLMg+lIL2APQBKg7E4KX+wptUKN+5QTy4SuJMd85L4YHWU3wzG0ejNSJKQ6HjLlqAACbNiudVY8ixkTDAjKaE2aVZmt47MiAaERw2MvH6fgUPnHCUEza+VVvKlqAUhlzys3l0C0FChuXdWsmXAJnOU3mnJLRrqg\/\/iKT9Y1vKSpYKDBb\/3Nhs6d9y+9jxZgnTwdUjMLwHrZ8bNB\/DsaAD7eDmrxf0iyz9pJJXisxF7+FSbPmtOmhOU4RhvjQVjnDjWIbWc+4ZSksqh8uifneCbZk64T5Bv93wX3U2Q78O3p9VoZNC2s0yPFRXVBrGuqPlYv6xUMBfz0Rp5gRYy5E+tiAqJOGiOwXKpRfiOO9g0VLzB2A5kTEaKzijoK15KJOqHj4w+CEXyxIIH2mC1YA\/R6t\/FFJsKo9pojZTJgK68apRu95nt33+Rzio4GWsjtneqfgnfNMeOrn31JDOqXt0Qi49yOFMWSGJOtI23QkNGEJkBHQweE8nbmRlc2TIp+A4q6W83sur7OwPwVS5yOFbFoUjuOzpXGTzbB2qE1tJbjhvHT9O9i3Peed9XwRgxGtSzl3bpkTznihHYzCvxenz1dArLJIWNb\/1PeByV7OhTaOrGAxDxvmpNRsBJMj40Sy8t67w4HVb\/qcegt+Jo5QafzdT3gtQqzk0\x3d\x22,\x22AJ9oCCyEsQ+gbPMvytGysAfGLAK8absYCIZu3TA5EOeMXFFzsYskQCtaqAm\/zL8eVHFHFNQ3KqxM+TGdo1yrtSOw9\/KS1y25DNeadkO+zkVsHbGBDtrKaAyh\/JyKLwjpayaeDzu1UWNo\x22,\x22https:\/\/payments.google.com\/payments\x22,0,0,null,null,null,\x22US$ 9.99\x22,\x22US$ 49.99\x22,\x22US$ 9.99\x22,\x22US$ 49.99\x22\x5d,\x5b1,4,5\x5d,\x22SA\x22,0\x5d\x5d';</script><link id="favicon-link" rel="shortcut icon" href="https://ssl.gstatic.com/colaboratory-static/common/a188df2f7c7f6efd88ca6912c9fd7438/img%2Ffavicon.ico"><meta name="google-site-verification" content="wRgpUU3mIRZPD1GORBPNonaotM72092B_DsqQFWNa4s"><meta name="google-site-verification" content="f5qdvL6RAXlBgHezvCLpPtvx2wU5ZgIzzPULroprlnA"><meta name="google-site-verification" content="-wL8iYJTC7X0zF9qBNDQUAd-P1ZkQUK-OhSgv4Wkf1M"><meta name="google-site-verification" content="o-EECwEDQeUpZv0jTmoGfCDX7dUI8Kul4ESepXmDnO0"><meta name="google-site-verification" content="sNOroO9gXrazN-oMODOm0Bs0_vw1R5QwZ-BfrSHn8Io"><meta name="google-site-verification" content="K1UdZBHJXQYnJGXIK1KuutmVy6dn3vG2sEyV9D1C6dM"><meta name="google-site-verification" content="wdGthzzfu0IjM3qpFqTuQL9poAQZAvAaFKyuzetLpIM"><meta name="google-site-verification" content="qZJ77guHGO0TObHUBRYVdXQlIhXBBuz8dahJVmIlzCo"><meta name="google-site-verification" content="7ahoeOOKT2ZR781GZ5xK4L9t7yO1ZOHc-gaoUALEYgw"><meta name="google-site-verification" content="PHgaSKwdxZELS21aixtLhfpvaHtKen9pnVJ25EI35Zs"><meta name="google-site-verification" content="qylwTsZSLomIg1JrChne7cPcXmtC2Xh_5ZxlJWLlAH0"><meta name="google-site-verification" content="BQfukMqFy1nu2Q2gjGbNTDA8MJ_Y4L2brCYA1h6ewkY"><meta name="google-site-verification" content="Ozey1ptWUQW13_lCEhpPMOcmRBLqdyB3WEL-TJUjskU"><meta name="google-site-verification" content="rF5iXzWe9KZXJes1dQNhOUkS4_z_e97IrsVoCx2trek"><meta name="google-site-verification" content="z-WR3zzv8XZ5FFfBLLDbyTiN35UXm01nWUS2Uej5pwg"><meta name="google-site-verification" content="vsXaeD7OD0m3iK8Z54fG8TYGC5eT17KeL_xMHtdiyWI"><meta name="google-site-verification" content="cpB5oulaGwqSxsg4E-9q2MVbK87iE9NAUUVxdveucPw"><meta name="google-site-verification" content="8P-D5fVWgUIhw8X2BxnKJbf5itK0zxX0QhoBjbJFTe8"><meta name="google-site-verification" content="88fgsZDoVRBuRnDPMIEjcHCxsEXzODOqEsJoqtvQsDc"><meta name="google-site-verification" content="sMarhZgb4va_L_7UTdMR43gDZ2gVqc_5GHN4REpQPGY"><meta name="google-site-verification" content="26aKGBCw3XblB5Ou01UhxY5WDtMqHjoTm6P-lvF6AqE"><meta name="google-site-verification" content="DGionF7db9g0dOgeBXwOAN2tmCzWBdo5yOdc_-5UcuE"><meta name="google-site-verification" content="Q9LlidR0toR7UtSyVO23xNeaqJmRp8I6r4ghBQTtntU"><meta name="google-site-verification" content="rQawcZaTEK_UrDG30cz_7nVKOVvBass61QEes0Tm04g"><meta name="google-site-verification" content="8L3ghjzKIj241AYAmEygniTe604tsXFkIrb1v-DBtGo"><meta name="google-site-verification" content="Gz6pcDgVFH_aS-aPTYW21rSHcWl0LAgKCWJtdXPVTNo"><meta name="google-site-verification" content="KiunYPvrY5x8umvAWcjhwPrB677xCar2LeT_8yaVrDg"><meta name="google-site-verification" content="b6bOMRzMVX2bJABYDGBPtpGcB_AUZ-o2SOTggQXErkg"><meta name="google-site-verification" content="v2MQvJk6wTiBarKTbe1mdivqYCVtw-5m6w0HDzV5X_4"><meta name="google-site-verification" content="-N1hdkiHJQ6kwJALkHVh2ZzV2fFNER0schZl2AU6zvc"><meta name="google-site-verification" content="dsf7CRwnDkQv6Ot4gXTXx8_nVf8A9cb5o30hZ7cGAIo"><meta property="og:type" content="article"><meta property="og:image" content="https://colab.research.google.com/img/colab_favicon_256px.png"><meta property="og:title" content="Google Colab"><meta http-equiv="origin-trial" content="Agk/t4Bt05W7j6CHeqXH9+6ccDayrBsQPqCLDPSElphe/7cUobayuvN0A3huajTbJenIjp6qibLteh6e0IEWrgIAAAB4eyJvcmlnaW4iOiJodHRwczovL2NvbGFiLnJlc2VhcmNoLmdvb2dsZS5jb206NDQzIiwiZmVhdHVyZSI6IkRpc2FibGVUaGlyZFBhcnR5U3RvcmFnZVBhcnRpdGlvbmluZzIiLCJleHBpcnkiOjE3NDIzNDIzOTl9"><script nonce="">window.performance.mark('head_end'); window.performance.measure('head', 'head_start', 'head_end');</script><script async="" src="loops_and_condition_Lab_files/lazy.min.js" nonce=""></script><style id="inert-style">
[inert] {
  pointer-events: none;
  cursor: default;
}

[inert], [inert] * {
  user-select: none;
  -webkit-user-select: none;
  -moz-user-select: none;
  -ms-user-select: none;
}
</style><script async="async" type="text/javascript" src="loops_and_condition_Lab_files/editor.main.js"></script><script async="" type="text/javascript" charset="UTF-8" src="loops_and_condition_Lab_files/rs=AA2YrTs9um7nM7ISNupfodds9-y7C7I4sA" nonce=""></script><link type="text/css" href="loops_and_condition_Lab_files/rs=AA2YrTtuzhea0kp8k7Fuae4wH5AjxW34MA.css" rel="stylesheet"><link rel="stylesheet" type="text/css" data-name="vs/editor/editor.main" href="loops_and_condition_Lab_files/editor.main.css"><script async="async" type="text/javascript" src="loops_and_condition_Lab_files/editor.main.nls.js"></script><style type="text/css">.MathJax_Hover_Frame {border-radius: .25em; -webkit-border-radius: .25em; -moz-border-radius: .25em; -khtml-border-radius: .25em; box-shadow: 0px 0px 15px #83A; -webkit-box-shadow: 0px 0px 15px #83A; -moz-box-shadow: 0px 0px 15px #83A; -khtml-box-shadow: 0px 0px 15px #83A; border: 1px solid #A6D ! important; display: inline-block; position: absolute}
.MathJax_Menu_Button .MathJax_Hover_Arrow {position: absolute; cursor: pointer; display: inline-block; border: 2px solid #AAA; border-radius: 4px; -webkit-border-radius: 4px; -moz-border-radius: 4px; -khtml-border-radius: 4px; font-family: 'Courier New',Courier; font-size: 9px; color: #F0F0F0}
.MathJax_Menu_Button .MathJax_Hover_Arrow span {display: block; background-color: #AAA; border: 1px solid; border-radius: 3px; line-height: 0; padding: 4px}
.MathJax_Hover_Arrow:hover {color: white!important; border: 2px solid #CCC!important}
.MathJax_Hover_Arrow:hover span {background-color: #CCC!important}
</style><style type="text/css">#MathJax_About {position: fixed; left: 50%; width: auto; text-align: center; border: 3px outset; padding: 1em 2em; background-color: #DDDDDD; color: black; cursor: default; font-family: message-box; font-size: 120%; font-style: normal; text-indent: 0; text-transform: none; line-height: normal; letter-spacing: normal; word-spacing: normal; word-wrap: normal; white-space: nowrap; float: none; z-index: 201; border-radius: 15px; -webkit-border-radius: 15px; -moz-border-radius: 15px; -khtml-border-radius: 15px; box-shadow: 0px 10px 20px #808080; -webkit-box-shadow: 0px 10px 20px #808080; -moz-box-shadow: 0px 10px 20px #808080; -khtml-box-shadow: 0px 10px 20px #808080; filter: progid:DXImageTransform.Microsoft.dropshadow(OffX=2, OffY=2, Color='gray', Positive='true')}
#MathJax_About.MathJax_MousePost {outline: none}
.MathJax_Menu {position: absolute; background-color: white; color: black; width: auto; padding: 2px; border: 1px solid #CCCCCC; margin: 0; cursor: default; font: menu; text-align: left; text-indent: 0; text-transform: none; line-height: normal; letter-spacing: normal; word-spacing: normal; word-wrap: normal; white-space: nowrap; float: none; z-index: 201; box-shadow: 0px 10px 20px #808080; -webkit-box-shadow: 0px 10px 20px #808080; -moz-box-shadow: 0px 10px 20px #808080; -khtml-box-shadow: 0px 10px 20px #808080; filter: progid:DXImageTransform.Microsoft.dropshadow(OffX=2, OffY=2, Color='gray', Positive='true')}
.MathJax_MenuItem {padding: 2px 2em; background: transparent}
.MathJax_MenuArrow {position: absolute; right: .5em; padding-top: .25em; color: #666666; font-size: .75em}
.MathJax_MenuActive .MathJax_MenuArrow {color: white}
.MathJax_MenuArrow.RTL {left: .5em; right: auto}
.MathJax_MenuCheck {position: absolute; left: .7em}
.MathJax_MenuCheck.RTL {right: .7em; left: auto}
.MathJax_MenuRadioCheck {position: absolute; left: 1em}
.MathJax_MenuRadioCheck.RTL {right: 1em; left: auto}
.MathJax_MenuLabel {padding: 2px 2em 4px 1.33em; font-style: italic}
.MathJax_MenuRule {border-top: 1px solid #CCCCCC; margin: 4px 1px 0px}
.MathJax_MenuDisabled {color: GrayText}
.MathJax_MenuActive {background-color: Highlight; color: HighlightText}
.MathJax_MenuDisabled:focus, .MathJax_MenuLabel:focus {background-color: #E8E8E8}
.MathJax_ContextMenu:focus {outline: none}
.MathJax_ContextMenu .MathJax_MenuItem:focus {outline: none}
#MathJax_AboutClose {top: .2em; right: .2em}
.MathJax_Menu .MathJax_MenuClose {top: -10px; left: -10px}
.MathJax_MenuClose {position: absolute; cursor: pointer; display: inline-block; border: 2px solid #AAA; border-radius: 18px; -webkit-border-radius: 18px; -moz-border-radius: 18px; -khtml-border-radius: 18px; font-family: 'Courier New',Courier; font-size: 24px; color: #F0F0F0}
.MathJax_MenuClose span {display: block; background-color: #AAA; border: 1.5px solid; border-radius: 18px; -webkit-border-radius: 18px; -moz-border-radius: 18px; -khtml-border-radius: 18px; line-height: 0; padding: 8px 0 6px}
.MathJax_MenuClose:hover {color: white!important; border: 2px solid #CCC!important}
.MathJax_MenuClose:hover span {background-color: #CCC!important}
.MathJax_MenuClose:hover:focus {outline: none}
</style><style type="text/css">.MJX_Assistive_MathML {position: absolute!important; top: 0; left: 0; clip: rect(1px, 1px, 1px, 1px); padding: 1px 0 0 0!important; border: 0!important; height: 1px!important; width: 1px!important; overflow: hidden!important; display: block!important; -webkit-touch-callout: none; -webkit-user-select: none; -khtml-user-select: none; -moz-user-select: none; -ms-user-select: none; user-select: none}
.MJX_Assistive_MathML.MJX_Assistive_MathML_Block {width: 100%!important}
</style><style type="text/css">#MathJax_Zoom {position: absolute; background-color: #F0F0F0; overflow: auto; display: block; z-index: 301; padding: .5em; border: 1px solid black; margin: 0; font-weight: normal; font-style: normal; text-align: left; text-indent: 0; text-transform: none; line-height: normal; letter-spacing: normal; word-spacing: normal; word-wrap: normal; white-space: nowrap; float: none; -webkit-box-sizing: content-box; -moz-box-sizing: content-box; box-sizing: content-box; box-shadow: 5px 5px 15px #AAAAAA; -webkit-box-shadow: 5px 5px 15px #AAAAAA; -moz-box-shadow: 5px 5px 15px #AAAAAA; -khtml-box-shadow: 5px 5px 15px #AAAAAA; filter: progid:DXImageTransform.Microsoft.dropshadow(OffX=2, OffY=2, Color='gray', Positive='true')}
#MathJax_ZoomOverlay {position: absolute; left: 0; top: 0; z-index: 300; display: inline-block; width: 100%; height: 100%; border: 0; padding: 0; margin: 0; background-color: white; opacity: 0; filter: alpha(opacity=0)}
#MathJax_ZoomFrame {position: relative; display: inline-block; height: 0; width: 0}
#MathJax_ZoomEventTrap {position: absolute; left: 0; top: 0; z-index: 302; display: inline-block; border: 0; padding: 0; margin: 0; background-color: white; opacity: 0; filter: alpha(opacity=0)}
</style><style type="text/css">.MathJax_Preview {color: #888}
#MathJax_Message {position: fixed; left: 1px; bottom: 2px; background-color: #E6E6E6; border: 1px solid #959595; margin: 0px; padding: 2px 8px; z-index: 102; color: black; font-size: 80%; width: auto; white-space: nowrap}
#MathJax_MSIE_Frame {position: absolute; top: 0; left: 0; width: 0px; z-index: 101; border: 0px; margin: 0px; padding: 0px}
.MathJax_Error {color: #CC0000; font-style: italic}
</style><style type="text/css">.MJXp-script {font-size: .8em}
.MJXp-right {-webkit-transform-origin: right; -moz-transform-origin: right; -ms-transform-origin: right; -o-transform-origin: right; transform-origin: right}
.MJXp-bold {font-weight: bold}
.MJXp-italic {font-style: italic}
.MJXp-scr {font-family: MathJax_Script,'Times New Roman',Times,STIXGeneral,serif}
.MJXp-frak {font-family: MathJax_Fraktur,'Times New Roman',Times,STIXGeneral,serif}
.MJXp-sf {font-family: MathJax_SansSerif,'Times New Roman',Times,STIXGeneral,serif}
.MJXp-cal {font-family: MathJax_Caligraphic,'Times New Roman',Times,STIXGeneral,serif}
.MJXp-mono {font-family: MathJax_Typewriter,'Times New Roman',Times,STIXGeneral,serif}
.MJXp-largeop {font-size: 150%}
.MJXp-largeop.MJXp-int {vertical-align: -.2em}
.MJXp-math {display: inline-block; line-height: 1.2; text-indent: 0; font-family: 'Times New Roman',Times,STIXGeneral,serif; white-space: nowrap; border-collapse: collapse}
.MJXp-display {display: block; text-align: center; margin: 1em 0}
.MJXp-math span {display: inline-block}
.MJXp-box {display: block!important; text-align: center}
.MJXp-box:after {content: " "}
.MJXp-rule {display: block!important; margin-top: .1em}
.MJXp-char {display: block!important}
.MJXp-mo {margin: 0 .15em}
.MJXp-mfrac {margin: 0 .125em; vertical-align: .25em}
.MJXp-denom {display: inline-table!important; width: 100%}
.MJXp-denom > * {display: table-row!important}
.MJXp-surd {vertical-align: top}
.MJXp-surd > * {display: block!important}
.MJXp-script-box > *  {display: table!important; height: 50%}
.MJXp-script-box > * > * {display: table-cell!important; vertical-align: top}
.MJXp-script-box > *:last-child > * {vertical-align: bottom}
.MJXp-script-box > * > * > * {display: block!important}
.MJXp-mphantom {visibility: hidden}
.MJXp-munderover, .MJXp-munder {display: inline-table!important}
.MJXp-over {display: inline-block!important; text-align: center}
.MJXp-over > * {display: block!important}
.MJXp-munderover > *, .MJXp-munder > * {display: table-row!important}
.MJXp-mtable {vertical-align: .25em; margin: 0 .125em}
.MJXp-mtable > * {display: inline-table!important; vertical-align: middle}
.MJXp-mtr {display: table-row!important}
.MJXp-mtd {display: table-cell!important; text-align: center; padding: .5em 0 0 .5em}
.MJXp-mtr > .MJXp-mtd:first-child {padding-left: 0}
.MJXp-mtr:first-child > .MJXp-mtd {padding-top: 0}
.MJXp-mlabeledtr {display: table-row!important}
.MJXp-mlabeledtr > .MJXp-mtd:first-child {padding-left: 0}
.MJXp-mlabeledtr:first-child > .MJXp-mtd {padding-top: 0}
.MJXp-merror {background-color: #FFFF88; color: #CC0000; border: 1px solid #CC0000; padding: 1px 3px; font-style: normal; font-size: 90%}
.MJXp-scale0 {-webkit-transform: scaleX(.0); -moz-transform: scaleX(.0); -ms-transform: scaleX(.0); -o-transform: scaleX(.0); transform: scaleX(.0)}
.MJXp-scale1 {-webkit-transform: scaleX(.1); -moz-transform: scaleX(.1); -ms-transform: scaleX(.1); -o-transform: scaleX(.1); transform: scaleX(.1)}
.MJXp-scale2 {-webkit-transform: scaleX(.2); -moz-transform: scaleX(.2); -ms-transform: scaleX(.2); -o-transform: scaleX(.2); transform: scaleX(.2)}
.MJXp-scale3 {-webkit-transform: scaleX(.3); -moz-transform: scaleX(.3); -ms-transform: scaleX(.3); -o-transform: scaleX(.3); transform: scaleX(.3)}
.MJXp-scale4 {-webkit-transform: scaleX(.4); -moz-transform: scaleX(.4); -ms-transform: scaleX(.4); -o-transform: scaleX(.4); transform: scaleX(.4)}
.MJXp-scale5 {-webkit-transform: scaleX(.5); -moz-transform: scaleX(.5); -ms-transform: scaleX(.5); -o-transform: scaleX(.5); transform: scaleX(.5)}
.MJXp-scale6 {-webkit-transform: scaleX(.6); -moz-transform: scaleX(.6); -ms-transform: scaleX(.6); -o-transform: scaleX(.6); transform: scaleX(.6)}
.MJXp-scale7 {-webkit-transform: scaleX(.7); -moz-transform: scaleX(.7); -ms-transform: scaleX(.7); -o-transform: scaleX(.7); transform: scaleX(.7)}
.MJXp-scale8 {-webkit-transform: scaleX(.8); -moz-transform: scaleX(.8); -ms-transform: scaleX(.8); -o-transform: scaleX(.8); transform: scaleX(.8)}
.MJXp-scale9 {-webkit-transform: scaleX(.9); -moz-transform: scaleX(.9); -ms-transform: scaleX(.9); -o-transform: scaleX(.9); transform: scaleX(.9)}
.MathJax_PHTML .noError {vertical-align: ; font-size: 90%; text-align: left; color: black; padding: 1px 3px; border: 1px solid}
</style><script async="async" type="text/javascript" src="loops_and_condition_Lab_files/markdown.js"></script><script src="loops_and_condition_Lab_files/api.js" nonce=""></script><script src="loops_and_condition_Lab_files/api_002.js" nonce=""></script><style type="text/css" media="screen" class="monaco-colors">.codicon-add:before { content: '\ea60'; }
.codicon-plus:before { content: '\ea60'; }
.codicon-gist-new:before { content: '\ea60'; }
.codicon-repo-create:before { content: '\ea60'; }
.codicon-lightbulb:before { content: '\ea61'; }
.codicon-light-bulb:before { content: '\ea61'; }
.codicon-repo:before { content: '\ea62'; }
.codicon-repo-delete:before { content: '\ea62'; }
.codicon-gist-fork:before { content: '\ea63'; }
.codicon-repo-forked:before { content: '\ea63'; }
.codicon-git-pull-request:before { content: '\ea64'; }
.codicon-git-pull-request-abandoned:before { content: '\ea64'; }
.codicon-record-keys:before { content: '\ea65'; }
.codicon-keyboard:before { content: '\ea65'; }
.codicon-tag:before { content: '\ea66'; }
.codicon-tag-add:before { content: '\ea66'; }
.codicon-tag-remove:before { content: '\ea66'; }
.codicon-person:before { content: '\ea67'; }
.codicon-person-follow:before { content: '\ea67'; }
.codicon-person-outline:before { content: '\ea67'; }
.codicon-person-filled:before { content: '\ea67'; }
.codicon-git-branch:before { content: '\ea68'; }
.codicon-git-branch-create:before { content: '\ea68'; }
.codicon-git-branch-delete:before { content: '\ea68'; }
.codicon-source-control:before { content: '\ea68'; }
.codicon-mirror:before { content: '\ea69'; }
.codicon-mirror-public:before { content: '\ea69'; }
.codicon-star:before { content: '\ea6a'; }
.codicon-star-add:before { content: '\ea6a'; }
.codicon-star-delete:before { content: '\ea6a'; }
.codicon-star-empty:before { content: '\ea6a'; }
.codicon-comment:before { content: '\ea6b'; }
.codicon-comment-add:before { content: '\ea6b'; }
.codicon-alert:before { content: '\ea6c'; }
.codicon-warning:before { content: '\ea6c'; }
.codicon-search:before { content: '\ea6d'; }
.codicon-search-save:before { content: '\ea6d'; }
.codicon-log-out:before { content: '\ea6e'; }
.codicon-sign-out:before { content: '\ea6e'; }
.codicon-log-in:before { content: '\ea6f'; }
.codicon-sign-in:before { content: '\ea6f'; }
.codicon-eye:before { content: '\ea70'; }
.codicon-eye-unwatch:before { content: '\ea70'; }
.codicon-eye-watch:before { content: '\ea70'; }
.codicon-circle-filled:before { content: '\ea71'; }
.codicon-primitive-dot:before { content: '\ea71'; }
.codicon-close-dirty:before { content: '\ea71'; }
.codicon-debug-breakpoint:before { content: '\ea71'; }
.codicon-debug-breakpoint-disabled:before { content: '\ea71'; }
.codicon-debug-hint:before { content: '\ea71'; }
.codicon-primitive-square:before { content: '\ea72'; }
.codicon-edit:before { content: '\ea73'; }
.codicon-pencil:before { content: '\ea73'; }
.codicon-info:before { content: '\ea74'; }
.codicon-issue-opened:before { content: '\ea74'; }
.codicon-gist-private:before { content: '\ea75'; }
.codicon-git-fork-private:before { content: '\ea75'; }
.codicon-lock:before { content: '\ea75'; }
.codicon-mirror-private:before { content: '\ea75'; }
.codicon-close:before { content: '\ea76'; }
.codicon-remove-close:before { content: '\ea76'; }
.codicon-x:before { content: '\ea76'; }
.codicon-repo-sync:before { content: '\ea77'; }
.codicon-sync:before { content: '\ea77'; }
.codicon-clone:before { content: '\ea78'; }
.codicon-desktop-download:before { content: '\ea78'; }
.codicon-beaker:before { content: '\ea79'; }
.codicon-microscope:before { content: '\ea79'; }
.codicon-vm:before { content: '\ea7a'; }
.codicon-device-desktop:before { content: '\ea7a'; }
.codicon-file:before { content: '\ea7b'; }
.codicon-file-text:before { content: '\ea7b'; }
.codicon-more:before { content: '\ea7c'; }
.codicon-ellipsis:before { content: '\ea7c'; }
.codicon-kebab-horizontal:before { content: '\ea7c'; }
.codicon-mail-reply:before { content: '\ea7d'; }
.codicon-reply:before { content: '\ea7d'; }
.codicon-organization:before { content: '\ea7e'; }
.codicon-organization-filled:before { content: '\ea7e'; }
.codicon-organization-outline:before { content: '\ea7e'; }
.codicon-new-file:before { content: '\ea7f'; }
.codicon-file-add:before { content: '\ea7f'; }
.codicon-new-folder:before { content: '\ea80'; }
.codicon-file-directory-create:before { content: '\ea80'; }
.codicon-trash:before { content: '\ea81'; }
.codicon-trashcan:before { content: '\ea81'; }
.codicon-history:before { content: '\ea82'; }
.codicon-clock:before { content: '\ea82'; }
.codicon-folder:before { content: '\ea83'; }
.codicon-file-directory:before { content: '\ea83'; }
.codicon-symbol-folder:before { content: '\ea83'; }
.codicon-logo-github:before { content: '\ea84'; }
.codicon-mark-github:before { content: '\ea84'; }
.codicon-github:before { content: '\ea84'; }
.codicon-terminal:before { content: '\ea85'; }
.codicon-console:before { content: '\ea85'; }
.codicon-repl:before { content: '\ea85'; }
.codicon-zap:before { content: '\ea86'; }
.codicon-symbol-event:before { content: '\ea86'; }
.codicon-error:before { content: '\ea87'; }
.codicon-stop:before { content: '\ea87'; }
.codicon-variable:before { content: '\ea88'; }
.codicon-symbol-variable:before { content: '\ea88'; }
.codicon-array:before { content: '\ea8a'; }
.codicon-symbol-array:before { content: '\ea8a'; }
.codicon-symbol-module:before { content: '\ea8b'; }
.codicon-symbol-package:before { content: '\ea8b'; }
.codicon-symbol-namespace:before { content: '\ea8b'; }
.codicon-symbol-object:before { content: '\ea8b'; }
.codicon-symbol-method:before { content: '\ea8c'; }
.codicon-symbol-function:before { content: '\ea8c'; }
.codicon-symbol-constructor:before { content: '\ea8c'; }
.codicon-symbol-boolean:before { content: '\ea8f'; }
.codicon-symbol-null:before { content: '\ea8f'; }
.codicon-symbol-numeric:before { content: '\ea90'; }
.codicon-symbol-number:before { content: '\ea90'; }
.codicon-symbol-structure:before { content: '\ea91'; }
.codicon-symbol-struct:before { content: '\ea91'; }
.codicon-symbol-parameter:before { content: '\ea92'; }
.codicon-symbol-type-parameter:before { content: '\ea92'; }
.codicon-symbol-key:before { content: '\ea93'; }
.codicon-symbol-text:before { content: '\ea93'; }
.codicon-symbol-reference:before { content: '\ea94'; }
.codicon-go-to-file:before { content: '\ea94'; }
.codicon-symbol-enum:before { content: '\ea95'; }
.codicon-symbol-value:before { content: '\ea95'; }
.codicon-symbol-ruler:before { content: '\ea96'; }
.codicon-symbol-unit:before { content: '\ea96'; }
.codicon-activate-breakpoints:before { content: '\ea97'; }
.codicon-archive:before { content: '\ea98'; }
.codicon-arrow-both:before { content: '\ea99'; }
.codicon-arrow-down:before { content: '\ea9a'; }
.codicon-arrow-left:before { content: '\ea9b'; }
.codicon-arrow-right:before { content: '\ea9c'; }
.codicon-arrow-small-down:before { content: '\ea9d'; }
.codicon-arrow-small-left:before { content: '\ea9e'; }
.codicon-arrow-small-right:before { content: '\ea9f'; }
.codicon-arrow-small-up:before { content: '\eaa0'; }
.codicon-arrow-up:before { content: '\eaa1'; }
.codicon-bell:before { content: '\eaa2'; }
.codicon-bold:before { content: '\eaa3'; }
.codicon-book:before { content: '\eaa4'; }
.codicon-bookmark:before { content: '\eaa5'; }
.codicon-debug-breakpoint-conditional-unverified:before { content: '\eaa6'; }
.codicon-debug-breakpoint-conditional:before { content: '\eaa7'; }
.codicon-debug-breakpoint-conditional-disabled:before { content: '\eaa7'; }
.codicon-debug-breakpoint-data-unverified:before { content: '\eaa8'; }
.codicon-debug-breakpoint-data:before { content: '\eaa9'; }
.codicon-debug-breakpoint-data-disabled:before { content: '\eaa9'; }
.codicon-debug-breakpoint-log-unverified:before { content: '\eaaa'; }
.codicon-debug-breakpoint-log:before { content: '\eaab'; }
.codicon-debug-breakpoint-log-disabled:before { content: '\eaab'; }
.codicon-briefcase:before { content: '\eaac'; }
.codicon-broadcast:before { content: '\eaad'; }
.codicon-browser:before { content: '\eaae'; }
.codicon-bug:before { content: '\eaaf'; }
.codicon-calendar:before { content: '\eab0'; }
.codicon-case-sensitive:before { content: '\eab1'; }
.codicon-check:before { content: '\eab2'; }
.codicon-checklist:before { content: '\eab3'; }
.codicon-chevron-down:before { content: '\eab4'; }
.codicon-drop-down-button:before { content: '\eab4'; }
.codicon-chevron-left:before { content: '\eab5'; }
.codicon-chevron-right:before { content: '\eab6'; }
.codicon-chevron-up:before { content: '\eab7'; }
.codicon-chrome-close:before { content: '\eab8'; }
.codicon-chrome-maximize:before { content: '\eab9'; }
.codicon-chrome-minimize:before { content: '\eaba'; }
.codicon-chrome-restore:before { content: '\eabb'; }
.codicon-circle:before { content: '\eabc'; }
.codicon-circle-outline:before { content: '\eabc'; }
.codicon-debug-breakpoint-unverified:before { content: '\eabc'; }
.codicon-circle-slash:before { content: '\eabd'; }
.codicon-circuit-board:before { content: '\eabe'; }
.codicon-clear-all:before { content: '\eabf'; }
.codicon-clippy:before { content: '\eac0'; }
.codicon-close-all:before { content: '\eac1'; }
.codicon-cloud-download:before { content: '\eac2'; }
.codicon-cloud-upload:before { content: '\eac3'; }
.codicon-code:before { content: '\eac4'; }
.codicon-collapse-all:before { content: '\eac5'; }
.codicon-color-mode:before { content: '\eac6'; }
.codicon-comment-discussion:before { content: '\eac7'; }
.codicon-compare-changes:before { content: '\eafd'; }
.codicon-credit-card:before { content: '\eac9'; }
.codicon-dash:before { content: '\eacc'; }
.codicon-dashboard:before { content: '\eacd'; }
.codicon-database:before { content: '\eace'; }
.codicon-debug-continue:before { content: '\eacf'; }
.codicon-debug-disconnect:before { content: '\ead0'; }
.codicon-debug-pause:before { content: '\ead1'; }
.codicon-debug-restart:before { content: '\ead2'; }
.codicon-debug-start:before { content: '\ead3'; }
.codicon-debug-step-into:before { content: '\ead4'; }
.codicon-debug-step-out:before { content: '\ead5'; }
.codicon-debug-step-over:before { content: '\ead6'; }
.codicon-debug-stop:before { content: '\ead7'; }
.codicon-debug:before { content: '\ead8'; }
.codicon-device-camera-video:before { content: '\ead9'; }
.codicon-device-camera:before { content: '\eada'; }
.codicon-device-mobile:before { content: '\eadb'; }
.codicon-diff-added:before { content: '\eadc'; }
.codicon-diff-ignored:before { content: '\eadd'; }
.codicon-diff-modified:before { content: '\eade'; }
.codicon-diff-removed:before { content: '\eadf'; }
.codicon-diff-renamed:before { content: '\eae0'; }
.codicon-diff:before { content: '\eae1'; }
.codicon-discard:before { content: '\eae2'; }
.codicon-editor-layout:before { content: '\eae3'; }
.codicon-empty-window:before { content: '\eae4'; }
.codicon-exclude:before { content: '\eae5'; }
.codicon-extensions:before { content: '\eae6'; }
.codicon-eye-closed:before { content: '\eae7'; }
.codicon-file-binary:before { content: '\eae8'; }
.codicon-file-code:before { content: '\eae9'; }
.codicon-file-media:before { content: '\eaea'; }
.codicon-file-pdf:before { content: '\eaeb'; }
.codicon-file-submodule:before { content: '\eaec'; }
.codicon-file-symlink-directory:before { content: '\eaed'; }
.codicon-file-symlink-file:before { content: '\eaee'; }
.codicon-file-zip:before { content: '\eaef'; }
.codicon-files:before { content: '\eaf0'; }
.codicon-filter:before { content: '\eaf1'; }
.codicon-flame:before { content: '\eaf2'; }
.codicon-fold-down:before { content: '\eaf3'; }
.codicon-fold-up:before { content: '\eaf4'; }
.codicon-fold:before { content: '\eaf5'; }
.codicon-folder-active:before { content: '\eaf6'; }
.codicon-folder-opened:before { content: '\eaf7'; }
.codicon-gear:before { content: '\eaf8'; }
.codicon-gift:before { content: '\eaf9'; }
.codicon-gist-secret:before { content: '\eafa'; }
.codicon-gist:before { content: '\eafb'; }
.codicon-git-commit:before { content: '\eafc'; }
.codicon-git-compare:before { content: '\eafd'; }
.codicon-git-merge:before { content: '\eafe'; }
.codicon-github-action:before { content: '\eaff'; }
.codicon-github-alt:before { content: '\eb00'; }
.codicon-globe:before { content: '\eb01'; }
.codicon-grabber:before { content: '\eb02'; }
.codicon-graph:before { content: '\eb03'; }
.codicon-gripper:before { content: '\eb04'; }
.codicon-heart:before { content: '\eb05'; }
.codicon-home:before { content: '\eb06'; }
.codicon-horizontal-rule:before { content: '\eb07'; }
.codicon-hubot:before { content: '\eb08'; }
.codicon-inbox:before { content: '\eb09'; }
.codicon-issue-closed:before { content: '\eba4'; }
.codicon-issue-reopened:before { content: '\eb0b'; }
.codicon-issues:before { content: '\eb0c'; }
.codicon-italic:before { content: '\eb0d'; }
.codicon-jersey:before { content: '\eb0e'; }
.codicon-json:before { content: '\eb0f'; }
.codicon-bracket:before { content: '\eb0f'; }
.codicon-kebab-vertical:before { content: '\eb10'; }
.codicon-key:before { content: '\eb11'; }
.codicon-law:before { content: '\eb12'; }
.codicon-lightbulb-autofix:before { content: '\eb13'; }
.codicon-link-external:before { content: '\eb14'; }
.codicon-link:before { content: '\eb15'; }
.codicon-list-ordered:before { content: '\eb16'; }
.codicon-list-unordered:before { content: '\eb17'; }
.codicon-live-share:before { content: '\eb18'; }
.codicon-loading:before { content: '\eb19'; }
.codicon-location:before { content: '\eb1a'; }
.codicon-mail-read:before { content: '\eb1b'; }
.codicon-mail:before { content: '\eb1c'; }
.codicon-markdown:before { content: '\eb1d'; }
.codicon-megaphone:before { content: '\eb1e'; }
.codicon-mention:before { content: '\eb1f'; }
.codicon-milestone:before { content: '\eb20'; }
.codicon-mortar-board:before { content: '\eb21'; }
.codicon-move:before { content: '\eb22'; }
.codicon-multiple-windows:before { content: '\eb23'; }
.codicon-mute:before { content: '\eb24'; }
.codicon-no-newline:before { content: '\eb25'; }
.codicon-note:before { content: '\eb26'; }
.codicon-octoface:before { content: '\eb27'; }
.codicon-open-preview:before { content: '\eb28'; }
.codicon-package:before { content: '\eb29'; }
.codicon-paintcan:before { content: '\eb2a'; }
.codicon-pin:before { content: '\eb2b'; }
.codicon-play:before { content: '\eb2c'; }
.codicon-run:before { content: '\eb2c'; }
.codicon-plug:before { content: '\eb2d'; }
.codicon-preserve-case:before { content: '\eb2e'; }
.codicon-preview:before { content: '\eb2f'; }
.codicon-project:before { content: '\eb30'; }
.codicon-pulse:before { content: '\eb31'; }
.codicon-question:before { content: '\eb32'; }
.codicon-quote:before { content: '\eb33'; }
.codicon-radio-tower:before { content: '\eb34'; }
.codicon-reactions:before { content: '\eb35'; }
.codicon-references:before { content: '\eb36'; }
.codicon-refresh:before { content: '\eb37'; }
.codicon-regex:before { content: '\eb38'; }
.codicon-remote-explorer:before { content: '\eb39'; }
.codicon-remote:before { content: '\eb3a'; }
.codicon-remove:before { content: '\eb3b'; }
.codicon-replace-all:before { content: '\eb3c'; }
.codicon-replace:before { content: '\eb3d'; }
.codicon-repo-clone:before { content: '\eb3e'; }
.codicon-repo-force-push:before { content: '\eb3f'; }
.codicon-repo-pull:before { content: '\eb40'; }
.codicon-repo-push:before { content: '\eb41'; }
.codicon-report:before { content: '\eb42'; }
.codicon-request-changes:before { content: '\eb43'; }
.codicon-rocket:before { content: '\eb44'; }
.codicon-root-folder-opened:before { content: '\eb45'; }
.codicon-root-folder:before { content: '\eb46'; }
.codicon-rss:before { content: '\eb47'; }
.codicon-ruby:before { content: '\eb48'; }
.codicon-save-all:before { content: '\eb49'; }
.codicon-save-as:before { content: '\eb4a'; }
.codicon-save:before { content: '\eb4b'; }
.codicon-screen-full:before { content: '\eb4c'; }
.codicon-screen-normal:before { content: '\eb4d'; }
.codicon-search-stop:before { content: '\eb4e'; }
.codicon-server:before { content: '\eb50'; }
.codicon-settings-gear:before { content: '\eb51'; }
.codicon-settings:before { content: '\eb52'; }
.codicon-shield:before { content: '\eb53'; }
.codicon-smiley:before { content: '\eb54'; }
.codicon-sort-precedence:before { content: '\eb55'; }
.codicon-split-horizontal:before { content: '\eb56'; }
.codicon-split-vertical:before { content: '\eb57'; }
.codicon-squirrel:before { content: '\eb58'; }
.codicon-star-full:before { content: '\eb59'; }
.codicon-star-half:before { content: '\eb5a'; }
.codicon-symbol-class:before { content: '\eb5b'; }
.codicon-symbol-color:before { content: '\eb5c'; }
.codicon-symbol-customcolor:before { content: '\eb5c'; }
.codicon-symbol-constant:before { content: '\eb5d'; }
.codicon-symbol-enum-member:before { content: '\eb5e'; }
.codicon-symbol-field:before { content: '\eb5f'; }
.codicon-symbol-file:before { content: '\eb60'; }
.codicon-symbol-interface:before { content: '\eb61'; }
.codicon-symbol-keyword:before { content: '\eb62'; }
.codicon-symbol-misc:before { content: '\eb63'; }
.codicon-symbol-operator:before { content: '\eb64'; }
.codicon-symbol-property:before { content: '\eb65'; }
.codicon-wrench:before { content: '\eb65'; }
.codicon-wrench-subaction:before { content: '\eb65'; }
.codicon-symbol-snippet:before { content: '\eb66'; }
.codicon-tasklist:before { content: '\eb67'; }
.codicon-telescope:before { content: '\eb68'; }
.codicon-text-size:before { content: '\eb69'; }
.codicon-three-bars:before { content: '\eb6a'; }
.codicon-thumbsdown:before { content: '\eb6b'; }
.codicon-thumbsup:before { content: '\eb6c'; }
.codicon-tools:before { content: '\eb6d'; }
.codicon-triangle-down:before { content: '\eb6e'; }
.codicon-triangle-left:before { content: '\eb6f'; }
.codicon-triangle-right:before { content: '\eb70'; }
.codicon-triangle-up:before { content: '\eb71'; }
.codicon-twitter:before { content: '\eb72'; }
.codicon-unfold:before { content: '\eb73'; }
.codicon-unlock:before { content: '\eb74'; }
.codicon-unmute:before { content: '\eb75'; }
.codicon-unverified:before { content: '\eb76'; }
.codicon-verified:before { content: '\eb77'; }
.codicon-versions:before { content: '\eb78'; }
.codicon-vm-active:before { content: '\eb79'; }
.codicon-vm-outline:before { content: '\eb7a'; }
.codicon-vm-running:before { content: '\eb7b'; }
.codicon-watch:before { content: '\eb7c'; }
.codicon-whitespace:before { content: '\eb7d'; }
.codicon-whole-word:before { content: '\eb7e'; }
.codicon-window:before { content: '\eb7f'; }
.codicon-word-wrap:before { content: '\eb80'; }
.codicon-zoom-in:before { content: '\eb81'; }
.codicon-zoom-out:before { content: '\eb82'; }
.codicon-list-filter:before { content: '\eb83'; }
.codicon-list-flat:before { content: '\eb84'; }
.codicon-list-selection:before { content: '\eb85'; }
.codicon-selection:before { content: '\eb85'; }
.codicon-list-tree:before { content: '\eb86'; }
.codicon-debug-breakpoint-function-unverified:before { content: '\eb87'; }
.codicon-debug-breakpoint-function:before { content: '\eb88'; }
.codicon-debug-breakpoint-function-disabled:before { content: '\eb88'; }
.codicon-debug-stackframe-active:before { content: '\eb89'; }
.codicon-circle-small-filled:before { content: '\eb8a'; }
.codicon-debug-stackframe-dot:before { content: '\eb8a'; }
.codicon-debug-stackframe:before { content: '\eb8b'; }
.codicon-debug-stackframe-focused:before { content: '\eb8b'; }
.codicon-debug-breakpoint-unsupported:before { content: '\eb8c'; }
.codicon-symbol-string:before { content: '\eb8d'; }
.codicon-debug-reverse-continue:before { content: '\eb8e'; }
.codicon-debug-step-back:before { content: '\eb8f'; }
.codicon-debug-restart-frame:before { content: '\eb90'; }
.codicon-call-incoming:before { content: '\eb92'; }
.codicon-call-outgoing:before { content: '\eb93'; }
.codicon-menu:before { content: '\eb94'; }
.codicon-expand-all:before { content: '\eb95'; }
.codicon-feedback:before { content: '\eb96'; }
.codicon-group-by-ref-type:before { content: '\eb97'; }
.codicon-ungroup-by-ref-type:before { content: '\eb98'; }
.codicon-account:before { content: '\eb99'; }
.codicon-bell-dot:before { content: '\eb9a'; }
.codicon-debug-console:before { content: '\eb9b'; }
.codicon-library:before { content: '\eb9c'; }
.codicon-output:before { content: '\eb9d'; }
.codicon-run-all:before { content: '\eb9e'; }
.codicon-sync-ignored:before { content: '\eb9f'; }
.codicon-pinned:before { content: '\eba0'; }
.codicon-github-inverted:before { content: '\eba1'; }
.codicon-debug-alt:before { content: '\eb91'; }
.codicon-server-process:before { content: '\eba2'; }
.codicon-server-environment:before { content: '\eba3'; }
.codicon-pass:before { content: '\eba4'; }
.codicon-stop-circle:before { content: '\eba5'; }
.codicon-play-circle:before { content: '\eba6'; }
.codicon-record:before { content: '\eba7'; }
.codicon-debug-alt-small:before { content: '\eba8'; }
.codicon-vm-connect:before { content: '\eba9'; }
.codicon-cloud:before { content: '\ebaa'; }
.codicon-merge:before { content: '\ebab'; }
.codicon-export:before { content: '\ebac'; }
.codicon-graph-left:before { content: '\ebad'; }
.codicon-magnet:before { content: '\ebae'; }
.codicon-notebook:before { content: '\ebaf'; }
.codicon-redo:before { content: '\ebb0'; }
.codicon-check-all:before { content: '\ebb1'; }
.codicon-pinned-dirty:before { content: '\ebb2'; }
.codicon-pass-filled:before { content: '\ebb3'; }
.codicon-circle-large-filled:before { content: '\ebb4'; }
.codicon-circle-large:before { content: '\ebb5'; }
.codicon-circle-large-outline:before { content: '\ebb5'; }
.codicon-combine:before { content: '\ebb6'; }
.codicon-gather:before { content: '\ebb6'; }
.codicon-table:before { content: '\ebb7'; }
.codicon-variable-group:before { content: '\ebb8'; }
.codicon-type-hierarchy:before { content: '\ebb9'; }
.codicon-type-hierarchy-sub:before { content: '\ebba'; }
.codicon-type-hierarchy-super:before { content: '\ebbb'; }
.codicon-git-pull-request-create:before { content: '\ebbc'; }
.codicon-run-above:before { content: '\ebbd'; }
.codicon-run-below:before { content: '\ebbe'; }
.codicon-notebook-template:before { content: '\ebbf'; }
.codicon-debug-rerun:before { content: '\ebc0'; }
.codicon-workspace-trusted:before { content: '\ebc1'; }
.codicon-workspace-untrusted:before { content: '\ebc2'; }
.codicon-workspace-unspecified:before { content: '\ebc3'; }
.codicon-terminal-cmd:before { content: '\ebc4'; }
.codicon-terminal-debian:before { content: '\ebc5'; }
.codicon-terminal-linux:before { content: '\ebc6'; }
.codicon-terminal-powershell:before { content: '\ebc7'; }
.codicon-terminal-tmux:before { content: '\ebc8'; }
.codicon-terminal-ubuntu:before { content: '\ebc9'; }
.codicon-terminal-bash:before { content: '\ebca'; }
.codicon-arrow-swap:before { content: '\ebcb'; }
.codicon-copy:before { content: '\ebcc'; }
.codicon-person-add:before { content: '\ebcd'; }
.codicon-filter-filled:before { content: '\ebce'; }
.codicon-wand:before { content: '\ebcf'; }
.codicon-debug-line-by-line:before { content: '\ebd0'; }
.codicon-inspect:before { content: '\ebd1'; }
.codicon-layers:before { content: '\ebd2'; }
.codicon-layers-dot:before { content: '\ebd3'; }
.codicon-layers-active:before { content: '\ebd4'; }
.codicon-compass:before { content: '\ebd5'; }
.codicon-compass-dot:before { content: '\ebd6'; }
.codicon-compass-active:before { content: '\ebd7'; }
.codicon-azure:before { content: '\ebd8'; }
.codicon-issue-draft:before { content: '\ebd9'; }
.codicon-git-pull-request-closed:before { content: '\ebda'; }
.codicon-git-pull-request-draft:before { content: '\ebdb'; }
.codicon-debug-all:before { content: '\ebdc'; }
.codicon-debug-coverage:before { content: '\ebdd'; }
.codicon-run-errors:before { content: '\ebde'; }
.codicon-folder-library:before { content: '\ebdf'; }
.codicon-debug-continue-small:before { content: '\ebe0'; }
.codicon-beaker-stop:before { content: '\ebe1'; }
.codicon-graph-line:before { content: '\ebe2'; }
.codicon-graph-scatter:before { content: '\ebe3'; }
.codicon-pie-chart:before { content: '\ebe4'; }
.codicon-bracket-dot:before { content: '\ebe5'; }
.codicon-bracket-error:before { content: '\ebe6'; }
.codicon-lock-small:before { content: '\ebe7'; }
.codicon-azure-devops:before { content: '\ebe8'; }
.codicon-verified-filled:before { content: '\ebe9'; }
.codicon-newline:before { content: '\ebea'; }
.codicon-layout:before { content: '\ebeb'; }
.codicon-layout-activitybar-left:before { content: '\ebec'; }
.codicon-layout-activitybar-right:before { content: '\ebed'; }
.codicon-layout-panel-left:before { content: '\ebee'; }
.codicon-layout-panel-center:before { content: '\ebef'; }
.codicon-layout-panel-justify:before { content: '\ebf0'; }
.codicon-layout-panel-right:before { content: '\ebf1'; }
.codicon-layout-panel:before { content: '\ebf2'; }
.codicon-layout-sidebar-left:before { content: '\ebf3'; }
.codicon-layout-sidebar-right:before { content: '\ebf4'; }
.codicon-layout-statusbar:before { content: '\ebf5'; }
.codicon-layout-menubar:before { content: '\ebf6'; }
.codicon-layout-centered:before { content: '\ebf7'; }
.codicon-layout-sidebar-right-off:before { content: '\ec00'; }
.codicon-layout-panel-off:before { content: '\ec01'; }
.codicon-layout-sidebar-left-off:before { content: '\ec02'; }
.codicon-target:before { content: '\ebf8'; }
.codicon-indent:before { content: '\ebf9'; }
.codicon-record-small:before { content: '\ebfa'; }
.codicon-error-small:before { content: '\ebfb'; }
.codicon-arrow-circle-down:before { content: '\ebfc'; }
.codicon-arrow-circle-left:before { content: '\ebfd'; }
.codicon-arrow-circle-right:before { content: '\ebfe'; }
.codicon-arrow-circle-up:before { content: '\ebff'; }
.codicon-heart-filled:before { content: '\ec04'; }
.codicon-map:before { content: '\ec05'; }
.codicon-map-filled:before { content: '\ec06'; }
.codicon-circle-small:before { content: '\ec07'; }
.codicon-bell-slash:before { content: '\ec08'; }
.codicon-bell-slash-dot:before { content: '\ec09'; }
.codicon-comment-unresolved:before { content: '\ec0a'; }
.codicon-git-pull-request-go-to-changes:before { content: '\ec0b'; }
.codicon-git-pull-request-new-changes:before { content: '\ec0c'; }
.codicon-search-fuzzy:before { content: '\ec0d'; }
.codicon-comment-draft:before { content: '\ec0e'; }
.codicon-send:before { content: '\ec0f'; }
.codicon-sparkle:before { content: '\ec10'; }
.codicon-insert:before { content: '\ec11'; }
.codicon-dialog-error:before { content: '\ea87'; }
.codicon-dialog-warning:before { content: '\ea6c'; }
.codicon-dialog-info:before { content: '\ea74'; }
.codicon-dialog-close:before { content: '\ea76'; }
.codicon-tree-item-expanded:before { content: '\eab4'; }
.codicon-tree-filter-on-type-on:before { content: '\eb83'; }
.codicon-tree-filter-on-type-off:before { content: '\eb85'; }
.codicon-tree-filter-clear:before { content: '\ea76'; }
.codicon-tree-item-loading:before { content: '\eb19'; }
.codicon-menu-selection:before { content: '\eab2'; }
.codicon-menu-submenu:before { content: '\eab6'; }
.codicon-menubar-more:before { content: '\ea7c'; }
.codicon-scrollbar-button-left:before { content: '\eb6f'; }
.codicon-scrollbar-button-right:before { content: '\eb70'; }
.codicon-scrollbar-button-up:before { content: '\eb71'; }
.codicon-scrollbar-button-down:before { content: '\eb6e'; }
.codicon-toolbar-more:before { content: '\ea7c'; }
.codicon-quick-input-back:before { content: '\ea9b'; }
.codicon-widget-close:before { content: '\ea76'; }
.codicon-goto-previous-location:before { content: '\eaa1'; }
.codicon-goto-next-location:before { content: '\ea9a'; }
.codicon-diff-review-insert:before { content: '\ea60'; }
.codicon-diff-review-remove:before { content: '\eb3b'; }
.codicon-diff-review-close:before { content: '\ea76'; }
.codicon-parameter-hints-next:before { content: '\eab4'; }
.codicon-parameter-hints-previous:before { content: '\eab7'; }
.codicon-suggest-more-info:before { content: '\eab6'; }
.codicon-inline-suggestion-hints-next:before { content: '\eab6'; }
.codicon-inline-suggestion-hints-previous:before { content: '\eab5'; }
.codicon-diff-insert:before { content: '\ea60'; }
.codicon-diff-remove:before { content: '\eb3b'; }
.codicon-find-selection:before { content: '\eb85'; }
.codicon-find-collapsed:before { content: '\eab6'; }
.codicon-find-expanded:before { content: '\eab4'; }
.codicon-find-replace:before { content: '\eb3d'; }
.codicon-find-replace-all:before { content: '\eb3c'; }
.codicon-find-previous-match:before { content: '\eaa1'; }
.codicon-find-next-match:before { content: '\ea9a'; }
.codicon-folding-expanded:before { content: '\eab4'; }
.codicon-folding-collapsed:before { content: '\eab6'; }
.codicon-folding-manual-collapsed:before { content: '\eab6'; }
.codicon-folding-manual-expanded:before { content: '\eab4'; }
.codicon-marker-navigation-next:before { content: '\ea9a'; }
.codicon-marker-navigation-previous:before { content: '\eaa1'; }
.codicon-extensions-warning-message:before { content: '\ea6c'; }
.monaco-editor .inputarea.ime-input { background-color: #1e1e1e; }
.monaco-editor .view-overlays .current-line { border: 2px solid #282828; }
.monaco-editor .margin-view-overlays .current-line-margin { border: 2px solid #282828; }
.monaco-editor .bracket-indent-guide.lvl-0 { --guide-color: rgba(255, 215, 0, 0.3); --guide-color-active: #ffd700; }
.monaco-editor .bracket-indent-guide.lvl-1 { --guide-color: rgba(218, 112, 214, 0.3); --guide-color-active: #da70d6; }
.monaco-editor .bracket-indent-guide.lvl-2 { --guide-color: rgba(23, 159, 255, 0.3); --guide-color-active: #179fff; }
.monaco-editor .bracket-indent-guide.lvl-3 { --guide-color: rgba(255, 215, 0, 0.3); --guide-color-active: #ffd700; }
.monaco-editor .bracket-indent-guide.lvl-4 { --guide-color: rgba(218, 112, 214, 0.3); --guide-color-active: #da70d6; }
.monaco-editor .bracket-indent-guide.lvl-5 { --guide-color: rgba(23, 159, 255, 0.3); --guide-color-active: #179fff; }
.monaco-editor .bracket-indent-guide.lvl-6 { --guide-color: rgba(255, 215, 0, 0.3); --guide-color-active: #ffd700; }
.monaco-editor .bracket-indent-guide.lvl-7 { --guide-color: rgba(218, 112, 214, 0.3); --guide-color-active: #da70d6; }
.monaco-editor .bracket-indent-guide.lvl-8 { --guide-color: rgba(23, 159, 255, 0.3); --guide-color-active: #179fff; }
.monaco-editor .bracket-indent-guide.lvl-9 { --guide-color: rgba(255, 215, 0, 0.3); --guide-color-active: #ffd700; }
.monaco-editor .bracket-indent-guide.lvl-10 { --guide-color: rgba(218, 112, 214, 0.3); --guide-color-active: #da70d6; }
.monaco-editor .bracket-indent-guide.lvl-11 { --guide-color: rgba(23, 159, 255, 0.3); --guide-color-active: #179fff; }
.monaco-editor .bracket-indent-guide.lvl-12 { --guide-color: rgba(255, 215, 0, 0.3); --guide-color-active: #ffd700; }
.monaco-editor .bracket-indent-guide.lvl-13 { --guide-color: rgba(218, 112, 214, 0.3); --guide-color-active: #da70d6; }
.monaco-editor .bracket-indent-guide.lvl-14 { --guide-color: rgba(23, 159, 255, 0.3); --guide-color-active: #179fff; }
.monaco-editor .bracket-indent-guide.lvl-15 { --guide-color: rgba(255, 215, 0, 0.3); --guide-color-active: #ffd700; }
.monaco-editor .bracket-indent-guide.lvl-16 { --guide-color: rgba(218, 112, 214, 0.3); --guide-color-active: #da70d6; }
.monaco-editor .bracket-indent-guide.lvl-17 { --guide-color: rgba(23, 159, 255, 0.3); --guide-color-active: #179fff; }
.monaco-editor .bracket-indent-guide.lvl-18 { --guide-color: rgba(255, 215, 0, 0.3); --guide-color-active: #ffd700; }
.monaco-editor .bracket-indent-guide.lvl-19 { --guide-color: rgba(218, 112, 214, 0.3); --guide-color-active: #da70d6; }
.monaco-editor .bracket-indent-guide.lvl-20 { --guide-color: rgba(23, 159, 255, 0.3); --guide-color-active: #179fff; }
.monaco-editor .bracket-indent-guide.lvl-21 { --guide-color: rgba(255, 215, 0, 0.3); --guide-color-active: #ffd700; }
.monaco-editor .bracket-indent-guide.lvl-22 { --guide-color: rgba(218, 112, 214, 0.3); --guide-color-active: #da70d6; }
.monaco-editor .bracket-indent-guide.lvl-23 { --guide-color: rgba(23, 159, 255, 0.3); --guide-color-active: #179fff; }
.monaco-editor .bracket-indent-guide.lvl-24 { --guide-color: rgba(255, 215, 0, 0.3); --guide-color-active: #ffd700; }
.monaco-editor .bracket-indent-guide.lvl-25 { --guide-color: rgba(218, 112, 214, 0.3); --guide-color-active: #da70d6; }
.monaco-editor .bracket-indent-guide.lvl-26 { --guide-color: rgba(23, 159, 255, 0.3); --guide-color-active: #179fff; }
.monaco-editor .bracket-indent-guide.lvl-27 { --guide-color: rgba(255, 215, 0, 0.3); --guide-color-active: #ffd700; }
.monaco-editor .bracket-indent-guide.lvl-28 { --guide-color: rgba(218, 112, 214, 0.3); --guide-color-active: #da70d6; }
.monaco-editor .bracket-indent-guide.lvl-29 { --guide-color: rgba(23, 159, 255, 0.3); --guide-color-active: #179fff; }
.monaco-editor .vertical { box-shadow: 1px 0 0 0 var(--guide-color) inset; }
.monaco-editor .horizontal-top { border-top: 1px solid var(--guide-color); }
.monaco-editor .horizontal-bottom { border-bottom: 1px solid var(--guide-color); }
.monaco-editor .vertical.indent-active { box-shadow: 1px 0 0 0 var(--guide-color-active) inset; }
.monaco-editor .horizontal-top.indent-active { border-top: 1px solid var(--guide-color-active); }
.monaco-editor .horizontal-bottom.indent-active { border-bottom: 1px solid var(--guide-color-active); }
.monaco-editor .line-numbers.dimmed-line-number { color: rgba(133, 133, 133, 0.4); }
.monaco-editor .cursors-layer .cursor { background-color: #aeafad; border-color: #aeafad; color: #515052; }
.monaco-editor .unexpected-closing-bracket { color: rgba(255, 18, 18, 0.8); }
.monaco-editor .bracket-highlighting-0 { color: #ffd700; }
.monaco-editor .bracket-highlighting-1 { color: #da70d6; }
.monaco-editor .bracket-highlighting-2 { color: #179fff; }
.monaco-editor .bracket-highlighting-3 { color: #ffd700; }
.monaco-editor .bracket-highlighting-4 { color: #da70d6; }
.monaco-editor .bracket-highlighting-5 { color: #179fff; }
.monaco-editor .bracket-highlighting-6 { color: #ffd700; }
.monaco-editor .bracket-highlighting-7 { color: #da70d6; }
.monaco-editor .bracket-highlighting-8 { color: #179fff; }
.monaco-editor .bracket-highlighting-9 { color: #ffd700; }
.monaco-editor .bracket-highlighting-10 { color: #da70d6; }
.monaco-editor .bracket-highlighting-11 { color: #179fff; }
.monaco-editor .bracket-highlighting-12 { color: #ffd700; }
.monaco-editor .bracket-highlighting-13 { color: #da70d6; }
.monaco-editor .bracket-highlighting-14 { color: #179fff; }
.monaco-editor .bracket-highlighting-15 { color: #ffd700; }
.monaco-editor .bracket-highlighting-16 { color: #da70d6; }
.monaco-editor .bracket-highlighting-17 { color: #179fff; }
.monaco-editor .bracket-highlighting-18 { color: #ffd700; }
.monaco-editor .bracket-highlighting-19 { color: #da70d6; }
.monaco-editor .bracket-highlighting-20 { color: #179fff; }
.monaco-editor .bracket-highlighting-21 { color: #ffd700; }
.monaco-editor .bracket-highlighting-22 { color: #da70d6; }
.monaco-editor .bracket-highlighting-23 { color: #179fff; }
.monaco-editor .bracket-highlighting-24 { color: #ffd700; }
.monaco-editor .bracket-highlighting-25 { color: #da70d6; }
.monaco-editor .bracket-highlighting-26 { color: #179fff; }
.monaco-editor .bracket-highlighting-27 { color: #ffd700; }
.monaco-editor .bracket-highlighting-28 { color: #da70d6; }
.monaco-editor .bracket-highlighting-29 { color: #179fff; }
.monaco-editor .squiggly-error { background: url("data:image/svg+xml,%3Csvg%20xmlns%3D'http%3A%2F%2Fwww.w3.org%2F2000%2Fsvg'%20viewBox%3D'0%200%206%203'%20enable-background%3D'new%200%200%206%203'%20height%3D'3'%20width%3D'6'%3E%3Cg%20fill%3D'%23f14c4c'%3E%3Cpolygon%20points%3D'5.5%2C0%202.5%2C3%201.1%2C3%204.1%2C0'%2F%3E%3Cpolygon%20points%3D'4%2C0%206%2C2%206%2C0.6%205.4%2C0'%2F%3E%3Cpolygon%20points%3D'0%2C2%201%2C3%202.4%2C3%200%2C0.6'%2F%3E%3C%2Fg%3E%3C%2Fsvg%3E") repeat-x bottom left; }
.monaco-editor .squiggly-warning { background: url("data:image/svg+xml,%3Csvg%20xmlns%3D'http%3A%2F%2Fwww.w3.org%2F2000%2Fsvg'%20viewBox%3D'0%200%206%203'%20enable-background%3D'new%200%200%206%203'%20height%3D'3'%20width%3D'6'%3E%3Cg%20fill%3D'%23cca700'%3E%3Cpolygon%20points%3D'5.5%2C0%202.5%2C3%201.1%2C3%204.1%2C0'%2F%3E%3Cpolygon%20points%3D'4%2C0%206%2C2%206%2C0.6%205.4%2C0'%2F%3E%3Cpolygon%20points%3D'0%2C2%201%2C3%202.4%2C3%200%2C0.6'%2F%3E%3C%2Fg%3E%3C%2Fsvg%3E") repeat-x bottom left; }
.monaco-editor .squiggly-info { background: url("data:image/svg+xml,%3Csvg%20xmlns%3D'http%3A%2F%2Fwww.w3.org%2F2000%2Fsvg'%20viewBox%3D'0%200%206%203'%20enable-background%3D'new%200%200%206%203'%20height%3D'3'%20width%3D'6'%3E%3Cg%20fill%3D'%233794ff'%3E%3Cpolygon%20points%3D'5.5%2C0%202.5%2C3%201.1%2C3%204.1%2C0'%2F%3E%3Cpolygon%20points%3D'4%2C0%206%2C2%206%2C0.6%205.4%2C0'%2F%3E%3Cpolygon%20points%3D'0%2C2%201%2C3%202.4%2C3%200%2C0.6'%2F%3E%3C%2Fg%3E%3C%2Fsvg%3E") repeat-x bottom left; }
.monaco-editor .squiggly-hint { background: url("data:image/svg+xml,%3Csvg%20xmlns%3D%22http%3A%2F%2Fwww.w3.org%2F2000%2Fsvg%22%20height%3D%223%22%20width%3D%2212%22%3E%3Cg%20fill%3D%22rgba(238%2C%20238%2C%20238%2C%200.7)%22%3E%3Ccircle%20cx%3D%221%22%20cy%3D%221%22%20r%3D%221%22%2F%3E%3Ccircle%20cx%3D%225%22%20cy%3D%221%22%20r%3D%221%22%2F%3E%3Ccircle%20cx%3D%229%22%20cy%3D%221%22%20r%3D%221%22%2F%3E%3C%2Fg%3E%3C%2Fsvg%3E") no-repeat bottom left; }
.monaco-editor.showUnused .squiggly-inline-unnecessary { opacity: 0.667; }
.monaco-editor .selectionHighlight { background-color: rgba(173, 214, 255, 0.07); }

	.monaco-editor .diagonal-fill {
		background-image: linear-gradient(
			-45deg,
			rgba(204, 204, 204, 0.2) 12.5%,
			#0000 12.5%, #0000 50%,
			rgba(204, 204, 204, 0.2) 50%, rgba(204, 204, 204, 0.2) 62.5%,
			#0000 62.5%, #0000 100%
		);
		background-size: 8px 8px;
	}
	
.monaco-editor .findMatch { background-color: rgba(234, 92, 0, 0.33); }
.monaco-editor .currentFindMatch { background-color: #515c6a; }
.monaco-editor .findScope { background-color: rgba(58, 61, 65, 0.4); }
.monaco-editor .find-widget { background-color: #252526; }
.monaco-editor .find-widget { box-shadow: 0 0 8px 2px rgba(0, 0, 0, 0.36); }
.monaco-editor .find-widget { color: #cccccc; }
.monaco-editor .find-widget.no-results .matchesCount { color: #f48771; }
.monaco-editor .find-widget .monaco-sash { background-color: #454545; }

		.monaco-editor .find-widget .button:not(.disabled):hover,
		.monaco-editor .find-widget .codicon-find-selection:hover {
			background-color: rgba(90, 93, 94, 0.31) !important;
		}
	
.monaco-editor .find-widget .monaco-inputbox.synthetic-focus { outline-color: #007fd4; }
.monaco-editor .monaco-hover .hover-row:not(:first-child):not(:empty) { border-top: 1px solid rgba(69, 69, 69, 0.5); }
.monaco-editor .monaco-hover hr { border-top: 1px solid rgba(69, 69, 69, 0.5); }
.monaco-editor .monaco-hover hr { border-bottom: 0px solid rgba(69, 69, 69, 0.5); }
.monaco-editor { --vscode-foreground: #cccccc;
--vscode-disabledForeground: rgba(204, 204, 204, 0.5);
--vscode-errorForeground: #f48771;
--vscode-descriptionForeground: rgba(204, 204, 204, 0.7);
--vscode-icon-foreground: #c5c5c5;
--vscode-focusBorder: #007fd4;
--vscode-textSeparator-foreground: rgba(255, 255, 255, 0.18);
--vscode-textLink-foreground: #3794ff;
--vscode-textLink-activeForeground: #3794ff;
--vscode-textPreformat-foreground: #d7ba7d;
--vscode-textBlockQuote-background: rgba(127, 127, 127, 0.1);
--vscode-textBlockQuote-border: rgba(0, 122, 204, 0.5);
--vscode-textCodeBlock-background: rgba(10, 10, 10, 0.4);
--vscode-widget-shadow: rgba(0, 0, 0, 0.36);
--vscode-input-background: #3c3c3c;
--vscode-input-foreground: #cccccc;
--vscode-inputOption-activeBorder: #007acc;
--vscode-inputOption-hoverBackground: rgba(90, 93, 94, 0.5);
--vscode-inputOption-activeBackground: rgba(0, 127, 212, 0.4);
--vscode-inputOption-activeForeground: #ffffff;
--vscode-input-placeholderForeground: rgba(204, 204, 204, 0.5);
--vscode-inputValidation-infoBackground: #063b49;
--vscode-inputValidation-infoBorder: #007acc;
--vscode-inputValidation-warningBackground: #352a05;
--vscode-inputValidation-warningBorder: #b89500;
--vscode-inputValidation-errorBackground: #5a1d1d;
--vscode-inputValidation-errorBorder: #be1100;
--vscode-dropdown-background: #3c3c3c;
--vscode-dropdown-foreground: #f0f0f0;
--vscode-dropdown-border: #3c3c3c;
--vscode-button-foreground: #ffffff;
--vscode-button-separator: rgba(255, 255, 255, 0.4);
--vscode-button-background: #0e639c;
--vscode-button-hoverBackground: #1177bb;
--vscode-button-secondaryForeground: #ffffff;
--vscode-button-secondaryBackground: #3a3d41;
--vscode-button-secondaryHoverBackground: #45494e;
--vscode-badge-background: #4d4d4d;
--vscode-badge-foreground: #ffffff;
--vscode-scrollbar-shadow: #000000;
--vscode-scrollbarSlider-background: rgba(121, 121, 121, 0.4);
--vscode-scrollbarSlider-hoverBackground: rgba(100, 100, 100, 0.7);
--vscode-scrollbarSlider-activeBackground: rgba(191, 191, 191, 0.4);
--vscode-progressBar-background: #0e70c0;
--vscode-editorError-foreground: #f14c4c;
--vscode-editorWarning-foreground: #cca700;
--vscode-editorInfo-foreground: #3794ff;
--vscode-editorHint-foreground: rgba(238, 238, 238, 0.7);
--vscode-sash-hoverBorder: #007fd4;
--vscode-editor-background: #1e1e1e;
--vscode-editor-foreground: #d4d4d4;
--vscode-editorStickyScroll-background: #1e1e1e;
--vscode-editorStickyScrollHover-background: #2a2d2e;
--vscode-editorWidget-background: #252526;
--vscode-editorWidget-foreground: #cccccc;
--vscode-editorWidget-border: #454545;
--vscode-quickInput-background: #252526;
--vscode-quickInput-foreground: #cccccc;
--vscode-quickInputTitle-background: rgba(255, 255, 255, 0.1);
--vscode-pickerGroup-foreground: #3794ff;
--vscode-pickerGroup-border: #3f3f46;
--vscode-keybindingLabel-background: rgba(128, 128, 128, 0.17);
--vscode-keybindingLabel-foreground: #cccccc;
--vscode-keybindingLabel-border: rgba(51, 51, 51, 0.6);
--vscode-keybindingLabel-bottomBorder: rgba(68, 68, 68, 0.6);
--vscode-editor-selectionBackground: #264f78;
--vscode-editor-inactiveSelectionBackground: #3a3d41;
--vscode-editor-selectionHighlightBackground: rgba(173, 214, 255, 0.15);
--vscode-editor-findMatchBackground: #515c6a;
--vscode-editor-findMatchHighlightBackground: rgba(234, 92, 0, 0.33);
--vscode-editor-findRangeHighlightBackground: rgba(58, 61, 65, 0.4);
--vscode-searchEditor-findMatchBackground: rgba(234, 92, 0, 0.22);
--vscode-search-resultsInfoForeground: rgba(204, 204, 204, 0.65);
--vscode-editor-hoverHighlightBackground: rgba(38, 79, 120, 0.25);
--vscode-editorHoverWidget-background: #252526;
--vscode-editorHoverWidget-foreground: #cccccc;
--vscode-editorHoverWidget-border: #454545;
--vscode-editorHoverWidget-statusBarBackground: #2c2c2d;
--vscode-editorLink-activeForeground: #4e94ce;
--vscode-editorInlayHint-foreground: #cccccc;
--vscode-editorInlayHint-background: rgba(77, 77, 77, 0.25);
--vscode-editorInlayHint-typeForeground: #cccccc;
--vscode-editorInlayHint-typeBackground: rgba(77, 77, 77, 0.25);
--vscode-editorInlayHint-parameterForeground: #cccccc;
--vscode-editorInlayHint-parameterBackground: rgba(77, 77, 77, 0.25);
--vscode-editorLightBulb-foreground: #ffcc00;
--vscode-editorLightBulbAutoFix-foreground: #75beff;
--vscode-diffEditor-insertedTextBackground: rgba(156, 204, 44, 0.13);
--vscode-diffEditor-removedTextBackground: rgba(255, 0, 0, 0.14);
--vscode-diffEditor-insertedLineBackground: rgba(156, 204, 44, 0.13);
--vscode-diffEditor-removedLineBackground: rgba(255, 0, 0, 0.14);
--vscode-diffEditor-diagonalFill: rgba(204, 204, 204, 0.2);
--vscode-diffEditor-unchangedRegionBackground: #3e3e3e;
--vscode-diffEditor-unchangedRegionForeground: #a3a2a2;
--vscode-diffEditor-unchangedCodeBackground: rgba(116, 116, 116, 0.16);
--vscode-list-focusOutline: #007fd4;
--vscode-list-activeSelectionBackground: #04395e;
--vscode-list-activeSelectionForeground: #ffffff;
--vscode-list-inactiveSelectionBackground: #37373d;
--vscode-list-hoverBackground: #2a2d2e;
--vscode-list-dropBackground: #062f4a;
--vscode-list-highlightForeground: #2aaaff;
--vscode-list-focusHighlightForeground: #2aaaff;
--vscode-list-invalidItemForeground: #b89500;
--vscode-list-errorForeground: #f88070;
--vscode-list-warningForeground: #cca700;
--vscode-listFilterWidget-background: #252526;
--vscode-listFilterWidget-outline: rgba(0, 0, 0, 0);
--vscode-listFilterWidget-noMatchesOutline: #be1100;
--vscode-listFilterWidget-shadow: rgba(0, 0, 0, 0.36);
--vscode-list-filterMatchBackground: rgba(234, 92, 0, 0.33);
--vscode-tree-indentGuidesStroke: #585858;
--vscode-tree-inactiveIndentGuidesStroke: rgba(88, 88, 88, 0.4);
--vscode-tree-tableColumnsBorder: rgba(204, 204, 204, 0.13);
--vscode-tree-tableOddRowsBackground: rgba(204, 204, 204, 0.04);
--vscode-list-deemphasizedForeground: #8c8c8c;
--vscode-checkbox-background: #3c3c3c;
--vscode-checkbox-selectBackground: #252526;
--vscode-checkbox-foreground: #f0f0f0;
--vscode-checkbox-border: #3c3c3c;
--vscode-checkbox-selectBorder: #c5c5c5;
--vscode-quickInputList-focusForeground: #ffffff;
--vscode-quickInputList-focusBackground: #04395e;
--vscode-menu-foreground: #f0f0f0;
--vscode-menu-background: #3c3c3c;
--vscode-menu-selectionForeground: #ffffff;
--vscode-menu-selectionBackground: #04395e;
--vscode-menu-separatorBackground: #606060;
--vscode-toolbar-hoverBackground: rgba(90, 93, 94, 0.31);
--vscode-toolbar-activeBackground: rgba(99, 102, 103, 0.31);
--vscode-editor-snippetTabstopHighlightBackground: rgba(124, 124, 124, 0.3);
--vscode-editor-snippetFinalTabstopHighlightBorder: #525252;
--vscode-breadcrumb-foreground: rgba(204, 204, 204, 0.8);
--vscode-breadcrumb-background: #1e1e1e;
--vscode-breadcrumb-focusForeground: #e0e0e0;
--vscode-breadcrumb-activeSelectionForeground: #e0e0e0;
--vscode-breadcrumbPicker-background: #252526;
--vscode-merge-currentHeaderBackground: rgba(64, 200, 174, 0.5);
--vscode-merge-currentContentBackground: rgba(64, 200, 174, 0.2);
--vscode-merge-incomingHeaderBackground: rgba(64, 166, 255, 0.5);
--vscode-merge-incomingContentBackground: rgba(64, 166, 255, 0.2);
--vscode-merge-commonHeaderBackground: rgba(96, 96, 96, 0.4);
--vscode-merge-commonContentBackground: rgba(96, 96, 96, 0.16);
--vscode-editorOverviewRuler-currentContentForeground: rgba(64, 200, 174, 0.5);
--vscode-editorOverviewRuler-incomingContentForeground: rgba(64, 166, 255, 0.5);
--vscode-editorOverviewRuler-commonContentForeground: rgba(96, 96, 96, 0.4);
--vscode-editorOverviewRuler-findMatchForeground: rgba(209, 134, 22, 0.49);
--vscode-editorOverviewRuler-selectionHighlightForeground: rgba(160, 160, 160, 0.8);
--vscode-minimap-findMatchHighlight: #d18616;
--vscode-minimap-selectionOccurrenceHighlight: #676767;
--vscode-minimap-selectionHighlight: #264f78;
--vscode-minimap-errorHighlight: rgba(255, 18, 18, 0.7);
--vscode-minimap-warningHighlight: #cca700;
--vscode-minimap-foregroundOpacity: #000000;
--vscode-minimapSlider-background: rgba(121, 121, 121, 0.2);
--vscode-minimapSlider-hoverBackground: rgba(100, 100, 100, 0.35);
--vscode-minimapSlider-activeBackground: rgba(191, 191, 191, 0.2);
--vscode-problemsErrorIcon-foreground: #f14c4c;
--vscode-problemsWarningIcon-foreground: #cca700;
--vscode-problemsInfoIcon-foreground: #3794ff;
--vscode-charts-foreground: #cccccc;
--vscode-charts-lines: rgba(204, 204, 204, 0.5);
--vscode-charts-red: #f14c4c;
--vscode-charts-blue: #3794ff;
--vscode-charts-yellow: #cca700;
--vscode-charts-orange: #d18616;
--vscode-charts-green: #89d185;
--vscode-charts-purple: #b180d7;
--vscode-symbolIcon-arrayForeground: #cccccc;
--vscode-symbolIcon-booleanForeground: #cccccc;
--vscode-symbolIcon-classForeground: #ee9d28;
--vscode-symbolIcon-colorForeground: #cccccc;
--vscode-symbolIcon-constantForeground: #cccccc;
--vscode-symbolIcon-constructorForeground: #b180d7;
--vscode-symbolIcon-enumeratorForeground: #ee9d28;
--vscode-symbolIcon-enumeratorMemberForeground: #75beff;
--vscode-symbolIcon-eventForeground: #ee9d28;
--vscode-symbolIcon-fieldForeground: #75beff;
--vscode-symbolIcon-fileForeground: #cccccc;
--vscode-symbolIcon-folderForeground: #cccccc;
--vscode-symbolIcon-functionForeground: #b180d7;
--vscode-symbolIcon-interfaceForeground: #75beff;
--vscode-symbolIcon-keyForeground: #cccccc;
--vscode-symbolIcon-keywordForeground: #cccccc;
--vscode-symbolIcon-methodForeground: #b180d7;
--vscode-symbolIcon-moduleForeground: #cccccc;
--vscode-symbolIcon-namespaceForeground: #cccccc;
--vscode-symbolIcon-nullForeground: #cccccc;
--vscode-symbolIcon-numberForeground: #cccccc;
--vscode-symbolIcon-objectForeground: #cccccc;
--vscode-symbolIcon-operatorForeground: #cccccc;
--vscode-symbolIcon-packageForeground: #cccccc;
--vscode-symbolIcon-propertyForeground: #cccccc;
--vscode-symbolIcon-referenceForeground: #cccccc;
--vscode-symbolIcon-snippetForeground: #cccccc;
--vscode-symbolIcon-stringForeground: #cccccc;
--vscode-symbolIcon-structForeground: #cccccc;
--vscode-symbolIcon-textForeground: #cccccc;
--vscode-symbolIcon-typeParameterForeground: #cccccc;
--vscode-symbolIcon-unitForeground: #cccccc;
--vscode-symbolIcon-variableForeground: #75beff;
--vscode-editor-lineHighlightBorder: #282828;
--vscode-editor-rangeHighlightBackground: rgba(255, 255, 255, 0.04);
--vscode-editor-symbolHighlightBackground: rgba(234, 92, 0, 0.33);
--vscode-editorCursor-foreground: #aeafad;
--vscode-editorWhitespace-foreground: rgba(227, 228, 226, 0.16);
--vscode-editorIndentGuide-background: #404040;
--vscode-editorIndentGuide-activeBackground: #707070;
--vscode-editorLineNumber-foreground: #858585;
--vscode-editorActiveLineNumber-foreground: #c6c6c6;
--vscode-editorLineNumber-activeForeground: #c6c6c6;
--vscode-editorRuler-foreground: #5a5a5a;
--vscode-editorCodeLens-foreground: #999999;
--vscode-editorBracketMatch-background: rgba(0, 100, 0, 0.1);
--vscode-editorBracketMatch-border: #888888;
--vscode-editorOverviewRuler-border: rgba(127, 127, 127, 0.3);
--vscode-editorGutter-background: #1e1e1e;
--vscode-editorUnnecessaryCode-opacity: rgba(0, 0, 0, 0.67);
--vscode-editorGhostText-foreground: rgba(255, 255, 255, 0.34);
--vscode-editorOverviewRuler-rangeHighlightForeground: rgba(0, 122, 204, 0.6);
--vscode-editorOverviewRuler-errorForeground: rgba(255, 18, 18, 0.7);
--vscode-editorOverviewRuler-warningForeground: #cca700;
--vscode-editorOverviewRuler-infoForeground: #3794ff;
--vscode-editorBracketHighlight-foreground1: #ffd700;
--vscode-editorBracketHighlight-foreground2: #da70d6;
--vscode-editorBracketHighlight-foreground3: #179fff;
--vscode-editorBracketHighlight-foreground4: rgba(0, 0, 0, 0);
--vscode-editorBracketHighlight-foreground5: rgba(0, 0, 0, 0);
--vscode-editorBracketHighlight-foreground6: rgba(0, 0, 0, 0);
--vscode-editorBracketHighlight-unexpectedBracket-foreground: rgba(255, 18, 18, 0.8);
--vscode-editorBracketPairGuide-background1: rgba(0, 0, 0, 0);
--vscode-editorBracketPairGuide-background2: rgba(0, 0, 0, 0);
--vscode-editorBracketPairGuide-background3: rgba(0, 0, 0, 0);
--vscode-editorBracketPairGuide-background4: rgba(0, 0, 0, 0);
--vscode-editorBracketPairGuide-background5: rgba(0, 0, 0, 0);
--vscode-editorBracketPairGuide-background6: rgba(0, 0, 0, 0);
--vscode-editorBracketPairGuide-activeBackground1: rgba(0, 0, 0, 0);
--vscode-editorBracketPairGuide-activeBackground2: rgba(0, 0, 0, 0);
--vscode-editorBracketPairGuide-activeBackground3: rgba(0, 0, 0, 0);
--vscode-editorBracketPairGuide-activeBackground4: rgba(0, 0, 0, 0);
--vscode-editorBracketPairGuide-activeBackground5: rgba(0, 0, 0, 0);
--vscode-editorBracketPairGuide-activeBackground6: rgba(0, 0, 0, 0);
--vscode-editorUnicodeHighlight-border: #bd9b03;
--vscode-editorUnicodeHighlight-background: rgba(189, 155, 3, 0.15);
--vscode-editorOverviewRuler-bracketMatchForeground: #a0a0a0;
--vscode-editor-linkedEditingBackground: rgba(255, 0, 0, 0.3);
--vscode-editor-wordHighlightBackground: rgba(87, 87, 87, 0.72);
--vscode-editor-wordHighlightStrongBackground: rgba(0, 73, 114, 0.72);
--vscode-editor-wordHighlightTextBackground: rgba(87, 87, 87, 0.72);
--vscode-editorOverviewRuler-wordHighlightForeground: rgba(160, 160, 160, 0.8);
--vscode-editorOverviewRuler-wordHighlightStrongForeground: rgba(192, 160, 192, 0.8);
--vscode-editorOverviewRuler-wordHighlightTextForeground: rgba(160, 160, 160, 0.8);
--vscode-peekViewTitle-background: #252526;
--vscode-peekViewTitleLabel-foreground: #ffffff;
--vscode-peekViewTitleDescription-foreground: rgba(204, 204, 204, 0.7);
--vscode-peekView-border: #3794ff;
--vscode-peekViewResult-background: #252526;
--vscode-peekViewResult-lineForeground: #bbbbbb;
--vscode-peekViewResult-fileForeground: #ffffff;
--vscode-peekViewResult-selectionBackground: rgba(51, 153, 255, 0.2);
--vscode-peekViewResult-selectionForeground: #ffffff;
--vscode-peekViewEditor-background: #001f33;
--vscode-peekViewEditorGutter-background: #001f33;
--vscode-peekViewEditorStickyScroll-background: #001f33;
--vscode-peekViewResult-matchHighlightBackground: rgba(234, 92, 0, 0.3);
--vscode-peekViewEditor-matchHighlightBackground: rgba(255, 143, 0, 0.6);
--vscode-editorMarkerNavigationError-background: #f14c4c;
--vscode-editorMarkerNavigationError-headerBackground: rgba(241, 76, 76, 0.1);
--vscode-editorMarkerNavigationWarning-background: #cca700;
--vscode-editorMarkerNavigationWarning-headerBackground: rgba(204, 167, 0, 0.1);
--vscode-editorMarkerNavigationInfo-background: #3794ff;
--vscode-editorMarkerNavigationInfo-headerBackground: rgba(55, 148, 255, 0.1);
--vscode-editorMarkerNavigation-background: #1e1e1e;
--vscode-editorHoverWidget-highlightForeground: #2aaaff;
--vscode-editorSuggestWidget-background: #252526;
--vscode-editorSuggestWidget-border: #454545;
--vscode-editorSuggestWidget-foreground: #d4d4d4;
--vscode-editorSuggestWidget-selectedForeground: #ffffff;
--vscode-editorSuggestWidget-selectedBackground: #04395e;
--vscode-editorSuggestWidget-highlightForeground: #2aaaff;
--vscode-editorSuggestWidget-focusHighlightForeground: #2aaaff;
--vscode-editorSuggestWidgetStatus-foreground: rgba(212, 212, 212, 0.5);
--vscode-editor-foldBackground: rgba(38, 79, 120, 0.3);
--vscode-editorGutter-foldingControlForeground: #c5c5c5; }

.mtk1 { color: #d4d4d4; }
.mtk2 { color: #1e1e1e; }
.mtk3 { color: #cc6666; }
.mtk4 { color: #9cdcfe; }
.mtk5 { color: #ce9178; }
.mtk6 { color: #b5cea8; }
.mtk7 { color: #608b4e; }
.mtk8 { color: #6aa94f; }
.mtk9 { color: #569cd6; }
.mtk10 { color: #f28b82; }
.mtk11 { color: #d7ba7d; }
.mtk12 { color: #dcdcdc; }
.mtk13 { color: #808080; }
.mtk14 { color: #4ec9b0; }
.mtk15 { color: #dcdcaa; }
.mtk16 { color: #f44747; }
.mtk17 { color: #82c6ff; }
.mtk18 { color: #c586c0; }
.mtk19 { color: #a79873; }
.mtk20 { color: #dd6a6f; }
.mtk21 { color: #5bb498; }
.mtk22 { color: #909090; }
.mtk23 { color: #778899; }
.mtk24 { color: #ff00ff; }
.mtk25 { color: #b46695; }
.mtk26 { color: #ff0000; }
.mtk27 { color: #4f76ac; }
.mtk28 { color: #3dc9b0; }
.mtk29 { color: #74b0df; }
.mtk30 { color: #4864aa; }
.mtki { font-style: italic; }
.mtkb { font-weight: bold; }
.mtku { text-decoration: underline; text-underline-position: under; }
.mtks { text-decoration: line-through; }
.mtks.mtku { text-decoration: underline line-through; text-underline-position: under; }</style><style type="text/css">.MathJax_Display {text-align: center; margin: 0; position: relative; display: block!important; text-indent: 0; max-width: none; max-height: none; min-width: 0; min-height: 0; width: 100%}
.MathJax .merror {background-color: #FFFF88; color: #CC0000; border: 1px solid #CC0000; padding: 1px 3px; font-style: normal; font-size: 90%}
.MathJax .MJX-monospace {font-family: monospace}
.MathJax .MJX-sans-serif {font-family: sans-serif}
#MathJax_Tooltip {background-color: InfoBackground; color: InfoText; border: 1px solid black; box-shadow: 2px 2px 5px #AAAAAA; -webkit-box-shadow: 2px 2px 5px #AAAAAA; -moz-box-shadow: 2px 2px 5px #AAAAAA; -khtml-box-shadow: 2px 2px 5px #AAAAAA; filter: progid:DXImageTransform.Microsoft.dropshadow(OffX=2, OffY=2, Color='gray', Positive='true'); padding: 3px 4px; z-index: 401; position: absolute; left: 0; top: 0; width: auto; height: auto; display: none}
.MathJax {display: inline; font-style: normal; font-weight: normal; line-height: normal; font-size: 100%; font-size-adjust: none; text-indent: 0; text-align: left; text-transform: none; letter-spacing: normal; word-spacing: normal; word-wrap: normal; white-space: nowrap; float: none; direction: ltr; max-width: none; max-height: none; min-width: 0; min-height: 0; border: 0; padding: 0; margin: 0}
.MathJax:focus, body :focus .MathJax {display: inline-table}
.MathJax.MathJax_FullWidth {text-align: center; display: table-cell!important; width: 10000em!important}
.MathJax img, .MathJax nobr, .MathJax a {border: 0; padding: 0; margin: 0; max-width: none; max-height: none; min-width: 0; min-height: 0; vertical-align: 0; line-height: normal; text-decoration: none}
img.MathJax_strut {border: 0!important; padding: 0!important; margin: 0!important; vertical-align: 0!important}
.MathJax span {display: inline; position: static; border: 0; padding: 0; margin: 0; vertical-align: 0; line-height: normal; text-decoration: none; box-sizing: content-box}
.MathJax nobr {white-space: nowrap!important}
.MathJax img {display: inline!important; float: none!important}
.MathJax * {transition: none; -webkit-transition: none; -moz-transition: none; -ms-transition: none; -o-transition: none}
.MathJax_Processing {visibility: hidden; position: fixed; width: 0; height: 0; overflow: hidden}
.MathJax_Processed {display: none!important}
.MathJax_test {font-style: normal; font-weight: normal; font-size: 100%; font-size-adjust: none; text-indent: 0; text-transform: none; letter-spacing: normal; word-spacing: normal; overflow: hidden; height: 1px}
.MathJax_test.mjx-test-display {display: table!important}
.MathJax_test.mjx-test-inline {display: inline!important; margin-right: -1px}
.MathJax_test.mjx-test-default {display: block!important; clear: both}
.MathJax_ex_box {display: inline-block!important; position: absolute; overflow: hidden; min-height: 0; max-height: none; padding: 0; border: 0; margin: 0; width: 1px; height: 60ex}
.MathJax_em_box {display: inline-block!important; position: absolute; overflow: hidden; min-height: 0; max-height: none; padding: 0; border: 0; margin: 0; width: 1px; height: 60em}
.mjx-test-inline .MathJax_left_box {display: inline-block; width: 0; float: left}
.mjx-test-inline .MathJax_right_box {display: inline-block; width: 0; float: right}
.mjx-test-display .MathJax_right_box {display: table-cell!important; width: 10000em!important; min-width: 0; max-width: none; padding: 0; border: 0; margin: 0}
.MathJax .MathJax_HitBox {cursor: text; background: white; opacity: 0; filter: alpha(opacity=0)}
.MathJax .MathJax_HitBox * {filter: none; opacity: 1; background: transparent}
#MathJax_Tooltip * {filter: none; opacity: 1; background: transparent}
@font-face {font-family: MathJax_Main; src: url('https://colab.research.google.com/static/mathjax/fonts/HTML-CSS/TeX/woff/MathJax_Main-Regular.woff?V=2.7.5') format('woff'), url('https://colab.research.google.com/static/mathjax/fonts/HTML-CSS/TeX/otf/MathJax_Main-Regular.otf?V=2.7.5') format('opentype')}
@font-face {font-family: MathJax_Main; src: url('https://colab.research.google.com/static/mathjax/fonts/HTML-CSS/TeX/woff/MathJax_Main-Bold.woff?V=2.7.5') format('woff'), url('https://colab.research.google.com/static/mathjax/fonts/HTML-CSS/TeX/otf/MathJax_Main-Bold.otf?V=2.7.5') format('opentype'); font-weight: bold}
@font-face {font-family: MathJax_Main; src: url('https://colab.research.google.com/static/mathjax/fonts/HTML-CSS/TeX/woff/MathJax_Main-Italic.woff?V=2.7.5') format('woff'), url('https://colab.research.google.com/static/mathjax/fonts/HTML-CSS/TeX/otf/MathJax_Main-Italic.otf?V=2.7.5') format('opentype'); font-style: italic}
@font-face {font-family: MathJax_Math; src: url('https://colab.research.google.com/static/mathjax/fonts/HTML-CSS/TeX/woff/MathJax_Math-Italic.woff?V=2.7.5') format('woff'), url('https://colab.research.google.com/static/mathjax/fonts/HTML-CSS/TeX/otf/MathJax_Math-Italic.otf?V=2.7.5') format('opentype'); font-style: italic}
@font-face {font-family: MathJax_Caligraphic; src: url('https://colab.research.google.com/static/mathjax/fonts/HTML-CSS/TeX/woff/MathJax_Caligraphic-Regular.woff?V=2.7.5') format('woff'), url('https://colab.research.google.com/static/mathjax/fonts/HTML-CSS/TeX/otf/MathJax_Caligraphic-Regular.otf?V=2.7.5') format('opentype')}
@font-face {font-family: MathJax_Size1; src: url('https://colab.research.google.com/static/mathjax/fonts/HTML-CSS/TeX/woff/MathJax_Size1-Regular.woff?V=2.7.5') format('woff'), url('https://colab.research.google.com/static/mathjax/fonts/HTML-CSS/TeX/otf/MathJax_Size1-Regular.otf?V=2.7.5') format('opentype')}
@font-face {font-family: MathJax_Size2; src: url('https://colab.research.google.com/static/mathjax/fonts/HTML-CSS/TeX/woff/MathJax_Size2-Regular.woff?V=2.7.5') format('woff'), url('https://colab.research.google.com/static/mathjax/fonts/HTML-CSS/TeX/otf/MathJax_Size2-Regular.otf?V=2.7.5') format('opentype')}
@font-face {font-family: MathJax_Size3; src: url('https://colab.research.google.com/static/mathjax/fonts/HTML-CSS/TeX/woff/MathJax_Size3-Regular.woff?V=2.7.5') format('woff'), url('https://colab.research.google.com/static/mathjax/fonts/HTML-CSS/TeX/otf/MathJax_Size3-Regular.otf?V=2.7.5') format('opentype')}
@font-face {font-family: MathJax_Size4; src: url('https://colab.research.google.com/static/mathjax/fonts/HTML-CSS/TeX/woff/MathJax_Size4-Regular.woff?V=2.7.5') format('woff'), url('https://colab.research.google.com/static/mathjax/fonts/HTML-CSS/TeX/otf/MathJax_Size4-Regular.otf?V=2.7.5') format('opentype')}
.MathJax .noError {vertical-align: ; font-size: 90%; text-align: left; color: black; padding: 1px 3px; border: 1px solid}
</style><script async="async" type="text/javascript" src="loops_and_condition_Lab_files/python.js"></script></head><body class="" style="overscroll-behavior: contain;"><div style="visibility: hidden; overflow: hidden; position: absolute; top: 0px; height: 1px; width: auto; padding: 0px; border: 0px; margin: 0px; text-align: left; text-indent: 0px; text-transform: none; line-height: normal; letter-spacing: normal; word-spacing: normal;"><div id="MathJax_Hidden"></div></div><div id="MathJax_Message" style="display: none;"></div><div class="scripts"><script nonce="">window.performance.mark('external_scripts_start');</script><script src="loops_and_condition_Lab_files/gapi_loader.js" nonce=""></script><script src="loops_and_condition_Lab_files/socketio_binary.js" nonce=""></script><script src="loops_and_condition_Lab_files/analytics_binary.js" nonce=""></script><script src="loops_and_condition_Lab_files/MathJax.js" nonce=""></script><script src="loops_and_condition_Lab_files/js_monaco_editor_vs_loader.js" nonce=""></script><script nonce="">window.performance.mark('external_scripts_end'); window.performance.measure('external_scripts', 'external_scripts_start', 'external_scripts_end'); window.performance.mark('colab_load_start');</script><script src="loops_and_condition_Lab_files/external_binary_l10n__en_gb.js" nonce=""></script><script nonce="">
          window.performance.mark('colab_load_end');
          window.performance.measure('colab_load', 'colab_load_start', 'colab_load_end');
        </script></div><colab-snackbar leading="" labeltext="" id="message-area" class="message-area">
      <md-icon-button class="close" slot="dismiss" title="Close" data-aria-label="Close" value="">
        <md-icon aria-hidden="true">close</md-icon>
      </md-icon-button>
    </colab-snackbar><colab-snackbar leading="" labeltext="" id="message-area-secondary" class="message-area startup">
      <md-icon-button class="close" slot="dismiss" title="Close" data-aria-label="Close" value="">
        <md-icon aria-hidden="true">close</md-icon>
      </md-icon-button>
    </colab-snackbar><div ng-non-bindable=""></div><div class="gb_S" ng-non-bindable=""><div class="gb_Bc"><div>Google Account</div><div class="gb_g">Azzam Sa</div><div>azamsud.745.745@gmail.com</div></div></div><script nonce="">this.gbar_=this.gbar_||{};(function(_){var window=this;
try{
var yd;yd=class extends _.hd{};_.zd=function(a,b){if(b in a.i)return a.i[b];throw new yd;};_.Ad=function(a){return _.zd(_.ed.i(),a)};
}catch(e){_._DumpException(e)}
try{
/*

 Copyright Google LLC
 SPDX-License-Identifier: Apache-2.0
*/
var Dd;_.Bd=function(a){const b=a.length;if(b>0){const c=Array(b);for(let d=0;d<b;d++)c[d]=a[d];return c}return[]};Dd=function(a){return new _.Cd(b=>b.substr(0,a.length+1).toLowerCase()===a+":")};_.Ed=globalThis.trustedTypes;_.Fd=class{constructor(a){this.i=a}toString(){return this.i}};_.Gd=new _.Fd("about:invalid#zClosurez");_.Cd=class{constructor(a){this.kh=a}};_.Hd=[Dd("data"),Dd("http"),Dd("https"),Dd("mailto"),Dd("ftp"),new _.Cd(a=>/^[^:]*([/?#]|$)/.test(a))];_.Id=class{constructor(a){this.i=a}toString(){return this.i+""}};_.Jd=new _.Id(_.Ed?_.Ed.emptyHTML:"");
}catch(e){_._DumpException(e)}
try{
var Od,be,Nd,Pd,Ud;_.Kd=function(a){return a==null?a:(0,_.Xa)(a)?a|0:void 0};_.Ld=function(a){if(a==null)return a;if(typeof a==="string"&&a)a=+a;else if(typeof a!=="number")return;return(0,_.Xa)(a)?a|0:void 0};_.Md=function(a,b){return a.lastIndexOf(b,0)==0};Od=function(){let a=null;if(!Nd)return a;try{const b=c=>c;a=Nd.createPolicy("ogb-qtm#html",{createHTML:b,createScript:b,createScriptURL:b})}catch(b){}return a};_.Qd=function(){Pd===void 0&&(Pd=Od());return Pd};
_.Sd=function(a){const b=_.Qd();return new _.Rd(b?b.createScriptURL(a):a)};_.Td=function(a){if(a instanceof _.Rd)return a.i;throw Error("H");};_.Vd=function(a){if(Ud.test(a))return a};_.Wd=function(a){if(a instanceof _.Fd)if(a instanceof _.Fd)a=a.i;else throw Error("H");else a=_.Vd(a);return a};_.Xd=function(a,b=document){let c;const d=(c=b.querySelector)==null?void 0:c.call(b,`${a}[nonce]`);return d==null?"":d.nonce||d.getAttribute("nonce")||""};_.Yd=function(a,b,c){return _.sb(a,b,c,!1)!==void 0};
_.Zd=function(a,b){return _.Ld(_.Bc(a,b))};_.S=function(a,b){return _.Kd(_.Bc(a,b))};_.T=function(a,b,c=0){let d;return(d=_.Zd(a,b))!=null?d:c};_.$d=function(a,b,c=0){let d;return(d=_.S(a,b))!=null?d:c};_.ae=function(a){var b=_.Va(a);return b=="array"||b=="object"&&typeof a.length=="number"};Nd=_.Ed;_.Rd=class{constructor(a){this.i=a}toString(){return this.i+""}};Ud=/^\s*(?!javascript:)(?:[\w+.-]+:|[^:/?#]*(?:[/?#]|$))/i;var ge,ke,ce;_.ee=function(a){return a?new ce(_.de(a)):be||(be=new ce)};_.fe=function(a,b){return typeof b==="string"?a.getElementById(b):b};_.U=function(a,b){var c=b||document;c.getElementsByClassName?a=c.getElementsByClassName(a)[0]:(c=document,a?a=(b||c).querySelector(a?"."+a:""):(b=b||c,a=(a?b.querySelectorAll(a?"."+a:""):b.getElementsByTagName("*"))[0]||null));return a||null};
_.he=function(a,b){_.ub(b,function(c,d){d=="style"?a.style.cssText=c:d=="class"?a.className=c:d=="for"?a.htmlFor=c:ge.hasOwnProperty(d)?a.setAttribute(ge[d],c):_.Md(d,"aria-")||_.Md(d,"data-")?a.setAttribute(d,c):a[d]=c})};ge={cellpadding:"cellPadding",cellspacing:"cellSpacing",colspan:"colSpan",frameborder:"frameBorder",height:"height",maxlength:"maxLength",nonce:"nonce",role:"role",rowspan:"rowSpan",type:"type",usemap:"useMap",valign:"vAlign",width:"width"};
_.ie=function(a){return a?a.defaultView:window};_.le=function(a,b){const c=b[1],d=_.je(a,String(b[0]));c&&(typeof c==="string"?d.className=c:Array.isArray(c)?d.className=c.join(" "):_.he(d,c));b.length>2&&ke(a,d,b);return d};ke=function(a,b,c){function d(e){e&&b.appendChild(typeof e==="string"?a.createTextNode(e):e)}for(let e=2;e<c.length;e++){const f=c[e];!_.ae(f)||_.Db(f)&&f.nodeType>0?d(f):_.Wb(f&&typeof f.length=="number"&&typeof f.item=="function"?_.Bd(f):f,d)}};
_.me=function(a){return _.je(document,a)};_.je=function(a,b){b=String(b);a.contentType==="application/xhtml+xml"&&(b=b.toLowerCase());return a.createElement(b)};_.ne=function(a){let b;for(;b=a.firstChild;)a.removeChild(b)};_.oe=function(a){return a&&a.parentNode?a.parentNode.removeChild(a):null};_.pe=function(a,b){return a&&b?a==b||a.contains(b):!1};_.de=function(a){return a.nodeType==9?a:a.ownerDocument||a.document};ce=function(a){this.i=a||_.t.document||document};_.n=ce.prototype;
_.n.H=function(a){return _.fe(this.i,a)};_.n.Ua=function(a,b,c){return _.le(this.i,arguments)};_.n.appendChild=function(a,b){a.appendChild(b)};_.n.te=_.ne;_.n.Nf=_.oe;_.n.Mf=_.pe;
}catch(e){_._DumpException(e)}
try{
_.zi=function(a){const b=_.Xd("script",a.ownerDocument);b&&a.setAttribute("nonce",b)};_.Ai=function(a){if(!a)return null;a=_.I(a,4);var b;a===null||a===void 0?b=null:b=_.Sd(a);return b};_.Bi=class extends _.Q{constructor(a){super(a)}};_.Ci=function(a,b){return(b||document).getElementsByTagName(String(a))};
}catch(e){_._DumpException(e)}
try{
var Ei=function(a,b,c){a<b?Di(a+1,b):_.Nc.log(Error("fa`"+a+"`"+b),{url:c})},Di=function(a,b){if(Fi){const c=_.me("SCRIPT");c.async=!0;c.type="text/javascript";c.charset="UTF-8";c.src=_.Td(Fi);_.zi(c);c.onerror=_.Gb(Ei,a,b,c.src);_.Ci("HEAD")[0].appendChild(c)}},Gi=class extends _.Q{constructor(a){super(a)}};var Hi=_.D(_.Zc,Gi,17)||new Gi,Ii,Fi=(Ii=_.D(Hi,_.Bi,1))?_.Ai(Ii):null,Ji,Ki=(Ji=_.D(Hi,_.Bi,2))?_.Ai(Ji):null,Li=function(){Di(1,2);if(Ki){const a=_.me("LINK");a.setAttribute("type","text/css");a.href=_.Td(Ki).toString();a.rel="stylesheet";let b=_.Xd("style",document);b&&a.setAttribute("nonce",b);_.Ci("HEAD")[0].appendChild(a)}};(function(){const a=_.$c();if(_.G(a,18))Li();else{const b=_.Zd(a,19)||0;window.addEventListener("load",()=>{window.setTimeout(Li,b)})}})();
}catch(e){_._DumpException(e)}
})(this.gbar_);
// Google Inc.
</script><iframe id="hfcr" style="display: none;" src="loops_and_condition_Lab_files/RotateCookiesPage.htm"></iframe><div style="position: absolute; width: 0px; height: 0px; overflow: hidden; padding: 0px; border: 0px; margin: 0px;"><div id="MathJax_Font_Test" style="position: absolute; visibility: hidden; top: 0px; left: 0px; width: auto; min-width: 0px; max-width: none; padding: 0px; border: 0px; margin: 0px; white-space: nowrap; text-align: left; text-indent: 0px; text-transform: none; line-height: normal; letter-spacing: normal; word-spacing: normal; font-size: 40px; font-weight: normal; font-style: normal; font-size-adjust: none; font-family: MathJax_Size1, sans-serif;"></div></div><div class="notebook-vertical" style="position: relative;">
      <div class="top-floater"><div role="banner">
    <colab-header-skip-button></colab-header-skip-button>
    <!--?lit$935373052$-->
    <!--?lit$935373052$-->
          <div id="private-outputs-warning" class="header-warning private-outputs-warning" hidden=""><md-icon aria-hidden="true">info</md-icon>
            <div class="message">
              <!--?lit$935373052$-->This notebook is open with private outputs. Outputs will not be saved. You can disable this in <a href="#" id="private-outputs-notebook-info-link" command="notebook-settings" aria-describedby="private-outputs-notebook-info-link-tooltip">Notebook settings</a><colab-tooltip-trigger aria-hidden="true" for="private-outputs-notebook-info-link" id="private-outputs-notebook-info-link-tooltip">
        </colab-tooltip-trigger>.
            </div>
          <div class="actions"><md-icon-button class="close" title="Close" data-aria-label="Close" value="">
          <md-icon aria-hidden="true">close</md-icon>
        </md-icon-button></div></div>
        
    <!--?lit$935373052$-->

    <div id="header" class="horizontal layout">
      <div id="header-background"><div></div></div>
      <div id="header-content">
        <!--?lit$935373052$-->
        <!--?lit$935373052$--><div id="header-logo">
              <!--?lit$935373052$--> <!--?lit$935373052$--><a href="https://drive.google.com/drive/search?q=owner%3Ame%20(type%3Aapplication%2Fvnd.google.colaboratory%20%7C%7C%20type%3Aapplication%2Fvnd.google.colab)&amp;authuser=0" aria-label="View in Google Drive">
        <!--?lit$935373052$--><md-icon class="colab-large-icon" aria-hidden="true"><!--?lit$935373052$--><svg viewBox="0 0 24 24"><!--?lit$935373052$-->
      <g id="colab-logo">
        <path d="M4.54,9.46,2.19,7.1a6.93,6.93,0,0,0,0,9.79l2.36-2.36A3.59,3.59,0,0,1,4.54,9.46Z" style="fill:var(--colab-logo-dark)"></path>
        <path d="M2.19,7.1,4.54,9.46a3.59,3.59,0,0,1,5.08,0l1.71-2.93h0l-.1-.08h0A6.93,6.93,0,0,0,2.19,7.1Z" style="fill:var(--colab-logo-light)"></path>
        <path d="M11.34,17.46h0L9.62,14.54a3.59,3.59,0,0,1-5.08,0L2.19,16.9a6.93,6.93,0,0,0,9,.65l.11-.09" style="fill:var(--colab-logo-light)"></path>
        <path d="M12,7.1a6.93,6.93,0,0,0,0,9.79l2.36-2.36a3.59,3.59,0,1,1,5.08-5.08L21.81,7.1A6.93,6.93,0,0,0,12,7.1Z" style="fill:var(--colab-logo-light)"></path>
        <path d="M21.81,7.1,19.46,9.46a3.59,3.59,0,0,1-5.08,5.08L12,16.9A6.93,6.93,0,0,0,21.81,7.1Z" style="fill:var(--colab-logo-dark)"></path>
      </g></svg></md-icon>
      </a><!--?-->
            </div>
        <div id="header-doc-toolbar" class="flex">
          <div id="document-info">
            <!--?lit$935373052$--> <!--?lit$935373052$--><md-icon class="file-location-icon" id="file-type" aria-hidden="true" title="Notebook stored in Google Drive"><!--?lit$935373052$-->
      <svg viewBox="0 0 192 192">
        <path d="M128.33,122l7.59,26.17l19.89,21.42c0,0,0,0,0,0v0c2.69-1.55,4.98-3.8,6.59-6.59l18.48-32 c1.61-2.78,2.41-5.89,2.41-9l-28.38-5.5L128.33,122z" fill="#EA4335"></path>
        <path d="M123.48,18.41c-2.69-1.55-5.78-2.41-9-2.41H77.53c-3.2,0-6.32,0.88-9,2.41l0,0l7.96,26.81l19.44,20.64 L96,66l0,0l19.58-20.89L123.48,18.41C123.48,18.41,123.48,18.41,123.48,18.41C123.48,18.41,123.48,18.41,123.48,18.41z" fill="#188038"></path>
        <path d="M63.67,122l-28.33-6.5L8.72,122c0,3.1,0.8,6.2,2.4,8.99L29.6,163c1.61,2.78,3.9,5.03,6.59,6.59 l19.59-20.18L63.67,122L63.67,122z" fill="#1967D2"></path>
        <path d="M155.47,69l-25.4-44c-1.61-2.79-3.9-5.04-6.59-6.59L96,66l32.33,56h54.95c0-3.11-0.8-6.21-2.41-9 L155.47,69z" fill="#FBBC04"></path><path d="M128.33,122H63.67l-27.48,47.59c2.69,1.55,5.78,2.41,9,2.41h101.61c3.22,0,6.31-0.86,9-2.41L128.33,122z" fill="#4285F4"></path>
        <path d="M96,66L68.53,18.41c-2.69,1.55-4.97,3.79-6.58,6.57l-50.83,88.05c-1.6,2.78-2.4,5.88-2.4,8.97h54.95L96,66 z" fill="#34A853"></path>
      </svg></md-icon>
    <input id="doc-name" class="doc-name" maxlength="259" autocomplete="off" aria-label="Notebook name" command="rename" style="width: 274.433px;" aria-describedby="doc-name-tooltip" value="loops_and_condition_Lab.ipynb"><colab-dom-lifecycle-events style="display: none;"></colab-dom-lifecycle-events><colab-tooltip-trigger aria-hidden="true" for="doc-name" id="doc-name-tooltip">
        </colab-tooltip-trigger><colab-input-sizer aria-hidden="true" style="left: -1000%; position: absolute; font-family: &quot;Google Sans&quot;, &quot;Roboto&quot;, &quot;Noto&quot;, sans-serif; font-size: 18px; font-weight: 400; letter-spacing: normal; padding-left: 3px; padding-right: 4px; white-space: pre;">loops_and_condition_Lab.ipynbS_</colab-input-sizer>
            <!--?lit$935373052$-->
                  <md-icon-button id="star-icon" command="toggle-star" aria-describedby="star-icon-tooltip" data-aria-label="Star" value="">
                    <md-icon aria-hidden="true">star</md-icon>
                  </md-icon-button><colab-tooltip-trigger aria-hidden="true" for="star-icon" id="star-icon-tooltip">
        </colab-tooltip-trigger>
                
            <!--?lit$935373052$--><colab-last-saved-indicator aria-live="polite" aria-atomic="true" class="lsi-refresh"></colab-last-saved-indicator>
          </div>
        <div class="menubar-wrapper"><div><!----><div id="top-menubar" class="goog-menubar format-lightborder" style="user-select: none;" role="menubar" tabindex="0"><!--?lit$935373052$--><div class="goog-menu-button goog-inline-block" id="file-menu-button" role="button" style="user-select: none;" aria-expanded="false" aria-haspopup="true"><div class="goog-inline-block goog-menu-button-outer-box"><div class="goog-inline-block goog-menu-button-inner-box"><div class="goog-inline-block goog-menu-button-caption"><!--?lit$935373052$-->File</div><div class="goog-inline-block goog-menu-button-dropdown">&nbsp;</div></div></div></div><div class="goog-menu-button goog-inline-block" id="edit-menu-button" role="button" style="user-select: none;" aria-expanded="false" aria-haspopup="true"><div class="goog-inline-block goog-menu-button-outer-box"><div class="goog-inline-block goog-menu-button-inner-box"><div class="goog-inline-block goog-menu-button-caption"><!--?lit$935373052$-->Edit</div><div class="goog-inline-block goog-menu-button-dropdown">&nbsp;</div></div></div></div><div class="goog-menu-button goog-inline-block" id="view-menu-button" role="button" style="user-select: none;" aria-expanded="false" aria-haspopup="true"><div class="goog-inline-block goog-menu-button-outer-box"><div class="goog-inline-block goog-menu-button-inner-box"><div class="goog-inline-block goog-menu-button-caption"><!--?lit$935373052$-->View</div><div class="goog-inline-block goog-menu-button-dropdown">&nbsp;</div></div></div></div><div class="goog-menu-button goog-inline-block" id="insert-menu-button" role="button" style="user-select: none;" aria-expanded="false" aria-haspopup="true"><div class="goog-inline-block goog-menu-button-outer-box"><div class="goog-inline-block goog-menu-button-inner-box"><div class="goog-inline-block goog-menu-button-caption"><!--?lit$935373052$-->Insert</div><div class="goog-inline-block goog-menu-button-dropdown">&nbsp;</div></div></div></div><div class="goog-menu-button goog-inline-block" id="runtime-menu-button" role="button" style="user-select: none;" aria-expanded="false" aria-haspopup="true"><div class="goog-inline-block goog-menu-button-outer-box"><div class="goog-inline-block goog-menu-button-inner-box"><div class="goog-inline-block goog-menu-button-caption"><!--?lit$935373052$-->Runtime</div><div class="goog-inline-block goog-menu-button-dropdown">&nbsp;</div></div></div></div><div class="goog-menu-button goog-inline-block" id="tools-menu-button" role="button" style="user-select: none;" aria-expanded="false" aria-haspopup="true"><div class="goog-inline-block goog-menu-button-outer-box"><div class="goog-inline-block goog-menu-button-inner-box"><div class="goog-inline-block goog-menu-button-caption"><!--?lit$935373052$-->Tools</div><div class="goog-inline-block goog-menu-button-dropdown">&nbsp;</div></div></div></div><div class="goog-menu-button goog-inline-block" id="help-menu-button" role="button" style="user-select: none;" aria-expanded="false" aria-haspopup="true"><div class="goog-inline-block goog-menu-button-outer-box"><div class="goog-inline-block goog-menu-button-inner-box"><div class="goog-inline-block goog-menu-button-caption"><!--?lit$935373052$-->Help</div><div class="goog-inline-block goog-menu-button-dropdown">&nbsp;</div></div></div></div></div></div></div></div>
        <div id="header-right">
          <!--?lit$935373052$-->
    <colab-collaborator-bar id="collaborator-bar"></colab-collaborator-bar>
  
          <!--?lit$935373052$--> <md-icon-button id="comments" command="open-comments-thread" data-aria-label="Open comments pane" aria-describedby="comments-tooltip" value="">
                <md-icon aria-hidden="true">comment</md-icon>
              </md-icon-button><colab-tooltip-trigger aria-hidden="true" for="comments" id="comments-tooltip">
        </colab-tooltip-trigger>
          <!--?lit$935373052$--> <md-icon-button id="settings-cog" command="preferences" data-aria-label="Open settings" aria-describedby="settings-cog-tooltip" value="">
                <md-icon aria-hidden="true">settings</md-icon>
              </md-icon-button><colab-tooltip-trigger aria-hidden="true" for="settings-cog" id="settings-cog-tooltip">
        </colab-tooltip-trigger>
          <!--?lit$935373052$--> <md-filled-tonal-button id="share-toolbar-button" command="share" aria-describedby="share-toolbar-button-tooltip" value="" has-icon="">
                <md-icon slot="icon" aria-hidden="true"><!--?lit$935373052$-->people</md-icon>
                <!--?lit$935373052$-->Share
              </md-filled-tonal-button><colab-tooltip-trigger aria-hidden="true" for="share-toolbar-button" id="share-toolbar-button-tooltip">
        </colab-tooltip-trigger>
          <div class="header-onegoogle-container"><div class="onegoogle"><div class="gb_Fa gb_Jd gb_2d gb_Wc gb_H" id="gb" style="background-color: transparent;"><div class="gb_Cd gb_Zd gb_xd" ng-non-bindable="" data-ogsr-up="" style="padding:0;height:auto;display:block"><div class="gb_Qe" style="display:block"><div class="gb_3c"></div><div class="gb_z gb_cd gb_Mf gb_0"><div class="gb_D gb_jb gb_Mf gb_0"><a class="gb_B gb_Za gb_0" aria-expanded="false" aria-label="Google Account: Azzam Sa  
(azamsud.745.745@gmail.com)" href="https://accounts.google.com/SignOutOptions?hl=en-GB&amp;continue=https://colab.research.google.com/drive/1E_kL3EyTqBz1yGV1-U_Q0tp31V0gxg4x&amp;ec=GBRAqQM" tabindex="0" role="button"><img class="gb_P gbii" src="loops_and_condition_Lab_files/unnamed.jpg" srcset="loops_and_condition_Lab_files/unnamed.jpg 1x, loops_and_condition_Lab_files/unnamed_002.jpg 2x" alt="" aria-hidden="true" data-noaft=""><div class="gb_Q gb_R" aria-hidden="true"><svg class="gb_Ka" height="14" viewBox="0 0 14 14" width="14" xmlns="http://www.w3.org/2000/svg"><circle class="gb_La" cx="7" cy="7" r="7"></circle><path class="gb_Na" d="M6 10H8V12H6V10ZM6 2H8V8H6V2Z"></path></svg></div></a></div></div></div><div style="overflow: hidden; position: absolute; top: 0px; visibility: hidden; width: 436px; z-index: 991; height: 0px; margin-top: 57px; right: 0px; margin-right: 4px;"></div><div style="overflow: hidden; position: absolute; top: 0px; visibility: hidden; width: 420px; z-index: 991; height: 280px; margin-top: 70px; right: 0px; margin-right: 25px;"></div></div></div><script nonce="">this.gbar_=this.gbar_||{};(function(_){var window=this;
try{
_.ud=function(a,b,c){if(!a.j)if(c instanceof Array)for(var d of c)_.ud(a,b,d);else{d=(0,_.z)(a.C,a,b);const e=a.v+c;a.v++;b.dataset.eqid=e;a.B[e]=d;b&&b.addEventListener?b.addEventListener(c,d,!1):b&&b.attachEvent?b.attachEvent("on"+c,d):a.o.log(Error("D`"+b))}};
}catch(e){_._DumpException(e)}
try{
var vd=document.querySelector(".gb_J .gb_B"),wd=document.querySelector("#gb.gb_Sc");vd&&!wd&&_.ud(_.dd,vd,"click");
}catch(e){_._DumpException(e)}
try{
_.ah=function(a){if(a.v)return a.v;for(const b in a.i)if(a.i[b].fa()&&a.i[b].B())return a.i[b];return null};_.bh=function(a,b){a.i[b.J()]=b};var ch=new class extends _.R{constructor(){var a=_.Nc;super();this.B=a;this.v=null;this.o={};this.C={};this.i={};this.j=null}A(a){this.i[a]&&(_.ah(this)&&_.ah(this).J()==a||this.i[a].R(!0))}Pa(a){this.j=a;for(const b in this.i)this.i[b].fa()&&this.i[b].Pa(a)}ec(a){return a in this.i?this.i[a]:null}};_.gd("dd",ch);
}catch(e){_._DumpException(e)}
try{
_.ti=function(a,b){return _.M(a,36,b)};
}catch(e){_._DumpException(e)}
try{
var ui=document.querySelector(".gb_z .gb_B"),vi=document.querySelector("#gb.gb_Sc");ui&&!vi&&_.ud(_.dd,ui,"click");
}catch(e){_._DumpException(e)}
})(this.gbar_);
// Google Inc.
</script></div></div>
        </div>
      </div>
    </div>
  </div></div><div class="notebook-horizontal">
        <!--?lit$935373052$--><colab-left-pane role="complementary" aria-label="left pane"><!----><div class="colab-left-pane-nib layout vertical" role="toolbar" aria-orientation="vertical">
        <div class="left-pane-top"><!----><div class="left-pane-button">
        <!--?lit$935373052$--><md-icon-button toggle="" command="show-toc-pane" data-aria-label="Table of contents" title="Table of contents" value="">
      <md-icon aria-hidden="true"><!--?lit$935373052$-->format_list_bulleted</md-icon>
    </md-icon-button> <!--?lit$935373052$-->
      </div><!----><div class="left-pane-button">
        <!--?lit$935373052$--><md-icon-button toggle="" command="find" data-aria-label="Find and replace" title="Find and replace" tabindex="-1" value="">
      <md-icon aria-hidden="true"><!--?lit$935373052$-->search</md-icon>
    </md-icon-button> <!--?lit$935373052$-->
      </div><!----><div class="left-pane-button">
        <!--?lit$935373052$--><md-icon-button toggle="" command="show-variables" data-aria-label="Variables" title="Variables" tabindex="-1" value="">
      <md-icon aria-hidden="true"><!--?lit$935373052$--><svg viewBox="0 0 24 24"><!--?lit$935373052$-->
      <path d="M4.51,9.44V6.08c0-1.34.37-1.85,1.6-2.17l.22-.06V3.13l-.27,0-.44,0a4.46,4.46,0,0,0-2.2.59,2.78,2.78,0,0,0-1,2.51V9.74c0,1.26-.26,1.61-1.49,2L0,12l.94.29c1.21.38,1.49.75,1.49,2v3.5a2.94,2.94,0,0,0,1,2.6,4.39,4.39,0,0,0,2.14.56l.46,0,.27,0v-.72l-.22-.06c-1.24-.32-1.6-.81-1.6-2.17V14.58c0-1.43-.3-2.13-1.25-2.57C4.2,11.57,4.51,10.87,4.51,9.44Z"></path>
      <path d="M23.06,11.71c-1.22-.36-1.49-.71-1.49-2l0-3.5a3,3,0,0,0-1-2.6,4.38,4.38,0,0,0-2.14-.56l-.46,0-.27,0v.72l.22.06c1.24.32,1.6.81,1.6,2.17V9.44c0,1.44.3,2.13,1.25,2.57-1,.44-1.25,1.14-1.25,2.57v3.36c0,1.34-.37,1.85-1.6,2.17l-.22.06v.72l.27,0,.44,0a4.47,4.47,0,0,0,2.2-.59,2.82,2.82,0,0,0,1-2.51V14.28c0-1.26.26-1.61,1.49-2L24,12Z"></path>
      <path d="M15.16,8.22a.88.88,0,0,1,.46.16,1.25,1.25,0,0,0,.69.2h0A1,1,0,0,0,17,8.23a1.06,1.06,0,0,0,.24-.8,1.1,1.1,0,0,0-1.15-1h0c-1,0-1.73.64-3,2.57l-.12-.51c-.28-1.36-.56-2-1.39-2h0A8,8,0,0,0,9,7.08l-.47.16.16.91L9.41,8a3.22,3.22,0,0,1,.73-.14c.34,0,.43,0,.71,1.2l.56,2.47L9.76,13.82a3.6,3.6,0,0,1-.8.88.9.9,0,0,1-.38-.13,1.83,1.83,0,0,0-.88-.28,1,1,0,0,0-1,1.06A1.15,1.15,0,0,0,8,16.53c.85,0,1.35-.35,2.24-1.55l1.49-2,.46,1.88c.23,1,.46,1.66,1.53,1.66s1.66-.75,2.81-2.53l.17-.26-.81-.48-.16.2-.25.34-.19.25c-.45.57-.62.73-.76.73s-.28-.4-.34-.63l-.67-2.83a4.2,4.2,0,0,1-.15-.79C13.84,9.78,14.74,8.22,15.16,8.22Z"></path></svg></md-icon>
    </md-icon-button> <!--?lit$935373052$-->
      </div><!----><div class="left-pane-button">
        <!--?lit$935373052$--><md-icon-button toggle="" command="open-user-secrets" data-aria-label="Secrets" title="Secrets" tabindex="-1" value="">
      <md-icon aria-hidden="true"><!--?lit$935373052$-->vpn_key</md-icon>
    </md-icon-button> <!--?lit$935373052$-->
      </div><!----><div class="left-pane-button">
        <!--?lit$935373052$--><md-icon-button toggle="" command="show-files" data-aria-label="Files" title="Files" tabindex="-1" value="">
      <md-icon aria-hidden="true"><!--?lit$935373052$-->folder</md-icon>
    </md-icon-button> <!--?lit$935373052$-->
      </div></div>
        <div class="left-pane-bottom"><!----><div class="left-pane-button">
        <!--?lit$935373052$--><md-icon-button command="snippets" data-aria-label="Code snippets" title="Code snippets" tabindex="-1" value="">
      <md-icon aria-hidden="true"><!--?lit$935373052$-->code</md-icon>
    </md-icon-button> <!--?lit$935373052$-->
      </div><!----><div class="left-pane-button">
        <!--?lit$935373052$--><md-icon-button command="show-command-palette" data-aria-label="Command palette" title="Command palette" tabindex="-1" value="">
      <md-icon aria-hidden="true"><!--?lit$935373052$--><svg viewBox="0 0 24 24"><!--?lit$935373052$-->
      <path d="M21,3H3A2,2,0,0,0,1,5V17a2,2,0,0,0,2,2H21a2,2,0,0,0,2-2V5A2,2,0,0,0,21,3Zm0,2V17H3V5"></path>
      <rect x="5" y="12" width="11" height="2"></rect>
      <rect x="5" y="8" width="11" height="2"></rect>
      <rect x="17" y="8" width="2" height="2"></rect>
      <rect x="17" y="12" width="2" height="2"></rect></svg></md-icon>
    </md-icon-button> <!--?lit$935373052$-->
      </div><!----><div class="left-pane-button">
        <!--?lit$935373052$--><md-icon-button command="show-terminal" data-aria-label="Terminal" title="Terminal" tabindex="-1" value="">
      <md-icon aria-hidden="true"><!--?lit$935373052$-->terminal</md-icon>
    </md-icon-button> <!--?lit$935373052$-->
      </div></div>
      </div></colab-left-pane>
        <div class="layout vertical grow">
          <colab-notebook-toolbar id="top-toolbar" class="horizontal layout center noshrink"><!----> <!--?lit$935373052$-->
          <colab-toolbar-button command="insert-cell-below" icon="add" id="toolbar-add-code">
            <!--?lit$935373052$-->Code
          </colab-toolbar-button>
          <!--?lit$935373052$-->
          <colab-toolbar-button command="add-text" icon="add" id="toolbar-add-text">
            <!--?lit$935373052$-->Text
          </colab-toolbar-button>
        
    <!--?lit$935373052$-->
    <!--?lit$935373052$-->
    <!--?lit$935373052$-->
    <!--?lit$935373052$-->
    <!--?lit$935373052$--> <span class="collapsed-options">
          <colab-last-saved-indicator aria-live="polite" aria-atomic="true" class="lsi-refresh"></colab-last-saved-indicator>
        </span>

    <span class="flex"></span>
    <!--?lit$935373052$--><colab-connect-warning-button></colab-connect-warning-button>
    <!--?lit$935373052$--><!--?lit$935373052$--><colab-connect-button></colab-connect-button><!--?-->
    <!--?lit$935373052$--> <span class="colab-separator"></span>
          <colab-toolbar-button icon="spark" command="show-chat">
            <!--?lit$935373052$-->Gemini
          </colab-toolbar-button>
    <!--?lit$935373052$-->
    <span class="collapsed-options">
      <!--?lit$935373052$--><span class="colab-separator"></span>
      <!--?lit$935373052$--> <md-icon-button command="share" title="Share notebook" data-aria-label="Share notebook" value="">
            <md-icon filled="" aria-hidden="true"><!--?lit$935373052$-->people</md-icon>
          </md-icon-button><md-icon-button command="preferences" data-aria-label="Open settings" title="Open settings" value="">
        <md-icon filled="" aria-hidden="true">settings</md-icon>
      </md-icon-button>
    </span>
    <span class="colab-separator"></span>
    <!--?lit$935373052$--><md-icon-button toggle="" command="toggle-header" id="toggle-header-button" data-aria-label="Toggle header visibility" aria-describedby="toggle-header-button-tooltip" value="">
    <md-icon aria-hidden="true">expand_less</md-icon>
    <md-icon slot="selected" aria-hidden="true">expand_more</md-icon>
  </md-icon-button><colab-tooltip-trigger aria-hidden="true" for="toggle-header-button" id="toggle-header-button-tooltip">
        </colab-tooltip-trigger><!--?--></colab-notebook-toolbar><colab-tab-layout-container class="layout horizontal grow flexible-tabs"><!----> <div class="layout horizontal tab-pane-parent">
      <!--?lit$935373052$--> <div class="layout vertical tab-pane-parent">
      <!--?lit$935373052$--><colab-tab-pane class="layout vertical grow no-header focused" align="horizontal"><!----> <div class="layout vertical grow">
    <div class="tab-pane-header layout horizontal noshrink">
      <md-tabs><md-primary-tab noink="" title="" aria-labelledby="tab-title-o1nkKrTy2ND2" class="selected-tab" tabindex="0" md-tab="" active="">
          <div class="colab-tab-header">
            <span class="colab-tab-title" id="tab-title-o1nkKrTy2ND2"><!--?lit$935373052$--><!--?lit$935373052$-->Notebook<!--?--></span>
            <!--?lit$935373052$-->
          </div>
        </md-primary-tab></md-tabs>
      <div class="layout grow"></div>
      <!--?lit$935373052$--> <md-icon-button data-aria-expanded="false" data-aria-haspopup="menu" title="More tab actions" data-aria-label="More tab actions" value="">
    <md-icon aria-hidden="true">more_horiz</md-icon>
  </md-icon-button>
    </div>
    <div class="layout vertical grow tab-pane-container"> <colab-tab class="layout vertical grow notebook-tab-content selected-tab"><!----> <div class="overflow-flexbox-workaround">
      <colab-shaded-scroller ignore-dom-changes="" tabindex="-1" role="main" class="notebook-container" aria-label="Notebook">
        <div class="notebook-scrolling-horizontal-container">
          <div class="notebook-scrolling-horizontal">
            <div class="notebook-content-background">
              <!--?lit$935373052$-->
              <div class="notebook-content ">
                <!--?lit$935373052$--><div class="add-cell">
      <div class="add-cell-buttons">
        <md-outlined-button class="add-code add-button" data-aria-label="Add code cell
Ctrl+M B" title="Add code cell
Ctrl+M B" value="" has-icon="">
          <md-icon slot="icon" aria-hidden="true">add</md-icon>
          <!--?lit$935373052$-->Code
        </md-outlined-button>
        <md-outlined-button class="add-text add-button" data-aria-label="Add text cell" title="Add text cell" value="" has-icon="">
          <md-icon slot="icon" aria-hidden="true">add</md-icon>
          <!--?lit$935373052$-->Text
        </md-outlined-button>
        <!--?lit$935373052$-->
      </div><hr>
    </div>
                <div class="notebook-cell-list"><div class="cell text" id="cell-LB0myjlv2NC9" tabindex="-1" role="region" aria-label="Cell 0: Text cell: Words" style=""><div class="agent-focus-label">
      <md-icon aria-hidden="true">spark</md-icon>
      <!--?lit$935373052$-->Gemini
    </div><div class="cell-tag-editor sticky"></div><div class="cell-toolbar sticky"></div><div class="main-content" elevation="0"><div class="cell-contents"><div class="cell-mask"></div><span class="imported-info-area"></span><!----> <div class="toolbar-root"></div>
      <div class="editor-container horizontal">
        <div class="editor-root"></div>
        <div class="text-top-div">
          <div class="markdown"><span><div class="text-cell-section-header layout horizontal center"><md-icon-button class="header-section-toggle" title="Collapse 7 child cells under Words (Press &lt;Shift&gt; to also collapse sibling sections)" data-aria-label="Collapse 7 child cells under Words (Press &lt;Shift&gt; to also collapse sibling sections)" value=""><md-icon aria-hidden="true">keyboard_arrow_down</md-icon></md-icon-button><h2>Words</h2></div>
</span></div>
        </div>
      </div>

      <div class="section-header" style="display: none;">
        <colab-run-button></colab-run-button>
        <div class="section-header-container" title="click to expand">
          <md-icon aria-hidden="true">subdirectory_arrow_right</md-icon>
          <span>7 cells hidden</span>
        </div>
      </div></div></div><div class="add-cell">
      <div class="add-cell-buttons">
        <md-outlined-button class="add-code add-button" data-aria-label="Add code cell
Ctrl+M B" title="Add code cell
Ctrl+M B" value="" has-icon="">
          <md-icon slot="icon" aria-hidden="true">add</md-icon>
          <!--?lit$935373052$-->Code
        </md-outlined-button>
        <md-outlined-button class="add-text add-button" data-aria-label="Add text cell" title="Add text cell" value="" has-icon="">
          <md-icon slot="icon" aria-hidden="true">add</md-icon>
          <!--?lit$935373052$-->Text
        </md-outlined-button>
        <!--?lit$935373052$-->
      </div><hr>
    </div></div><div class="cell code icon-scrolling" id="cell-rU6NxtYl2NDA" tabindex="-1" role="region" aria-label="Cell 1: Code cell: " style=""><div class="agent-focus-label">
      <md-icon aria-hidden="true">spark</md-icon>
      <!--?lit$935373052$-->Gemini
    </div><div class="cell-tag-editor sticky"></div><div class="cell-toolbar sticky"></div><div class="main-content" elevation="0"><div class="cell-contents"><div class="cell-mask"></div><span class="imported-info-area"></span><div class="codecell-input-output">
      <div class="inputarea horizontal layout code">
        <div class="cell-gutter">
          <!-- Bounding range for vertical scrolling of icons -->
          <div class="cell-execution-container">
            <colab-run-button></colab-run-button>
          </div>
        </div>
      <div class="editor flex lazy-editor" style=""><div class="editor flex monaco" data-keybinding-context="128" data-mode-id="notebook-python" style="height: 29px; --vscode-editorCodeLens-lineHeight: 16px; --vscode-editorCodeLens-fontSize: 12px; --vscode-editorCodeLens-fontFeatureSettings: &quot;liga&quot; off, &quot;calt&quot; off;"><div class="monaco-editor no-user-select  showUnused showDeprecated vs-dark" role="code" style="width: 1152px; height: 29px;" data-uri="inmemory://model/4"><div data-mprt="3" class="overflow-guard" style="width: 1152px; height: 29px; overflow: clip;"><div class="margin" style="position: absolute; contain: strict; will-change: unset; top: 0px; height: 29px; width: 6px;" role="presentation" aria-hidden="true"><div class="glyph-margin" style="left: 0px; width: 0px; height: 29px;"></div><div class="margin-view-zones" style="position: absolute;" role="presentation" aria-hidden="true"></div><div class="margin-view-overlays" style="position: absolute; font-family: monospace, Consolas, &quot;Courier New&quot;, monospace; font-weight: normal; font-size: 14px; font-feature-settings: &quot;liga&quot; 0, &quot;calt&quot; 0; font-variation-settings: normal; line-height: 19px; letter-spacing: 0px; width: 6px; height: 29px;" role="presentation" aria-hidden="true"><div style="position:absolute;top:0px;width:100%;height:19px;"><div class="current-line current-line-margin-both" style="width:6px; height:19px;"></div></div></div><div class="glyph-margin-widgets" style="position: absolute; top: 0px;"></div></div><div class="monaco-scrollable-element editor-scrollable vs-dark" role="presentation" style="position: absolute; overflow: hidden; left: 6px; width: 1146px; height: 29px;" data-mprt="5"><div class="lines-content monaco-editor-background" style="position: absolute; overflow: hidden; width: 1000000px; height: 29px; contain: strict; will-change: unset; top: 0px; left: 0px;"><div class="view-overlays" style="position: absolute; font-family: monospace, Consolas, &quot;Courier New&quot;, monospace; font-weight: normal; font-size: 14px; font-feature-settings: &quot;liga&quot; 0, &quot;calt&quot; 0; font-variation-settings: normal; line-height: 19px; letter-spacing: 0px; height: 0px; width: 1146px;" role="presentation" aria-hidden="true"><div style="position:absolute;top:0px;width:100%;height:19px;"><div class="current-line" style="width:1146px; height:19px;"></div></div></div><div role="presentation" aria-hidden="true" class="view-rulers"><div class="view-ruler" style="width: 2px; height: 29px; left: 615.938px;"></div></div><div class="view-zones" style="position: absolute;" role="presentation" aria-hidden="true"></div><div class="view-lines monaco-mouse-cursor-text" style="position: absolute; font-family: monospace, Consolas, &quot;Courier New&quot;, monospace; font-weight: normal; font-size: 14px; font-feature-settings: &quot;liga&quot; 0, &quot;calt&quot; 0; font-variation-settings: normal; line-height: 19px; letter-spacing: 0px; width: 1146px; height: 29px;" role="presentation" aria-hidden="true" data-mprt="7"><div style="top:0px;height:19px;" class="view-line"><span><span class="mtk1">words&nbsp;=&nbsp;</span><span class="mtk12 bracket-highlighting-0">[</span><span class="mtk5">'play'</span><span class="mtk12">,</span><span class="mtk1">&nbsp;</span><span class="mtk5">'filling'</span><span class="mtk12">,</span><span class="mtk1">&nbsp;</span><span class="mtk5">'bar'</span><span class="mtk12">,</span><span class="mtk1">&nbsp;</span><span class="mtk5">'theatre'</span><span class="mtk12">,</span><span class="mtk1">&nbsp;</span><span class="mtk5">'easygoing'</span><span class="mtk12">,</span><span class="mtk1">&nbsp;</span><span class="mtk5">'date'</span><span class="mtk12">,</span><span class="mtk1">&nbsp;</span><span class="mtk5">'lead'</span><span class="mtk12">,</span><span class="mtk1">&nbsp;</span><span class="mtk5">'that'</span><span class="mtk12">,</span><span class="mtk1">&nbsp;</span><span class="mtk5">'story'</span><span class="mtk12">,</span><span class="mtk1">&nbsp;&nbsp;</span><span class="mtk5">'island'</span><span class="mtk12 bracket-highlighting-0">]</span></span></div></div><div data-mprt="1" class="contentWidgets" style="position: absolute; top: 0px;"></div><div role="presentation" aria-hidden="true" class="cursors-layer cursor-line-style cursor-solid"><div class="cursor monaco-mouse-cursor-text " style="height: 19px; top: 0px; left: 0px; font-family: monospace, Consolas, &quot;Courier New&quot;, monospace; font-weight: normal; font-size: 14px; font-feature-settings: &quot;liga&quot; 0, &quot;calt&quot; 0; font-variation-settings: normal; line-height: 19px; letter-spacing: 0px; display: block; visibility: hidden; padding-left: 0px; width: 2px;"></div></div></div><div role="presentation" aria-hidden="true" class="invisible scrollbar horizontal" style="position: absolute; width: 1132px; height: 10px; left: 0px; bottom: 0px;"><div class="slider" style="position: absolute; top: 0px; left: 0px; height: 10px; transform: translate3d(0px, 0px, 0px); contain: strict; will-change: unset; width: 1132px;"></div></div><canvas class="decorationsOverviewRuler" style="position: absolute; transform: translate3d(0px, 0px, 0px); contain: strict; top: 0px; right: 0px; width: 14px; height: 29px; will-change: unset; display: block;" aria-hidden="true" width="21" height="43"></canvas><div role="presentation" aria-hidden="true" class="invisible scrollbar vertical" style="position: absolute; width: 14px; height: 29px; right: 0px; top: 0px;"><div class="slider" style="position: absolute; top: 0px; left: 0px; width: 14px; transform: translate3d(0px, 0px, 0px); contain: strict; will-change: unset; height: 29px;"></div></div></div><div role="presentation" aria-hidden="true" style="width: 1152px;"></div><textarea data-mprt="6" class="inputarea monaco-mouse-cursor-text" wrap="on" style="tab-size: 15.3984px; font-family: monospace, Consolas, &quot;Courier New&quot;, monospace; font-weight: normal; font-size: 14px; font-feature-settings: &quot;liga&quot; 0, &quot;calt&quot; 0; font-variation-settings: normal; line-height: 19px; letter-spacing: 0px; top: 0px; left: 6px; width: 76992px; height: 0px;" autocorrect="off" autocapitalize="none" autocomplete="off" spellcheck="false" aria-label="Editor content;Press Alt+F1 for Accessibility Options." tabindex="0" role="textbox" aria-roledescription="editor" aria-multiline="true" aria-haspopup="false" aria-autocomplete="both">words = ['play', 'filling', 'bar', 'theatre', 'easygoing', 'date', 'lead', 'that', 'story',  'island']</textarea><div style="position: absolute; top: 0px; left: 0px; width: 0px; height: 0px;" class="monaco-editor-background textAreaCover"></div><div data-mprt="4" class="overlayWidgets" style="width: 1152px;"><div style="position: absolute; top: 0px; right: 50%;" widgetid="editor.contrib.quickInputWidget"></div></div><div data-mprt="8" class="minimap slider-mouseover" style="position: absolute; left: 0px; width: 0px; height: 29px;" role="presentation" aria-hidden="true"><div class="minimap-shadow-hidden" style="height: 29px;"></div><canvas style="position: absolute; left: 0px; width: 0px; height: 29px;" width="0" height="43"></canvas><canvas style="position: absolute; left: 0px; width: 0px; height: 29px;" class="minimap-decorations-layer" width="0" height="43"></canvas><div style="position: absolute; transform: translate3d(0px, 0px, 0px); contain: strict; width: 0px; will-change: unset;" class="minimap-slider"><div style="position: absolute; width: 0px; height: 0px;" class="minimap-slider-horizontal"></div></div></div><div role="presentation" aria-hidden="true" class="blockDecorations-container"></div></div><div data-mprt="2" class="overflowingContentWidgets"><div style="position: fixed; height: 10px; width: 10px; z-index: 50; display: none; visibility: hidden; max-width: 1280px;" widgetid="editor.contrib.resizableContentHoverWidget"><div class="monaco-sash vertical" style="left: 8px;"></div><div class="monaco-sash vertical" style="left: -2px;"></div><div class="monaco-sash orthogonal-edge-north horizontal" style="top: -2px;"><div class="orthogonal-drag-handle start"></div><div class="orthogonal-drag-handle end"></div></div><div class="monaco-sash orthogonal-edge-south horizontal" style="top: 8px;"><div class="orthogonal-drag-handle start"></div><div class="orthogonal-drag-handle end"></div></div><div class="monaco-hover hidden" tabindex="0" role="tooltip"><div class="monaco-scrollable-element " role="presentation" style="position: relative; overflow: hidden;"><div class="monaco-hover-content" style="overflow: hidden; font-size: 14px; line-height: 1.35714; max-width: 760.32px; max-height: 250px;"></div><div role="presentation" aria-hidden="true" class="invisible scrollbar horizontal" style="position: absolute;"><div class="slider" style="position: absolute; top: 0px; left: 0px; height: 10px; transform: translate3d(0px, 0px, 0px); contain: strict;"></div></div><div role="presentation" aria-hidden="true" class="invisible scrollbar vertical" style="position: absolute;"><div class="slider" style="position: absolute; top: 0px; left: 0px; width: 10px; transform: translate3d(0px, 0px, 0px); contain: strict;"></div></div><div class="shadow"></div><div class="shadow"></div><div class="shadow"></div></div></div></div></div><div class=".in-cell-overflowing"></div></div></div></div><colab-form class="formview vertical layout flex"><div class="widget-area vertical layout"></div></colab-form></div>
    <div class="output" aria-label="Cell 1 output" role="region"><!----> <div class="output-header"> </div>
        <div class="output-content" hidden="">
          <div class="output-info"><colab-output-info></colab-output-info></div>
          <div class="output-iframe-container" hidden="">
            <div class="output-iframe-sizer" style="min-height: 0px;"> <div><div><colab-static-output-renderer tabindex="0" role="group"><div></div><div></div></colab-static-output-renderer></div></div><div><div></div></div></div>
          </div>
        </div></div></div><colab-cell-next-steps></colab-cell-next-steps></div></div><div class="add-cell">
      <div class="add-cell-buttons">
        <md-outlined-button class="add-code add-button" data-aria-label="Add code cell
Ctrl+M B" title="Add code cell
Ctrl+M B" value="" has-icon="">
          <md-icon slot="icon" aria-hidden="true">add</md-icon>
          <!--?lit$935373052$-->Code
        </md-outlined-button>
        <md-outlined-button class="add-text add-button" data-aria-label="Add text cell" title="Add text cell" value="" has-icon="">
          <md-icon slot="icon" aria-hidden="true">add</md-icon>
          <!--?lit$935373052$-->Text
        </md-outlined-button>
        <!--?lit$935373052$-->
      </div><hr>
    </div></div><div class="cell text focused" id="cell-MqBylp7q2NDC" tabindex="-1" role="region" aria-label="Cell 2: Text cell: " style=""><div class="agent-focus-label">
      <md-icon aria-hidden="true">spark</md-icon>
      <!--?lit$935373052$-->Gemini
    </div><div class="cell-tag-editor sticky"></div><div class="cell-toolbar sticky"><colab-cell-toolbar></colab-cell-toolbar></div><div class="main-content" elevation="2"><div class="cell-contents"><div class="cell-mask"></div><span class="imported-info-area"></span><!----> <div class="toolbar-root"><div class="markdown-toolbar"><!----><!--?lit$935373052$--><!----><md-icon-button id="markdown-toolbar-header-MqBylp7q2NDC" class="markdown-toolbar-header" aria-describedby="markdown-toolbar-header-MqBylp7q2NDC-tooltip" data-aria-label="Toggle heading" value="">
        <!--?lit$935373052$--><md-icon aria-hidden="true"><!--?lit$935373052$-->format_size</md-icon>
      </md-icon-button>
      <!--?lit$935373052$--><colab-tooltip-trigger aria-hidden="true" for="markdown-toolbar-header-MqBylp7q2NDC" id="markdown-toolbar-header-MqBylp7q2NDC-tooltip" message="Toggle heading"></colab-tooltip-trigger><!--?--><!----><!----><md-icon-button id="markdown-toolbar-bold-MqBylp7q2NDC" class="markdown-toolbar-bold" aria-describedby="markdown-toolbar-bold-MqBylp7q2NDC-tooltip" data-aria-label="Bold" value="">
        <!--?lit$935373052$--><md-icon aria-hidden="true"><!--?lit$935373052$-->format_bold</md-icon>
      </md-icon-button>
      <!--?lit$935373052$--><colab-tooltip-trigger aria-hidden="true" for="markdown-toolbar-bold-MqBylp7q2NDC" id="markdown-toolbar-bold-MqBylp7q2NDC-tooltip" message="Bold"></colab-tooltip-trigger><!--?--><!----><!----><md-icon-button id="markdown-toolbar-italic-MqBylp7q2NDC" class="markdown-toolbar-italic" aria-describedby="markdown-toolbar-italic-MqBylp7q2NDC-tooltip" data-aria-label="Italicise" value="">
        <!--?lit$935373052$--><md-icon aria-hidden="true"><!--?lit$935373052$-->format_italic</md-icon>
      </md-icon-button>
      <!--?lit$935373052$--><colab-tooltip-trigger aria-hidden="true" for="markdown-toolbar-italic-MqBylp7q2NDC" id="markdown-toolbar-italic-MqBylp7q2NDC-tooltip" message="Italicise"></colab-tooltip-trigger><!--?--><!----><!----><md-icon-button id="markdown-toolbar-code-MqBylp7q2NDC" class="markdown-toolbar-code" aria-describedby="markdown-toolbar-code-MqBylp7q2NDC-tooltip" data-aria-label="Format as code" value="">
        <!--?lit$935373052$--><md-icon aria-hidden="true"><!--?lit$935373052$-->code</md-icon>
      </md-icon-button>
      <!--?lit$935373052$--><colab-tooltip-trigger aria-hidden="true" for="markdown-toolbar-code-MqBylp7q2NDC" id="markdown-toolbar-code-MqBylp7q2NDC-tooltip" message="Format as code"></colab-tooltip-trigger><!--?--><!----><!----><md-icon-button id="markdown-toolbar-link-MqBylp7q2NDC" class="markdown-toolbar-link" aria-describedby="markdown-toolbar-link-MqBylp7q2NDC-tooltip" data-aria-label="Insert link" value="">
        <!--?lit$935373052$--><md-icon aria-hidden="true"><!--?lit$935373052$-->link</md-icon>
      </md-icon-button>
      <!--?lit$935373052$--><colab-tooltip-trigger aria-hidden="true" for="markdown-toolbar-link-MqBylp7q2NDC" id="markdown-toolbar-link-MqBylp7q2NDC-tooltip" message="Insert link"></colab-tooltip-trigger><!--?--><!----><!----><label for="markdown-image-input-MqBylp7q2NDC" class="colab-icon markdown-toolbar-insert-image">
        <md-ripple aria-hidden="true"></md-ripple>
        <span role="button" tabindex="0" id="markdown-toolbar-insert-image-MqBylp7q2NDC" aria-describedby="markdown-toolbar-insert-image-MqBylp7q2NDC-tooltip" aria-label="Insert image">
          <md-focus-ring aria-hidden="true"></md-focus-ring>
          <md-icon aria-hidden="true">image</md-icon>
        </span>
        <!--?lit$935373052$--><colab-tooltip-trigger aria-hidden="true" for="markdown-toolbar-insert-image-MqBylp7q2NDC" id="markdown-toolbar-insert-image-MqBylp7q2NDC-tooltip" message="Insert image"></colab-tooltip-trigger>
      </label>
      <input class="markdown-image-input" type="file" multiple="" accept="image/*" id="markdown-image-input-MqBylp7q2NDC"><!----><!----><md-icon-button id="markdown-toolbar-blockquote-MqBylp7q2NDC" class="markdown-toolbar-blockquote" aria-describedby="markdown-toolbar-blockquote-MqBylp7q2NDC-tooltip" data-aria-label="Add blockquote" value="">
        <!--?lit$935373052$--><md-icon aria-hidden="true"><!--?lit$935373052$-->format_quote</md-icon>
      </md-icon-button>
      <!--?lit$935373052$--><colab-tooltip-trigger aria-hidden="true" for="markdown-toolbar-blockquote-MqBylp7q2NDC" id="markdown-toolbar-blockquote-MqBylp7q2NDC-tooltip" message="Add blockquote"></colab-tooltip-trigger><!--?--><!----><!----><md-icon-button id="markdown-toolbar-ol-MqBylp7q2NDC" class="markdown-toolbar-ol" aria-describedby="markdown-toolbar-ol-MqBylp7q2NDC-tooltip" data-aria-label="Add numbered list" value="">
        <!--?lit$935373052$--><md-icon aria-hidden="true"><!--?lit$935373052$-->format_list_numbered</md-icon>
      </md-icon-button>
      <!--?lit$935373052$--><colab-tooltip-trigger aria-hidden="true" for="markdown-toolbar-ol-MqBylp7q2NDC" id="markdown-toolbar-ol-MqBylp7q2NDC-tooltip" message="Add numbered list"></colab-tooltip-trigger><!--?--><!----><!----><md-icon-button id="markdown-toolbar-ul-MqBylp7q2NDC" class="markdown-toolbar-ul" aria-describedby="markdown-toolbar-ul-MqBylp7q2NDC-tooltip" data-aria-label="Add bulleted list" value="">
        <!--?lit$935373052$--><md-icon aria-hidden="true"><!--?lit$935373052$-->format_list_bulleted</md-icon>
      </md-icon-button>
      <!--?lit$935373052$--><colab-tooltip-trigger aria-hidden="true" for="markdown-toolbar-ul-MqBylp7q2NDC" id="markdown-toolbar-ul-MqBylp7q2NDC-tooltip" message="Add bulleted list"></colab-tooltip-trigger><!--?--><!----><!----><md-icon-button id="markdown-toolbar-hr-MqBylp7q2NDC" class="markdown-toolbar-hr" aria-describedby="markdown-toolbar-hr-MqBylp7q2NDC-tooltip" data-aria-label="Add horizontal rule" value="">
        <!--?lit$935373052$--><md-icon aria-hidden="true"><!--?lit$935373052$-->horizontal_rule</md-icon>
      </md-icon-button>
      <!--?lit$935373052$--><colab-tooltip-trigger aria-hidden="true" for="markdown-toolbar-hr-MqBylp7q2NDC" id="markdown-toolbar-hr-MqBylp7q2NDC-tooltip" message="Add horizontal rule"></colab-tooltip-trigger><!--?--><!----><!----><md-icon-button id="markdown-toolbar-latex-MqBylp7q2NDC" class="markdown-toolbar-latex" aria-describedby="markdown-toolbar-latex-MqBylp7q2NDC-tooltip" data-aria-label="LaTeX" value="">
        <!--?lit$935373052$--><span aria-hidden="true">ψ</span>
      </md-icon-button>
      <!--?lit$935373052$--><colab-tooltip-trigger aria-hidden="true" for="markdown-toolbar-latex-MqBylp7q2NDC" id="markdown-toolbar-latex-MqBylp7q2NDC-tooltip" message="LaTeX"></colab-tooltip-trigger><!--?--><!----><!----><md-icon-button id="markdown-toolbar-emoji-MqBylp7q2NDC" class="markdown-toolbar-emoji" aria-describedby="markdown-toolbar-emoji-MqBylp7q2NDC-tooltip" data-aria-label="Insert emoji" value="">
        <!--?lit$935373052$--><md-icon aria-hidden="true"><!--?lit$935373052$-->mood</md-icon>
      </md-icon-button>
      <!--?lit$935373052$--><colab-tooltip-trigger aria-hidden="true" for="markdown-toolbar-emoji-MqBylp7q2NDC" id="markdown-toolbar-emoji-MqBylp7q2NDC-tooltip" message="Insert emoji"></colab-tooltip-trigger><!--?--><!----><!----><md-icon-button id="markdown-toolbar-preview-MqBylp7q2NDC" class="markdown-toolbar-preview" aria-describedby="markdown-toolbar-preview-MqBylp7q2NDC-tooltip" data-aria-label="Reposition markdown preview" value="">
        <!--?lit$935373052$--><md-icon aria-hidden="true"><!--?lit$935373052$--><svg viewBox="0 0 24 24"><!--?lit$935373052$--><g id="markdown-preview-below">
  <rect width="20" height="18" x="2" y="2" rx="2" ry="2" style="fill:none;stroke:var(--colab-icon-color)"></rect>
  <line x1="4.5" y1="13" x2="19.5" y2="13" style="stroke:var(--colab-primary-text-color);stroke-dasharray:2"></line>
  <line x1="2.5" y1="4" x2="21.5" y2="4" style="stroke:var(--colab-icon-color);stroke-width:3px;"></line>
</g></svg></md-icon>
      </md-icon-button>
      <!--?lit$935373052$--><colab-tooltip-trigger aria-hidden="true" for="markdown-toolbar-preview-MqBylp7q2NDC" id="markdown-toolbar-preview-MqBylp7q2NDC-tooltip" message="Reposition markdown preview"></colab-tooltip-trigger><!--?--><!----><!--?--></div></div>
      <div class="editor-container horizontal">
        <div class="editor-root"><div class="editor flex monaco" data-keybinding-context="5" data-mode-id="markdown" style="height: 143px; --vscode-editorCodeLens-lineHeight: 16px; --vscode-editorCodeLens-fontSize: 12px; --vscode-editorCodeLens-fontFeatureSettings: &quot;liga&quot; off, &quot;calt&quot; off; display: none;"><div class="monaco-editor no-user-select  showUnused showDeprecated vs-dark" role="code" style="width: 600px; height: 143px;" data-uri="inmemory://model/5"><div data-mprt="3" class="overflow-guard" style="width: 600px; height: 143px; overflow: clip;"><div class="margin" style="position: absolute; contain: strict; will-change: unset; top: 0px; height: 143px; width: 6px;" role="presentation" aria-hidden="true"><div class="glyph-margin" style="left: 0px; width: 0px; height: 143px;"></div><div class="margin-view-zones" style="position: absolute;" role="presentation" aria-hidden="true"></div><div class="margin-view-overlays" style="position: absolute; font-family: monospace, Consolas, &quot;Courier New&quot;, monospace; font-weight: normal; font-size: 14px; font-feature-settings: &quot;liga&quot; 0, &quot;calt&quot; 0; font-variation-settings: normal; line-height: 19px; letter-spacing: 0px; width: 6px; height: 143px;" role="presentation" aria-hidden="true"><div style="position:absolute;top:0px;width:100%;height:19px;"></div><div style="position:absolute;top:19px;width:100%;height:19px;"></div><div style="position:absolute;top:38px;width:100%;height:19px;"></div><div style="position:absolute;top:57px;width:100%;height:19px;"></div><div style="position:absolute;top:76px;width:100%;height:19px;"></div><div style="position:absolute;top:95px;width:100%;height:19px;"><div class="current-line current-line-margin-both" style="width:6px; height:19px;"></div></div><div style="position:absolute;top:114px;width:100%;height:19px;"></div></div><div class="glyph-margin-widgets" style="position: absolute; top: 0px;"></div></div><div class="monaco-scrollable-element editor-scrollable vs-dark" role="presentation" style="position: absolute; overflow: hidden; left: 6px; width: 594px; height: 143px;" data-mprt="5"><div class="lines-content monaco-editor-background" style="position: absolute; overflow: hidden; width: 1000000px; height: 143px; contain: strict; will-change: unset; top: 0px; left: 0px;"><div class="view-overlays" style="position: absolute; font-family: monospace, Consolas, &quot;Courier New&quot;, monospace; font-weight: normal; font-size: 14px; font-feature-settings: &quot;liga&quot; 0, &quot;calt&quot; 0; font-variation-settings: normal; line-height: 19px; letter-spacing: 0px; height: 0px; width: 594px;" role="presentation" aria-hidden="true"><div style="position:absolute;top:0px;width:100%;height:19px;"></div><div style="position:absolute;top:19px;width:100%;height:19px;"></div><div style="position:absolute;top:38px;width:100%;height:19px;"></div><div style="position:absolute;top:57px;width:100%;height:19px;"></div><div style="position:absolute;top:76px;width:100%;height:19px;"></div><div style="position:absolute;top:95px;width:100%;height:19px;"><div class="current-line" style="width:594px; height:19px;"></div></div><div style="position:absolute;top:114px;width:100%;height:19px;"></div></div><div role="presentation" aria-hidden="true" class="view-rulers"></div><div class="view-zones" style="position: absolute;" role="presentation" aria-hidden="true"></div><div class="view-lines monaco-mouse-cursor-text" style="position: absolute; font-family: monospace, Consolas, &quot;Courier New&quot;, monospace; font-weight: normal; font-size: 14px; font-feature-settings: &quot;liga&quot; 0, &quot;calt&quot; 0; font-variation-settings: normal; line-height: 19px; letter-spacing: 0px; width: 594px; height: 143px;" role="presentation" aria-hidden="true" data-mprt="7"><div style="top:0px;height:19px;" class="view-line"><span><span></span></span></div><div style="top:19px;height:19px;" class="view-line"><span><span></span></span></div><div style="top:38px;height:19px;" class="view-line"><span><span class="mtk5">```</span></span></div><div style="top:57px;height:19px;" class="view-line"><span><span class="mtk4">#&nbsp;This&nbsp;is&nbsp;formatted&nbsp;as&nbsp;code</span></span></div><div style="top:76px;height:19px;" class="view-line"><span><span class="mtk5">```</span></span></div><div style="top:95px;height:19px;" class="view-line"><span><span></span></span></div><div style="top:114px;height:19px;" class="view-line"><span><span class="mtk1 mtkb">**Print&nbsp;every&nbsp;word&nbsp;in&nbsp;upper&nbsp;case**</span></span></div></div><div data-mprt="1" class="contentWidgets" style="position: absolute; top: 0px;"><div class="lightBulbWidget codicon codicon-light-bulb" style="position: absolute; display: none; visibility: hidden; max-width: 594px;" widgetid="LightBulbWidget" title="Show Code Actions (Ctrl+.)"></div></div><div role="presentation" aria-hidden="true" class="cursors-layer cursor-line-style cursor-solid"><div class="cursor monaco-mouse-cursor-text " style="height: 19px; top: 95px; left: 0px; font-family: monospace, Consolas, &quot;Courier New&quot;, monospace; font-weight: normal; font-size: 14px; font-feature-settings: &quot;liga&quot; 0, &quot;calt&quot; 0; font-variation-settings: normal; line-height: 19px; letter-spacing: 0px; display: block; visibility: hidden; padding-left: 0px; width: 2px;"></div></div></div><div role="presentation" aria-hidden="true" class="invisible scrollbar horizontal" style="position: absolute; width: 580px; height: 10px; left: 0px; bottom: 0px;"><div class="slider" style="position: absolute; top: 0px; left: 0px; height: 10px; transform: translate3d(0px, 0px, 0px); contain: strict; will-change: unset; width: 580px;"></div></div><canvas class="decorationsOverviewRuler" style="position: absolute; transform: translate3d(0px, 0px, 0px); contain: strict; top: 0px; right: 0px; width: 14px; height: 143px; will-change: unset; display: block;" aria-hidden="true" width="21" height="214"></canvas><div role="presentation" aria-hidden="true" class="invisible scrollbar vertical" style="position: absolute; width: 14px; height: 143px; right: 0px; top: 0px;"><div class="slider" style="position: absolute; top: 0px; left: 0px; width: 14px; transform: translate3d(0px, 0px, 0px); contain: strict; will-change: unset; height: 143px;"></div></div></div><div role="presentation" aria-hidden="true" style="width: 600px;"></div><textarea data-mprt="6" class="inputarea monaco-mouse-cursor-text" wrap="on" style="tab-size: 15.3984px; font-family: monospace, Consolas, &quot;Courier New&quot;, monospace; font-weight: normal; font-size: 14px; font-feature-settings: &quot;liga&quot; 0, &quot;calt&quot; 0; font-variation-settings: normal; line-height: 19px; letter-spacing: 0px; top: 95px; left: 6px; width: 577px; height: 0px;" autocorrect="off" autocapitalize="none" autocomplete="off" spellcheck="false" aria-label="Editor content;Press Alt+F1 for Accessibility Options." tabindex="0" role="textbox" aria-roledescription="editor" aria-multiline="true" aria-haspopup="false" aria-autocomplete="both">

```
# This is formatted as code
```

**Print every word in upper case**</textarea><div style="position: absolute; top: 0px; left: 0px; width: 0px; height: 0px;" class="monaco-editor-background textAreaCover"></div><div data-mprt="4" class="overlayWidgets" style="width: 600px;"></div><div data-mprt="8" class="minimap slider-mouseover" style="position: absolute; left: 0px; width: 0px; height: 143px;" role="presentation" aria-hidden="true"><div class="minimap-shadow-hidden" style="height: 143px;"></div><canvas style="position: absolute; left: 0px; width: 0px; height: 143px;" width="0" height="214"></canvas><canvas style="position: absolute; left: 0px; width: 0px; height: 143px;" class="minimap-decorations-layer" width="0" height="214"></canvas><div style="position: absolute; transform: translate3d(0px, 0px, 0px); contain: strict; width: 0px; will-change: unset;" class="minimap-slider"><div style="position: absolute; width: 0px; height: 0px;" class="minimap-slider-horizontal"></div></div></div><div role="presentation" aria-hidden="true" class="blockDecorations-container"></div></div><div data-mprt="2" class="overflowingContentWidgets" style="display: none;"><div style="position: fixed; height: 10px; width: 10px; z-index: 50; display: none; visibility: hidden; max-width: 1280px;" widgetid="editor.contrib.resizableContentHoverWidget"><div class="monaco-sash vertical" style="left: 8px;"></div><div class="monaco-sash vertical" style="left: -2px;"></div><div class="monaco-sash orthogonal-edge-north horizontal" style="top: -2px;"><div class="orthogonal-drag-handle start"></div><div class="orthogonal-drag-handle end"></div></div><div class="monaco-sash orthogonal-edge-south horizontal" style="top: 8px;"><div class="orthogonal-drag-handle start"></div><div class="orthogonal-drag-handle end"></div></div><div class="monaco-hover hidden" tabindex="0" role="tooltip"><div class="monaco-scrollable-element " role="presentation" style="position: relative; overflow: hidden;"><div class="monaco-hover-content" style="overflow: hidden; font-size: 14px; line-height: 1.35714; max-width: 500px; max-height: 250px;"></div><div role="presentation" aria-hidden="true" class="invisible scrollbar horizontal" style="position: absolute;"><div class="slider" style="position: absolute; top: 0px; left: 0px; height: 10px; transform: translate3d(0px, 0px, 0px); contain: strict;"></div></div><div role="presentation" aria-hidden="true" class="invisible scrollbar vertical" style="position: absolute;"><div class="slider" style="position: absolute; top: 0px; left: 0px; width: 10px; transform: translate3d(0px, 0px, 0px); contain: strict;"></div></div><div class="shadow"></div><div class="shadow"></div><div class="shadow"></div></div></div></div></div><div class=".in-cell-overflowing"><div style="position: absolute; top: 0px; right: 50%;" widgetid="editor.contrib.quickInputWidget"></div></div></div></div></div>
        <div class="text-top-div">
          <div class="markdown"><span><pre><code><span><span class="mtk1">#&nbsp;This&nbsp;is&nbsp;formatted&nbsp;as&nbsp;code</span></span></code></pre><p><strong>Print every word in upper case</strong></p>
</span></div>
        </div>
      </div>

      <div class="section-header" style="display: none;">
        <colab-run-button></colab-run-button>
        <div class="section-header-container" title="click to expand">
          <md-icon aria-hidden="true">subdirectory_arrow_right</md-icon>
          <span>0 cells hidden</span>
        </div>
      </div></div></div><div class="add-cell">
      <div class="add-cell-buttons">
        <md-outlined-button class="add-code add-button" data-aria-label="Add code cell
Ctrl+M B" title="Add code cell
Ctrl+M B" value="" has-icon="">
          <md-icon slot="icon" aria-hidden="true">add</md-icon>
          <!--?lit$935373052$-->Code
        </md-outlined-button>
        <md-outlined-button class="add-text add-button" data-aria-label="Add text cell" title="Add text cell" value="" has-icon="">
          <md-icon slot="icon" aria-hidden="true">add</md-icon>
          <!--?lit$935373052$-->Text
        </md-outlined-button>
        <!--?lit$935373052$-->
      </div><hr>
    </div></div><div class="cell code icon-scrolling code-has-output" id="cell-TvW6jx7w2NDE" tabindex="-1" role="region" aria-label="Cell 3: Code cell: " style=""><div class="agent-focus-label">
      <md-icon aria-hidden="true">spark</md-icon>
      <!--?lit$935373052$-->Gemini
    </div><div class="cell-tag-editor sticky"></div><div class="cell-toolbar sticky"></div><div class="main-content" elevation="0"><div class="cell-contents"><div class="cell-mask"></div><span class="imported-info-area"></span><div class="codecell-input-output">
      <div class="inputarea horizontal layout code">
        <div class="cell-gutter">
          <!-- Bounding range for vertical scrolling of icons -->
          <div class="cell-execution-container">
            <colab-run-button></colab-run-button>
          </div>
        </div>
      <div class="editor flex lazy-editor" style=""><div class="editor flex monaco" data-keybinding-context="127" data-mode-id="notebook-python" style="height: 67px; --vscode-editorCodeLens-lineHeight: 16px; --vscode-editorCodeLens-fontSize: 12px; --vscode-editorCodeLens-fontFeatureSettings: &quot;liga&quot; off, &quot;calt&quot; off;"><div class="monaco-editor no-user-select  showUnused showDeprecated vs-dark" role="code" style="width: 1152px; height: 67px;" data-uri="inmemory://model/6"><div data-mprt="3" class="overflow-guard" style="width: 1152px; height: 67px; overflow: clip;"><div class="margin" style="position: absolute; contain: strict; will-change: unset; top: 0px; height: 67px; width: 6px;" role="presentation" aria-hidden="true"><div class="glyph-margin" style="left: 0px; width: 0px; height: 67px;"></div><div class="margin-view-zones" style="position: absolute;" role="presentation" aria-hidden="true"></div><div class="margin-view-overlays" style="position: absolute; font-family: monospace, Consolas, &quot;Courier New&quot;, monospace; font-weight: normal; font-size: 14px; font-feature-settings: &quot;liga&quot; 0, &quot;calt&quot; 0; font-variation-settings: normal; line-height: 19px; letter-spacing: 0px; width: 6px; height: 67px;" role="presentation" aria-hidden="true"><div style="position:absolute;top:0px;width:100%;height:19px;"><div class="current-line current-line-margin-both" style="width:6px; height:19px;"></div></div><div style="position:absolute;top:19px;width:100%;height:19px;"></div><div style="position:absolute;top:38px;width:100%;height:19px;"></div></div><div class="glyph-margin-widgets" style="position: absolute; top: 0px;"></div></div><div class="monaco-scrollable-element editor-scrollable vs-dark" role="presentation" style="position: absolute; overflow: hidden; left: 6px; width: 1146px; height: 67px;" data-mprt="5"><div class="lines-content monaco-editor-background" style="position: absolute; overflow: hidden; width: 1000000px; height: 67px; contain: strict; will-change: unset; top: 0px; left: 0px;"><div class="view-overlays" style="position: absolute; font-family: monospace, Consolas, &quot;Courier New&quot;, monospace; font-weight: normal; font-size: 14px; font-feature-settings: &quot;liga&quot; 0, &quot;calt&quot; 0; font-variation-settings: normal; line-height: 19px; letter-spacing: 0px; height: 0px; width: 1146px;" role="presentation" aria-hidden="true"><div style="position:absolute;top:0px;width:100%;height:19px;"><div class="current-line" style="width:1146px; height:19px;"></div></div><div style="position:absolute;top:19px;width:100%;height:19px;"></div><div style="position:absolute;top:38px;width:100%;height:19px;"></div></div><div role="presentation" aria-hidden="true" class="view-rulers"></div><div class="view-zones" style="position: absolute;" role="presentation" aria-hidden="true"></div><div class="view-lines monaco-mouse-cursor-text" style="position: absolute; font-family: monospace, Consolas, &quot;Courier New&quot;, monospace; font-weight: normal; font-size: 14px; font-feature-settings: &quot;liga&quot; 0, &quot;calt&quot; 0; font-variation-settings: normal; line-height: 19px; letter-spacing: 0px; width: 1146px; height: 67px;" role="presentation" aria-hidden="true" data-mprt="7"><div style="top:0px;height:19px;" class="view-line"><span><span class="mtk8">#&nbsp;your&nbsp;code&nbsp;here</span></span></div><div style="top:19px;height:19px;" class="view-line"><span><span class="mtk18">for</span><span class="mtk1">&nbsp;word&nbsp;</span><span class="mtk17">in</span><span class="mtk1">&nbsp;words</span><span class="mtk12">:</span></span></div><div style="top:38px;height:19px;" class="view-line"><span><span class="mtk1">&nbsp;&nbsp;</span><span class="mtk15">print</span><span class="mtk12 bracket-highlighting-0">(</span><span class="mtk1">word.upper</span><span class="mtk12 bracket-highlighting-1">(</span><span class="mtk12 bracket-highlighting-1">)</span><span class="mtk12 bracket-highlighting-0">)</span></span></div></div><div data-mprt="1" class="contentWidgets" style="position: absolute; top: 0px;"></div><div role="presentation" aria-hidden="true" class="cursors-layer cursor-line-style cursor-solid"><div class="cursor monaco-mouse-cursor-text " style="height: 19px; top: 0px; left: 0px; font-family: monospace, Consolas, &quot;Courier New&quot;, monospace; font-weight: normal; font-size: 14px; font-feature-settings: &quot;liga&quot; 0, &quot;calt&quot; 0; font-variation-settings: normal; line-height: 19px; letter-spacing: 0px; display: block; visibility: hidden; padding-left: 0px; width: 2px;"></div></div></div><div role="presentation" aria-hidden="true" class="invisible scrollbar horizontal" style="position: absolute; width: 1132px; height: 10px; left: 0px; bottom: 0px;"><div class="slider" style="position: absolute; top: 0px; left: 0px; height: 10px; transform: translate3d(0px, 0px, 0px); contain: strict; will-change: unset; width: 1132px;"></div></div><canvas class="decorationsOverviewRuler" style="position: absolute; transform: translate3d(0px, 0px, 0px); contain: strict; top: 0px; right: 0px; width: 14px; height: 67px; will-change: unset; display: block;" aria-hidden="true" width="21" height="100"></canvas><div role="presentation" aria-hidden="true" class="invisible scrollbar vertical" style="position: absolute; width: 14px; height: 67px; right: 0px; top: 0px;"><div class="slider" style="position: absolute; top: 0px; left: 0px; width: 14px; transform: translate3d(0px, 0px, 0px); contain: strict; will-change: unset; height: 67px;"></div></div></div><div role="presentation" aria-hidden="true" style="width: 1152px;"></div><textarea data-mprt="6" class="inputarea monaco-mouse-cursor-text" wrap="on" style="tab-size: 15.3984px; font-family: monospace, Consolas, &quot;Courier New&quot;, monospace; font-weight: normal; font-size: 14px; font-feature-settings: &quot;liga&quot; 0, &quot;calt&quot; 0; font-variation-settings: normal; line-height: 19px; letter-spacing: 0px; top: 0px; left: 6px; width: 76992px; height: 0px;" autocorrect="off" autocapitalize="none" autocomplete="off" spellcheck="false" aria-label="Editor content;Press Alt+F1 for Accessibility Options." tabindex="0" role="textbox" aria-roledescription="editor" aria-multiline="true" aria-haspopup="false" aria-autocomplete="both"># your code here
for word in words:
  print(word.upper())</textarea><div style="position: absolute; top: 0px; left: 0px; width: 0px; height: 0px;" class="monaco-editor-background textAreaCover"></div><div data-mprt="4" class="overlayWidgets" style="width: 1152px;"><div style="position: absolute; top: 0px; right: 50%;" widgetid="editor.contrib.quickInputWidget"></div></div><div data-mprt="8" class="minimap slider-mouseover" style="position: absolute; left: 0px; width: 0px; height: 67px;" role="presentation" aria-hidden="true"><div class="minimap-shadow-hidden" style="height: 67px;"></div><canvas style="position: absolute; left: 0px; width: 0px; height: 67px;" width="0" height="100"></canvas><canvas style="position: absolute; left: 0px; width: 0px; height: 67px;" class="minimap-decorations-layer" width="0" height="100"></canvas><div style="position: absolute; transform: translate3d(0px, 0px, 0px); contain: strict; width: 0px; will-change: unset;" class="minimap-slider"><div style="position: absolute; width: 0px; height: 0px;" class="minimap-slider-horizontal"></div></div></div><div role="presentation" aria-hidden="true" class="blockDecorations-container"></div></div><div data-mprt="2" class="overflowingContentWidgets"></div><div class=".in-cell-overflowing"></div></div></div></div><colab-form class="formview vertical layout flex"><div class="widget-area vertical layout"></div></colab-form></div>
    <div class="output" aria-label="Cell 3 output" role="region"><!----> <div class="output-header"> </div>
        <div class="output-content">
          <div class="output-info"><colab-output-info></colab-output-info></div>
          <div class="output-iframe-container">
            <div class="output-iframe-sizer" style="min-height: 0px;"> <div><div><colab-static-output-renderer tabindex="0" role="group"><div><div class="stream output-id-1 output_text"><pre>PLAY
FILLING
BAR
THEATRE
EASYGOING
DATE
LEAD
THAT
STORY
ISLAND
</pre></div></div><div></div></colab-static-output-renderer></div></div></div>
          </div>
        </div></div></div><colab-cell-next-steps></colab-cell-next-steps></div></div><div class="add-cell">
      <div class="add-cell-buttons">
        <md-outlined-button class="add-code add-button" data-aria-label="Add code cell
Ctrl+M B" title="Add code cell
Ctrl+M B" value="" has-icon="">
          <md-icon slot="icon" aria-hidden="true">add</md-icon>
          <!--?lit$935373052$-->Code
        </md-outlined-button>
        <md-outlined-button class="add-text add-button" data-aria-label="Add text cell" title="Add text cell" value="" has-icon="">
          <md-icon slot="icon" aria-hidden="true">add</md-icon>
          <!--?lit$935373052$-->Text
        </md-outlined-button>
        <!--?lit$935373052$-->
      </div><hr>
    </div></div><div class="cell text" id="cell-WoZJjt7G2NDI" tabindex="-1" role="region" aria-label="Cell 4: Text cell: " style=""><div class="agent-focus-label">
      <md-icon aria-hidden="true">spark</md-icon>
      <!--?lit$935373052$-->Gemini
    </div><div class="cell-tag-editor sticky"></div><div class="cell-toolbar sticky"></div><div class="main-content" elevation="0"><div class="cell-contents"><div class="cell-mask"></div><span class="imported-info-area"></span><!----> <div class="toolbar-root"></div>
      <div class="editor-container horizontal">
        <div class="editor-root"></div>
        <div class="text-top-div">
          <div class="markdown"><span><p><strong>Create a new list containing only words with 5 or more letters</strong></p>
</span></div>
        </div>
      </div>

      <div class="section-header" style="display: none;">
        <colab-run-button></colab-run-button>
        <div class="section-header-container" title="click to expand">
          <md-icon aria-hidden="true">subdirectory_arrow_right</md-icon>
          <span>0 cells hidden</span>
        </div>
      </div></div></div><div class="add-cell">
      <div class="add-cell-buttons">
        <md-outlined-button class="add-code add-button" data-aria-label="Add code cell
Ctrl+M B" title="Add code cell
Ctrl+M B" value="" has-icon="">
          <md-icon slot="icon" aria-hidden="true">add</md-icon>
          <!--?lit$935373052$-->Code
        </md-outlined-button>
        <md-outlined-button class="add-text add-button" data-aria-label="Add text cell" title="Add text cell" value="" has-icon="">
          <md-icon slot="icon" aria-hidden="true">add</md-icon>
          <!--?lit$935373052$-->Text
        </md-outlined-button>
        <!--?lit$935373052$-->
      </div><hr>
    </div></div><div class="cell code icon-scrolling code-has-output" id="cell-GcQORl3-2NDK" tabindex="-1" role="region" aria-label="Cell 5: Code cell: " style=""><div class="agent-focus-label">
      <md-icon aria-hidden="true">spark</md-icon>
      <!--?lit$935373052$-->Gemini
    </div><div class="cell-tag-editor sticky"></div><div class="cell-toolbar sticky"></div><div class="main-content" elevation="0"><div class="cell-contents"><div class="cell-mask"></div><span class="imported-info-area"></span><div class="codecell-input-output">
      <div class="inputarea horizontal layout code">
        <div class="cell-gutter">
          <!-- Bounding range for vertical scrolling of icons -->
          <div class="cell-execution-container">
            <colab-run-button></colab-run-button>
          </div>
        </div>
      <div class="editor flex lazy-editor" style=""><pre class="lazy-virtualized lazy-virtualized-unstyled-scrollbars" style="font-size: 14px; line-height: 19px;"><pre class="lazy-gutter"></pre><pre class="monaco-colorized colab-dark colab-dark colab-dark colab-dark colab-dark colab-dark colab-dark" data-lang="notebook-python"><span><span class="mtk8">#&nbsp;your&nbsp;code&nbsp;here</span></span><br><span><span class="mtk1">lst&nbsp;=&nbsp;</span><span class="mtk12">[]</span></span><br><span><span class="mtk18">for</span><span class="mtk1">&nbsp;word&nbsp;</span><span class="mtk17">in</span><span class="mtk1">&nbsp;words</span><span class="mtk12">:</span></span><br><span><span class="mtk1">&nbsp;&nbsp;</span><span class="mtk18">if</span><span class="mtk1">&nbsp;</span><span class="mtk15">len</span><span class="mtk12">(</span><span class="mtk1">word</span><span class="mtk12">)</span><span class="mtk1">&nbsp;&gt;=</span><span class="mtk6">5</span><span class="mtk12">:</span></span><br><span><span class="mtk1">&nbsp;&nbsp;&nbsp;&nbsp;lst.append</span><span class="mtk12">(</span><span class="mtk1">word</span><span class="mtk12">)</span></span><br><span><span class="mtk15">print</span><span class="mtk12">(</span><span class="mtk1">lst</span><span class="mtk12">)</span></span><br></pre><colab-read-only-cell-placeholder style="display: none;"></colab-read-only-cell-placeholder></pre></div><colab-form class="formview vertical layout flex"><div class="widget-area vertical layout"></div></colab-form></div>
    <div class="output" aria-label="Cell 5 output" role="region"><!----> <div class="output-header"> </div>
        <div class="output-content">
          <div class="output-info"><colab-output-info></colab-output-info></div>
          <div class="output-iframe-container">
            <div class="output-iframe-sizer" style="min-height: 0px;"> <div><div><colab-static-output-renderer tabindex="0" role="group"><div><div class="stream output-id-1 output_text"><pre>['filling', 'theatre', 'easygoing', 'story', 'island']
</pre></div></div><div></div></colab-static-output-renderer></div></div><div><div></div></div></div>
          </div>
        </div></div></div><colab-cell-next-steps></colab-cell-next-steps></div></div><div class="add-cell">
      <div class="add-cell-buttons">
        <md-outlined-button class="add-code add-button" data-aria-label="Add code cell
Ctrl+M B" title="Add code cell
Ctrl+M B" value="" has-icon="">
          <md-icon slot="icon" aria-hidden="true">add</md-icon>
          <!--?lit$935373052$-->Code
        </md-outlined-button>
        <md-outlined-button class="add-text add-button" data-aria-label="Add text cell" title="Add text cell" value="" has-icon="">
          <md-icon slot="icon" aria-hidden="true">add</md-icon>
          <!--?lit$935373052$-->Text
        </md-outlined-button>
        <!--?lit$935373052$-->
      </div><hr>
    </div></div><div class="cell text" id="cell-9GX9Br-x2NDM" tabindex="-1" role="region" aria-label="Cell 6: Text cell: " style=""><div class="agent-focus-label">
      <md-icon aria-hidden="true">spark</md-icon>
      <!--?lit$935373052$-->Gemini
    </div><div class="cell-tag-editor sticky"></div><div class="cell-toolbar sticky"></div><div class="main-content" elevation="0"><div class="cell-contents"><div class="cell-mask"></div><span class="imported-info-area"></span><!----> <div class="toolbar-root"></div>
      <div class="editor-container horizontal">
        <div class="editor-root"></div>
        <div class="text-top-div">
          <div class="markdown"><span><p><strong>Print the first word starting with "t"</strong></p>
</span></div>
        </div>
      </div>

      <div class="section-header" style="display: none;">
        <colab-run-button></colab-run-button>
        <div class="section-header-container" title="click to expand">
          <md-icon aria-hidden="true">subdirectory_arrow_right</md-icon>
          <span>0 cells hidden</span>
        </div>
      </div></div></div><div class="add-cell">
      <div class="add-cell-buttons">
        <md-outlined-button class="add-code add-button" data-aria-label="Add code cell
Ctrl+M B" title="Add code cell
Ctrl+M B" value="" has-icon="">
          <md-icon slot="icon" aria-hidden="true">add</md-icon>
          <!--?lit$935373052$-->Code
        </md-outlined-button>
        <md-outlined-button class="add-text add-button" data-aria-label="Add text cell" title="Add text cell" value="" has-icon="">
          <md-icon slot="icon" aria-hidden="true">add</md-icon>
          <!--?lit$935373052$-->Text
        </md-outlined-button>
        <!--?lit$935373052$-->
      </div><hr>
    </div></div><div class="cell code icon-scrolling code-has-output" id="cell-NX0kdnWh2NDN" tabindex="-1" role="region" aria-label="Cell 7: Code cell: " style=""><div class="agent-focus-label">
      <md-icon aria-hidden="true">spark</md-icon>
      <!--?lit$935373052$-->Gemini
    </div><div class="cell-tag-editor sticky"></div><div class="cell-toolbar sticky"></div><div class="main-content" elevation="0"><div class="cell-contents"><div class="cell-mask"></div><span class="imported-info-area"></span><div class="codecell-input-output">
      <div class="inputarea horizontal layout code">
        <div class="cell-gutter">
          <!-- Bounding range for vertical scrolling of icons -->
          <div class="cell-execution-container">
            <colab-run-button></colab-run-button>
          </div>
        </div>
      <div class="editor flex lazy-editor" style=""><pre class="lazy-virtualized lazy-virtualized-unstyled-scrollbars" style="font-size: 14px; line-height: 19px;"><pre class="lazy-gutter"></pre><pre class="monaco-colorized colab-dark colab-dark colab-dark colab-dark colab-dark colab-dark colab-dark" data-lang="notebook-python"><span><span class="mtk8">#&nbsp;your&nbsp;code&nbsp;here</span></span><br><span><span class="mtk18">for</span><span class="mtk1">&nbsp;word&nbsp;</span><span class="mtk17">in</span><span class="mtk1">&nbsp;words</span><span class="mtk12">:</span></span><br><span><span class="mtk1">&nbsp;&nbsp;</span><span class="mtk18">if</span><span class="mtk1">&nbsp;word.startswith</span><span class="mtk12">(</span><span class="mtk5">'t'</span><span class="mtk12">):</span></span><br><span><span class="mtk1">&nbsp;&nbsp;&nbsp;&nbsp;</span><span class="mtk15">print</span><span class="mtk12">(</span><span class="mtk1">word</span><span class="mtk12">)</span></span><br><span><span class="mtk1">&nbsp;&nbsp;&nbsp;&nbsp;</span><span class="mtk18">break</span></span><br></pre><colab-read-only-cell-placeholder style="display: none;"></colab-read-only-cell-placeholder></pre></div><colab-form class="formview vertical layout flex"><div class="widget-area vertical layout"></div></colab-form></div>
    <div class="output" aria-label="Cell 7 output" role="region"><!----> <div class="output-header"> </div>
        <div class="output-content">
          <div class="output-info"><colab-output-info></colab-output-info></div>
          <div class="output-iframe-container">
            <div class="output-iframe-sizer" style="min-height: 0px;"> <div><div><colab-static-output-renderer tabindex="0" role="group"><div><div class="stream output-id-1 output_text"><pre>theatre
</pre></div></div><div></div></colab-static-output-renderer></div></div></div>
          </div>
        </div></div></div><colab-cell-next-steps></colab-cell-next-steps></div></div><div class="add-cell">
      <div class="add-cell-buttons">
        <md-outlined-button class="add-code add-button" data-aria-label="Add code cell
Ctrl+M B" title="Add code cell
Ctrl+M B" value="" has-icon="">
          <md-icon slot="icon" aria-hidden="true">add</md-icon>
          <!--?lit$935373052$-->Code
        </md-outlined-button>
        <md-outlined-button class="add-text add-button" data-aria-label="Add text cell" title="Add text cell" value="" has-icon="">
          <md-icon slot="icon" aria-hidden="true">add</md-icon>
          <!--?lit$935373052$-->Text
        </md-outlined-button>
        <!--?lit$935373052$-->
      </div><hr>
    </div></div><div class="cell text" id="cell-3F7GHxWz2NDP" tabindex="-1" role="region" aria-label="Cell 8: Text cell: Numbers" style=""><div class="agent-focus-label">
      <md-icon aria-hidden="true">spark</md-icon>
      <!--?lit$935373052$-->Gemini
    </div><div class="cell-tag-editor sticky"></div><div class="cell-toolbar sticky"></div><div class="main-content" elevation="0"><div class="cell-contents"><div class="cell-mask"></div><span class="imported-info-area"></span><!----> <div class="toolbar-root"></div>
      <div class="editor-container horizontal">
        <div class="editor-root"></div>
        <div class="text-top-div">
          <div class="markdown"><span><div class="text-cell-section-header layout horizontal center"><md-icon-button class="header-section-toggle" title="Collapse 6 child cells under Numbers (Press &lt;Shift&gt; to also collapse sibling sections)" data-aria-label="Collapse 6 child cells under Numbers (Press &lt;Shift&gt; to also collapse sibling sections)" value=""><md-icon aria-hidden="true">keyboard_arrow_down</md-icon></md-icon-button><h2>Numbers</h2></div>
</span></div>
        </div>
      </div>

      <div class="section-header" style="display: none;">
        <colab-run-button></colab-run-button>
        <div class="section-header-container" title="click to expand">
          <md-icon aria-hidden="true">subdirectory_arrow_right</md-icon>
          <span>6 cells hidden</span>
        </div>
      </div></div></div><div class="add-cell">
      <div class="add-cell-buttons">
        <md-outlined-button class="add-code add-button" data-aria-label="Add code cell
Ctrl+M B" title="Add code cell
Ctrl+M B" value="" has-icon="">
          <md-icon slot="icon" aria-hidden="true">add</md-icon>
          <!--?lit$935373052$-->Code
        </md-outlined-button>
        <md-outlined-button class="add-text add-button" data-aria-label="Add text cell" title="Add text cell" value="" has-icon="">
          <md-icon slot="icon" aria-hidden="true">add</md-icon>
          <!--?lit$935373052$-->Text
        </md-outlined-button>
        <!--?lit$935373052$-->
      </div><hr>
    </div></div><div class="cell text" id="cell-a9-tCENE2NDR" tabindex="-1" role="region" aria-label="Cell 9: Text cell: " style=""><div class="agent-focus-label">
      <md-icon aria-hidden="true">spark</md-icon>
      <!--?lit$935373052$-->Gemini
    </div><div class="cell-tag-editor sticky"></div><div class="cell-toolbar sticky"></div><div class="main-content" elevation="0"><div class="cell-contents"><div class="cell-mask"></div><span class="imported-info-area"></span><!----> <div class="toolbar-root"></div>
      <div class="editor-container horizontal">
        <div class="editor-root"></div>
        <div class="text-top-div">
          <div class="markdown"><span><p><strong>Create a list containing the square of every number from 1 to 10</strong></p>
</span></div>
        </div>
      </div>

      <div class="section-header" style="display: none;">
        <colab-run-button></colab-run-button>
        <div class="section-header-container" title="click to expand">
          <md-icon aria-hidden="true">subdirectory_arrow_right</md-icon>
          <span>0 cells hidden</span>
        </div>
      </div></div></div><div class="add-cell">
      <div class="add-cell-buttons">
        <md-outlined-button class="add-code add-button" data-aria-label="Add code cell
Ctrl+M B" title="Add code cell
Ctrl+M B" value="" has-icon="">
          <md-icon slot="icon" aria-hidden="true">add</md-icon>
          <!--?lit$935373052$-->Code
        </md-outlined-button>
        <md-outlined-button class="add-text add-button" data-aria-label="Add text cell" title="Add text cell" value="" has-icon="">
          <md-icon slot="icon" aria-hidden="true">add</md-icon>
          <!--?lit$935373052$-->Text
        </md-outlined-button>
        <!--?lit$935373052$-->
      </div><hr>
    </div></div><div class="cell code icon-scrolling code-has-output" id="cell-2AGn1Vku2NDT" tabindex="-1" role="region" aria-label="Cell 10: Code cell: " style=""><div class="agent-focus-label">
      <md-icon aria-hidden="true">spark</md-icon>
      <!--?lit$935373052$-->Gemini
    </div><div class="cell-tag-editor sticky"></div><div class="cell-toolbar sticky"></div><div class="main-content" elevation="0"><div class="cell-contents"><div class="cell-mask"></div><span class="imported-info-area"></span><div class="codecell-input-output">
      <div class="inputarea horizontal layout code">
        <div class="cell-gutter">
          <!-- Bounding range for vertical scrolling of icons -->
          <div class="cell-execution-container">
            <colab-run-button></colab-run-button>
          </div>
        </div>
      <div class="editor flex lazy-editor" style=""><pre class="lazy-virtualized lazy-virtualized-unstyled-scrollbars" style="font-size: 14px; line-height: 19px;"><pre class="lazy-gutter"></pre><pre class="monaco-colorized colab-dark colab-dark colab-dark colab-dark colab-dark colab-dark colab-dark" data-lang="notebook-python"><span><span class="mtk8">#&nbsp;your&nbsp;code&nbsp;here</span></span><br><span><span class="mtk1">lst&nbsp;=&nbsp;</span><span class="mtk12">[]</span></span><br><span><span class="mtk18">for</span><span class="mtk1">&nbsp;i&nbsp;</span><span class="mtk17">in</span><span class="mtk1">&nbsp;</span><span class="mtk15">range</span><span class="mtk12">(</span><span class="mtk6">1</span><span class="mtk12">,</span><span class="mtk1">&nbsp;</span><span class="mtk6">11</span><span class="mtk12">):</span></span><br><span><span class="mtk1">&nbsp;&nbsp;lst.append</span><span class="mtk12">(</span><span class="mtk1">i**</span><span class="mtk6">2</span><span class="mtk12">)</span></span><br><span><span class="mtk15">print</span><span class="mtk12">(</span><span class="mtk1">lst</span><span class="mtk12">)</span></span><br></pre><colab-read-only-cell-placeholder style="display: none;"></colab-read-only-cell-placeholder></pre></div><colab-form class="formview vertical layout flex"><div class="widget-area vertical layout"></div></colab-form></div>
    <div class="output" aria-label="Cell 10 output" role="region"><!----> <div class="output-header"> </div>
        <div class="output-content">
          <div class="output-info"><colab-output-info></colab-output-info></div>
          <div class="output-iframe-container">
            <div class="output-iframe-sizer" style="min-height: 0px;"> <div><div><colab-static-output-renderer tabindex="0" role="group"><div><div class="stream output-id-1 output_text"><pre>[1, 4, 9, 16, 25, 36, 49, 64, 81, 100]
</pre></div></div><div></div></colab-static-output-renderer></div></div><div><div></div></div></div>
          </div>
        </div></div></div><colab-cell-next-steps></colab-cell-next-steps></div></div><div class="add-cell">
      <div class="add-cell-buttons">
        <md-outlined-button class="add-code add-button" data-aria-label="Add code cell
Ctrl+M B" title="Add code cell
Ctrl+M B" value="" has-icon="">
          <md-icon slot="icon" aria-hidden="true">add</md-icon>
          <!--?lit$935373052$-->Code
        </md-outlined-button>
        <md-outlined-button class="add-text add-button" data-aria-label="Add text cell" title="Add text cell" value="" has-icon="">
          <md-icon slot="icon" aria-hidden="true">add</md-icon>
          <!--?lit$935373052$-->Text
        </md-outlined-button>
        <!--?lit$935373052$-->
      </div><hr>
    </div></div><div class="cell text" id="cell-F38rtRPq2NDV" tabindex="-1" role="region" aria-label="Cell 11: Text cell: " style=""><div class="agent-focus-label">
      <md-icon aria-hidden="true">spark</md-icon>
      <!--?lit$935373052$-->Gemini
    </div><div class="cell-tag-editor sticky"></div><div class="cell-toolbar sticky"></div><div class="main-content" elevation="0"><div class="cell-contents"><div class="cell-mask"></div><span class="imported-info-area"></span><!----> <div class="toolbar-root"></div>
      <div class="editor-container horizontal">
        <div class="editor-root"></div>
        <div class="text-top-div">
          <div class="markdown"><span><p><strong>Print a list containing the square of every odd number from 1 to 10</strong></p>
</span></div>
        </div>
      </div>

      <div class="section-header" style="display: none;">
        <colab-run-button></colab-run-button>
        <div class="section-header-container" title="click to expand">
          <md-icon aria-hidden="true">subdirectory_arrow_right</md-icon>
          <span>0 cells hidden</span>
        </div>
      </div></div></div><div class="add-cell">
      <div class="add-cell-buttons">
        <md-outlined-button class="add-code add-button" data-aria-label="Add code cell
Ctrl+M B" title="Add code cell
Ctrl+M B" value="" has-icon="">
          <md-icon slot="icon" aria-hidden="true">add</md-icon>
          <!--?lit$935373052$-->Code
        </md-outlined-button>
        <md-outlined-button class="add-text add-button" data-aria-label="Add text cell" title="Add text cell" value="" has-icon="">
          <md-icon slot="icon" aria-hidden="true">add</md-icon>
          <!--?lit$935373052$-->Text
        </md-outlined-button>
        <!--?lit$935373052$-->
      </div><hr>
    </div></div><div class="cell code icon-scrolling code-has-output" id="cell-tsO-HbyN2NDW" tabindex="-1" role="region" aria-label="Cell 12: Code cell: " style=""><div class="agent-focus-label">
      <md-icon aria-hidden="true">spark</md-icon>
      <!--?lit$935373052$-->Gemini
    </div><div class="cell-tag-editor sticky"></div><div class="cell-toolbar sticky"></div><div class="main-content" elevation="0"><div class="cell-contents"><div class="cell-mask"></div><span class="imported-info-area"></span><div class="codecell-input-output">
      <div class="inputarea horizontal layout code">
        <div class="cell-gutter">
          <!-- Bounding range for vertical scrolling of icons -->
          <div class="cell-execution-container">
            <colab-run-button></colab-run-button>
          </div>
        </div>
      <div class="editor flex lazy-editor" style=""><pre class="lazy-virtualized lazy-virtualized-unstyled-scrollbars" style="font-size: 14px; line-height: 19px;"><pre class="lazy-gutter"></pre><pre class="monaco-colorized colab-dark colab-dark colab-dark colab-dark colab-dark colab-dark" data-lang="notebook-python"><span><span class="mtk8">#&nbsp;your&nbsp;code&nbsp;here</span></span><br><span><span class="mtk1">lst&nbsp;=&nbsp;</span><span class="mtk12">[]</span></span><br><span><span class="mtk18">for</span><span class="mtk1">&nbsp;i&nbsp;</span><span class="mtk17">in</span><span class="mtk1">&nbsp;</span><span class="mtk15">range</span><span class="mtk12">(</span><span class="mtk6">1</span><span class="mtk12">,</span><span class="mtk1">&nbsp;</span><span class="mtk6">11</span><span class="mtk12">):</span></span><br><span><span class="mtk1">&nbsp;&nbsp;</span><span class="mtk18">if</span><span class="mtk1">&nbsp;i&nbsp;%&nbsp;</span><span class="mtk6">2</span><span class="mtk1">&nbsp;!=&nbsp;</span><span class="mtk6">0</span><span class="mtk12">:</span></span><br><span><span class="mtk1">&nbsp;&nbsp;&nbsp;&nbsp;lst.append</span><span class="mtk12">(</span><span class="mtk1">i**</span><span class="mtk6">2</span><span class="mtk12">)</span></span><br><span><span class="mtk15">print</span><span class="mtk12">(</span><span class="mtk1">lst</span><span class="mtk12">)</span></span><br></pre><colab-read-only-cell-placeholder style="display: none;"></colab-read-only-cell-placeholder></pre></div><colab-form class="formview vertical layout flex"><div class="widget-area vertical layout"></div></colab-form></div>
    <div class="output" aria-label="Cell 12 output" role="region"><!----> <div class="output-header"> </div>
        <div class="output-content">
          <div class="output-info"><colab-output-info></colab-output-info></div>
          <div class="output-iframe-container">
            <div class="output-iframe-sizer" style="min-height: 0px;"> <div><div><colab-static-output-renderer tabindex="0" role="group"><div><div class="stream output-id-1 output_text"><pre>[1, 9, 25, 49, 81]
</pre></div></div><div></div></colab-static-output-renderer></div></div></div>
          </div>
        </div></div></div><colab-cell-next-steps></colab-cell-next-steps></div></div><div class="add-cell">
      <div class="add-cell-buttons">
        <md-outlined-button class="add-code add-button" data-aria-label="Add code cell
Ctrl+M B" title="Add code cell
Ctrl+M B" value="" has-icon="">
          <md-icon slot="icon" aria-hidden="true">add</md-icon>
          <!--?lit$935373052$-->Code
        </md-outlined-button>
        <md-outlined-button class="add-text add-button" data-aria-label="Add text cell" title="Add text cell" value="" has-icon="">
          <md-icon slot="icon" aria-hidden="true">add</md-icon>
          <!--?lit$935373052$-->Text
        </md-outlined-button>
        <!--?lit$935373052$-->
      </div><hr>
    </div></div><div class="cell text" id="cell-iCQP2lH62NDY" tabindex="-1" role="region" aria-label="Cell 13: Text cell: " style=""><div class="agent-focus-label">
      <md-icon aria-hidden="true">spark</md-icon>
      <!--?lit$935373052$-->Gemini
    </div><div class="cell-tag-editor sticky"></div><div class="cell-toolbar sticky"></div><div class="main-content" elevation="0"><div class="cell-contents"><div class="cell-mask"></div><span class="imported-info-area"></span><!----> <div class="toolbar-root"></div>
      <div class="editor-container horizontal">
        <div class="editor-root"></div>
        <div class="text-top-div">
          <div class="markdown"><span><p><strong>Create a list with the squares of all multiples of 8 below 1000</strong></p>
</span></div>
        </div>
      </div>

      <div class="section-header" style="display: none;">
        <colab-run-button></colab-run-button>
        <div class="section-header-container" title="click to expand">
          <md-icon aria-hidden="true">subdirectory_arrow_right</md-icon>
          <span>0 cells hidden</span>
        </div>
      </div></div></div><div class="add-cell">
      <div class="add-cell-buttons">
        <md-outlined-button class="add-code add-button" data-aria-label="Add code cell
Ctrl+M B" title="Add code cell
Ctrl+M B" value="" has-icon="">
          <md-icon slot="icon" aria-hidden="true">add</md-icon>
          <!--?lit$935373052$-->Code
        </md-outlined-button>
        <md-outlined-button class="add-text add-button" data-aria-label="Add text cell" title="Add text cell" value="" has-icon="">
          <md-icon slot="icon" aria-hidden="true">add</md-icon>
          <!--?lit$935373052$-->Text
        </md-outlined-button>
        <!--?lit$935373052$-->
      </div><hr>
    </div></div><div class="cell code icon-scrolling code-has-output" id="cell-m91Tqdqy2NDY" tabindex="-1" role="region" aria-label="Cell 14: Code cell: " style=""><div class="agent-focus-label">
      <md-icon aria-hidden="true">spark</md-icon>
      <!--?lit$935373052$-->Gemini
    </div><div class="cell-tag-editor sticky"></div><div class="cell-toolbar sticky"></div><div class="main-content" elevation="0"><div class="cell-contents"><div class="cell-mask"></div><span class="imported-info-area"></span><div class="codecell-input-output">
      <div class="inputarea horizontal layout code">
        <div class="cell-gutter">
          <!-- Bounding range for vertical scrolling of icons -->
          <div class="cell-execution-container">
            <colab-run-button></colab-run-button>
          </div>
        </div>
      <div class="editor flex lazy-editor" style=""><pre class="lazy-virtualized lazy-virtualized-unstyled-scrollbars" style="font-size: 14px; line-height: 19px;"><pre class="lazy-gutter"></pre><pre class="monaco-colorized colab-dark colab-dark colab-dark colab-dark colab-dark colab-dark colab-dark colab-dark colab-dark" data-lang="notebook-python"><span><span class="mtk8">#&nbsp;your&nbsp;code&nbsp;here</span></span><br><span><span class="mtk1">lst&nbsp;=&nbsp;</span><span class="mtk12">[]</span></span><br><span><span class="mtk18">for</span><span class="mtk1">&nbsp;i&nbsp;</span><span class="mtk17">in</span><span class="mtk1">&nbsp;</span><span class="mtk15">range</span><span class="mtk12">(</span><span class="mtk6">1</span><span class="mtk12">,</span><span class="mtk1">&nbsp;</span><span class="mtk6">1000</span><span class="mtk12">):</span></span><br><span><span class="mtk1">&nbsp;&nbsp;</span><span class="mtk18">if</span><span class="mtk1">&nbsp;i&nbsp;%&nbsp;</span><span class="mtk6">8</span><span class="mtk1">&nbsp;==&nbsp;</span><span class="mtk6">0</span><span class="mtk12">:</span></span><br><span><span class="mtk1">&nbsp;&nbsp;&nbsp;&nbsp;lst.append</span><span class="mtk12">(</span><span class="mtk1">i**</span><span class="mtk6">2</span><span class="mtk12">)</span></span><br><span><span class="mtk15">print</span><span class="mtk12">(</span><span class="mtk1">lst</span><span class="mtk12">)</span></span><br></pre><colab-read-only-cell-placeholder style="display: none;"></colab-read-only-cell-placeholder></pre></div><colab-form class="formview vertical layout flex"><div class="widget-area vertical layout"></div></colab-form></div>
    <div class="output" aria-label="Cell 14 output" role="region"><!----> <div class="output-header"> </div>
        <div class="output-content">
          <div class="output-info"><colab-output-info></colab-output-info></div>
          <div class="output-iframe-container">
            <div class="output-iframe-sizer" style="min-height: 0px;"> <div><div><colab-static-output-renderer tabindex="0" role="group"><div><div class="stream output-id-1 output_text"><pre>[64, 256, 576, 1024, 1600, 2304, 3136, 4096, 5184, 6400, 7744, 9216, 10816, 12544, 14400, 16384, 18496, 20736, 23104, 25600, 28224, 30976, 33856, 36864, 40000, 43264, 46656, 50176, 53824, 57600, 61504, 65536, 69696, 73984, 78400, 82944, 87616, 92416, 97344, 102400, 107584, 112896, 118336, 123904, 129600, 135424, 141376, 147456, 153664, 160000, 166464, 173056, 179776, 186624, 193600, 200704, 207936, 215296, 222784, 230400, 238144, 246016, 254016, 262144, 270400, 278784, 287296, 295936, 304704, 313600, 322624, 331776, 341056, 350464, 360000, 369664, 379456, 389376, 399424, 409600, 419904, 430336, 440896, 451584, 462400, 473344, 484416, 495616, 506944, 518400, 529984, 541696, 553536, 565504, 577600, 589824, 602176, 614656, 627264, 640000, 652864, 665856, 678976, 692224, 705600, 719104, 732736, 746496, 760384, 774400, 788544, 802816, 817216, 831744, 846400, 861184, 876096, 891136, 906304, 921600, 937024, 952576, 968256, 984064]
</pre></div></div><div></div></colab-static-output-renderer></div></div></div>
          </div>
        </div></div></div><colab-cell-next-steps></colab-cell-next-steps></div></div><div class="add-cell">
      <div class="add-cell-buttons">
        <md-outlined-button class="add-code add-button" data-aria-label="Add code cell
Ctrl+M B" title="Add code cell
Ctrl+M B" value="" has-icon="">
          <md-icon slot="icon" aria-hidden="true">add</md-icon>
          <!--?lit$935373052$-->Code
        </md-outlined-button>
        <md-outlined-button class="add-text add-button" data-aria-label="Add text cell" title="Add text cell" value="" has-icon="">
          <md-icon slot="icon" aria-hidden="true">add</md-icon>
          <!--?lit$935373052$-->Text
        </md-outlined-button>
        <!--?lit$935373052$-->
      </div><hr>
    </div></div><div class="cell text" id="cell-4iMiZ6q22NDZ" tabindex="-1" role="region" aria-label="Cell 15: Text cell: People" style=""><div class="agent-focus-label">
      <md-icon aria-hidden="true">spark</md-icon>
      <!--?lit$935373052$-->Gemini
    </div><div class="cell-tag-editor sticky"></div><div class="cell-toolbar sticky"></div><div class="main-content" elevation="0"><div class="cell-contents"><div class="cell-mask"></div><span class="imported-info-area"></span><!----> <div class="toolbar-root"></div>
      <div class="editor-container horizontal">
        <div class="editor-root"></div>
        <div class="text-top-div">
          <div class="markdown"><span><div class="text-cell-section-header layout horizontal center"><md-icon-button class="header-section-toggle" title="Collapse 9 child cells under People (Press &lt;Shift&gt; to also collapse sibling sections)" data-aria-label="Collapse 9 child cells under People (Press &lt;Shift&gt; to also collapse sibling sections)" value=""><md-icon aria-hidden="true">keyboard_arrow_down</md-icon></md-icon-button><h2>People</h2></div>
</span></div>
        </div>
      </div>

      <div class="section-header" style="display: none;">
        <colab-run-button></colab-run-button>
        <div class="section-header-container" title="click to expand">
          <md-icon aria-hidden="true">subdirectory_arrow_right</md-icon>
          <span>9 cells hidden</span>
        </div>
      </div></div></div><div class="add-cell">
      <div class="add-cell-buttons">
        <md-outlined-button class="add-code add-button" data-aria-label="Add code cell
Ctrl+M B" title="Add code cell
Ctrl+M B" value="" has-icon="">
          <md-icon slot="icon" aria-hidden="true">add</md-icon>
          <!--?lit$935373052$-->Code
        </md-outlined-button>
        <md-outlined-button class="add-text add-button" data-aria-label="Add text cell" title="Add text cell" value="" has-icon="">
          <md-icon slot="icon" aria-hidden="true">add</md-icon>
          <!--?lit$935373052$-->Text
        </md-outlined-button>
        <!--?lit$935373052$-->
      </div><hr>
    </div></div><div class="cell code icon-scrolling" id="cell-oog7eLCS2NDa" tabindex="-1" role="region" aria-label="Cell 16: Code cell: " style=""><div class="agent-focus-label">
      <md-icon aria-hidden="true">spark</md-icon>
      <!--?lit$935373052$-->Gemini
    </div><div class="cell-tag-editor sticky"></div><div class="cell-toolbar sticky"></div><div class="main-content" elevation="0"><div class="cell-contents"><div class="cell-mask"></div><span class="imported-info-area"></span><div class="codecell-input-output">
      <div class="inputarea horizontal layout code">
        <div class="cell-gutter">
          <!-- Bounding range for vertical scrolling of icons -->
          <div class="cell-execution-container">
            <colab-run-button></colab-run-button>
          </div>
        </div>
      <div class="editor flex lazy-editor" style=""><div class="editor flex monaco" data-keybinding-context="121" data-mode-id="notebook-python" style="height: 523px; --vscode-editorCodeLens-lineHeight: 16px; --vscode-editorCodeLens-fontSize: 12px; --vscode-editorCodeLens-fontFeatureSettings: &quot;liga&quot; off, &quot;calt&quot; off;"><div class="monaco-editor no-user-select  showUnused showDeprecated vs-dark" role="code" style="width: 1152px; height: 523px;" data-uri="inmemory://model/19"><div data-mprt="3" class="overflow-guard" style="width: 1152px; height: 523px; overflow: clip;"><div class="margin" style="position: absolute; contain: strict; will-change: unset; top: 0px; height: 523px; width: 6px;" role="presentation" aria-hidden="true"><div class="glyph-margin" style="left: 0px; width: 0px; height: 523px;"></div><div class="margin-view-zones" style="position: absolute;" role="presentation" aria-hidden="true"></div><div class="margin-view-overlays" style="position: absolute; font-family: monospace, Consolas, &quot;Courier New&quot;, monospace; font-weight: normal; font-size: 14px; font-feature-settings: &quot;liga&quot; 0, &quot;calt&quot; 0; font-variation-settings: normal; line-height: 19px; letter-spacing: 0px; width: 6px; height: 523px;" role="presentation" aria-hidden="true"><div style="position:absolute;top:0px;width:100%;height:19px;"></div><div style="position:absolute;top:19px;width:100%;height:19px;"></div><div style="position:absolute;top:38px;width:100%;height:19px;"></div><div style="position:absolute;top:57px;width:100%;height:19px;"></div><div style="position:absolute;top:76px;width:100%;height:19px;"></div><div style="position:absolute;top:95px;width:100%;height:19px;"></div><div style="position:absolute;top:114px;width:100%;height:19px;"><div class="current-line current-line-margin-both" style="width:6px; height:19px;"></div></div><div style="position:absolute;top:133px;width:100%;height:19px;"></div><div style="position:absolute;top:152px;width:100%;height:19px;"></div><div style="position:absolute;top:171px;width:100%;height:19px;"></div><div style="position:absolute;top:190px;width:100%;height:19px;"></div><div style="position:absolute;top:209px;width:100%;height:19px;"></div><div style="position:absolute;top:228px;width:100%;height:19px;"></div><div style="position:absolute;top:247px;width:100%;height:19px;"></div><div style="position:absolute;top:266px;width:100%;height:19px;"></div><div style="position:absolute;top:285px;width:100%;height:19px;"></div><div style="position:absolute;top:304px;width:100%;height:19px;"></div><div style="position:absolute;top:323px;width:100%;height:19px;"></div><div style="position:absolute;top:342px;width:100%;height:19px;"></div><div style="position:absolute;top:361px;width:100%;height:19px;"></div><div style="position:absolute;top:380px;width:100%;height:19px;"></div><div style="position:absolute;top:399px;width:100%;height:19px;"></div><div style="position:absolute;top:418px;width:100%;height:19px;"></div><div style="position:absolute;top:437px;width:100%;height:19px;"></div><div style="position:absolute;top:456px;width:100%;height:19px;"></div><div style="position:absolute;top:475px;width:100%;height:19px;"></div><div style="position:absolute;top:494px;width:100%;height:19px;"></div></div><div class="glyph-margin-widgets" style="position: absolute; top: 0px;"></div></div><div class="monaco-scrollable-element editor-scrollable vs-dark" role="presentation" style="position: absolute; overflow: hidden; left: 6px; width: 1146px; height: 523px;" data-mprt="5"><div class="lines-content monaco-editor-background" style="position: absolute; overflow: hidden; width: 1000000px; height: 523px; contain: strict; will-change: unset; top: 0px; left: 0px;"><div class="view-overlays" style="position: absolute; font-family: monospace, Consolas, &quot;Courier New&quot;, monospace; font-weight: normal; font-size: 14px; font-feature-settings: &quot;liga&quot; 0, &quot;calt&quot; 0; font-variation-settings: normal; line-height: 19px; letter-spacing: 0px; height: 0px; width: 1146px;" role="presentation" aria-hidden="true"><div style="position:absolute;top:0px;width:100%;height:19px;"></div><div style="position:absolute;top:19px;width:100%;height:19px;"></div><div style="position:absolute;top:38px;width:100%;height:19px;"></div><div style="position:absolute;top:57px;width:100%;height:19px;"></div><div style="position:absolute;top:76px;width:100%;height:19px;"></div><div style="position:absolute;top:95px;width:100%;height:19px;"></div><div style="position:absolute;top:114px;width:100%;height:19px;"><div class="current-line" style="width:1146px; height:19px;"></div></div><div style="position:absolute;top:133px;width:100%;height:19px;"></div><div style="position:absolute;top:152px;width:100%;height:19px;"></div><div style="position:absolute;top:171px;width:100%;height:19px;"></div><div style="position:absolute;top:190px;width:100%;height:19px;"></div><div style="position:absolute;top:209px;width:100%;height:19px;"></div><div style="position:absolute;top:228px;width:100%;height:19px;"></div><div style="position:absolute;top:247px;width:100%;height:19px;"></div><div style="position:absolute;top:266px;width:100%;height:19px;"></div><div style="position:absolute;top:285px;width:100%;height:19px;"></div><div style="position:absolute;top:304px;width:100%;height:19px;"></div><div style="position:absolute;top:323px;width:100%;height:19px;"></div><div style="position:absolute;top:342px;width:100%;height:19px;"></div><div style="position:absolute;top:361px;width:100%;height:19px;"></div><div style="position:absolute;top:380px;width:100%;height:19px;"></div><div style="position:absolute;top:399px;width:100%;height:19px;"></div><div style="position:absolute;top:418px;width:100%;height:19px;"></div><div style="position:absolute;top:437px;width:100%;height:19px;"></div><div style="position:absolute;top:456px;width:100%;height:19px;"></div><div style="position:absolute;top:475px;width:100%;height:19px;"></div><div style="position:absolute;top:494px;width:100%;height:19px;"></div></div><div role="presentation" aria-hidden="true" class="view-rulers"></div><div class="view-zones" style="position: absolute;" role="presentation" aria-hidden="true"></div><div class="view-lines monaco-mouse-cursor-text" style="position: absolute; font-family: monospace, Consolas, &quot;Courier New&quot;, monospace; font-weight: normal; font-size: 14px; font-feature-settings: &quot;liga&quot; 0, &quot;calt&quot; 0; font-variation-settings: normal; line-height: 19px; letter-spacing: 0px; width: 1146px; height: 523px;" role="presentation" aria-hidden="true" data-mprt="7"><div style="top:0px;height:19px;" class="view-line"><span><span class="mtk1">people&nbsp;=&nbsp;</span><span class="mtk12 bracket-highlighting-0">[</span></span></div><div style="top:19px;height:19px;" class="view-line"><span><span class="mtk1">&nbsp;&nbsp;&nbsp;&nbsp;</span><span class="mtk12 bracket-highlighting-1">{</span></span></div><div style="top:38px;height:19px;" class="view-line"><span><span class="mtk1">&nbsp;&nbsp;&nbsp;&nbsp;&nbsp;&nbsp;&nbsp;&nbsp;</span><span class="mtk5">"name"</span><span class="mtk12">:</span><span class="mtk1">&nbsp;</span><span class="mtk5">"Juan"</span><span class="mtk12">,</span></span></div><div style="top:57px;height:19px;" class="view-line"><span><span class="mtk1">&nbsp;&nbsp;&nbsp;&nbsp;&nbsp;&nbsp;&nbsp;&nbsp;</span><span class="mtk5">"age"</span><span class="mtk12">:</span><span class="mtk1">&nbsp;</span><span class="mtk6">34</span><span class="mtk12">,</span></span></div><div style="top:76px;height:19px;" class="view-line"><span><span class="mtk1">&nbsp;&nbsp;&nbsp;&nbsp;&nbsp;&nbsp;&nbsp;&nbsp;</span><span class="mtk5">"n_kids"</span><span class="mtk12">:</span><span class="mtk1">&nbsp;</span><span class="mtk6">2</span></span></div><div style="top:95px;height:19px;" class="view-line"><span><span class="mtk1">&nbsp;&nbsp;&nbsp;&nbsp;</span><span class="mtk12 bracket-highlighting-1">}</span><span class="mtk12">,</span></span></div><div style="top:114px;height:19px;" class="view-line"><span><span class="mtk1">&nbsp;&nbsp;&nbsp;&nbsp;</span><span class="mtk12 bracket-highlighting-1">{</span></span></div><div style="top:133px;height:19px;" class="view-line"><span><span class="mtk1">&nbsp;&nbsp;&nbsp;&nbsp;&nbsp;&nbsp;&nbsp;&nbsp;</span><span class="mtk5">"name"</span><span class="mtk12">:</span><span class="mtk1">&nbsp;</span><span class="mtk5">"Pepe"</span><span class="mtk12">,</span></span></div><div style="top:152px;height:19px;" class="view-line"><span><span class="mtk1">&nbsp;&nbsp;&nbsp;&nbsp;&nbsp;&nbsp;&nbsp;&nbsp;</span><span class="mtk5">"age"</span><span class="mtk12">:</span><span class="mtk1">&nbsp;</span><span class="mtk6">27</span><span class="mtk12">,</span></span></div><div style="top:171px;height:19px;" class="view-line"><span><span class="mtk1">&nbsp;&nbsp;&nbsp;&nbsp;&nbsp;&nbsp;&nbsp;&nbsp;</span><span class="mtk5">"n_kids"</span><span class="mtk12">:</span><span class="mtk1">&nbsp;</span><span class="mtk6">0</span></span></div><div style="top:190px;height:19px;" class="view-line"><span><span class="mtk1">&nbsp;&nbsp;&nbsp;&nbsp;</span><span class="mtk12 bracket-highlighting-1">}</span><span class="mtk12">,</span></span></div><div style="top:209px;height:19px;" class="view-line"><span><span class="mtk1">&nbsp;&nbsp;&nbsp;&nbsp;</span><span class="mtk12 bracket-highlighting-1">{</span></span></div><div style="top:228px;height:19px;" class="view-line"><span><span class="mtk1">&nbsp;&nbsp;&nbsp;&nbsp;&nbsp;&nbsp;&nbsp;&nbsp;</span><span class="mtk5">"name"</span><span class="mtk12">:</span><span class="mtk1">&nbsp;</span><span class="mtk5">"Sonia"</span><span class="mtk12">,</span></span></div><div style="top:247px;height:19px;" class="view-line"><span><span class="mtk1">&nbsp;&nbsp;&nbsp;&nbsp;&nbsp;&nbsp;&nbsp;&nbsp;</span><span class="mtk5">"age"</span><span class="mtk12">:</span><span class="mtk1">&nbsp;</span><span class="mtk6">41</span><span class="mtk12">,</span></span></div><div style="top:266px;height:19px;" class="view-line"><span><span class="mtk1">&nbsp;&nbsp;&nbsp;&nbsp;&nbsp;&nbsp;&nbsp;&nbsp;</span><span class="mtk5">"n_kids"</span><span class="mtk12">:</span><span class="mtk1">&nbsp;</span><span class="mtk6">1</span></span></div><div style="top:285px;height:19px;" class="view-line"><span><span class="mtk1">&nbsp;&nbsp;&nbsp;&nbsp;</span><span class="mtk12 bracket-highlighting-1">}</span><span class="mtk12">,</span></span></div><div style="top:304px;height:19px;" class="view-line"><span><span class="mtk1">&nbsp;&nbsp;&nbsp;&nbsp;</span><span class="mtk12 bracket-highlighting-1">{</span></span></div><div style="top:323px;height:19px;" class="view-line"><span><span class="mtk1">&nbsp;&nbsp;&nbsp;&nbsp;&nbsp;&nbsp;&nbsp;&nbsp;</span><span class="mtk5">"name"</span><span class="mtk12">:</span><span class="mtk1">&nbsp;</span><span class="mtk5">"Lucía"</span><span class="mtk12">,</span></span></div><div style="top:342px;height:19px;" class="view-line"><span><span class="mtk1">&nbsp;&nbsp;&nbsp;&nbsp;&nbsp;&nbsp;&nbsp;&nbsp;</span><span class="mtk5">"age"</span><span class="mtk12">:</span><span class="mtk1">&nbsp;</span><span class="mtk6">22</span><span class="mtk12">,</span></span></div><div style="top:361px;height:19px;" class="view-line"><span><span class="mtk1">&nbsp;&nbsp;&nbsp;&nbsp;&nbsp;&nbsp;&nbsp;&nbsp;</span><span class="mtk5">"n_kids"</span><span class="mtk12">:</span><span class="mtk1">&nbsp;</span><span class="mtk6">2</span></span></div><div style="top:380px;height:19px;" class="view-line"><span><span class="mtk1">&nbsp;&nbsp;&nbsp;&nbsp;</span><span class="mtk12 bracket-highlighting-1">}</span><span class="mtk12">,</span></span></div><div style="top:399px;height:19px;" class="view-line"><span><span class="mtk1">&nbsp;&nbsp;&nbsp;&nbsp;</span><span class="mtk12 bracket-highlighting-1">{</span></span></div><div style="top:418px;height:19px;" class="view-line"><span><span class="mtk1">&nbsp;&nbsp;&nbsp;&nbsp;&nbsp;&nbsp;&nbsp;&nbsp;</span><span class="mtk5">"name"</span><span class="mtk12">:</span><span class="mtk1">&nbsp;</span><span class="mtk5">"Leo"</span><span class="mtk12">,</span></span></div><div style="top:437px;height:19px;" class="view-line"><span><span class="mtk1">&nbsp;&nbsp;&nbsp;&nbsp;&nbsp;&nbsp;&nbsp;&nbsp;</span><span class="mtk5">"age"</span><span class="mtk12">:</span><span class="mtk1">&nbsp;</span><span class="mtk6">55</span><span class="mtk12">,</span></span></div><div style="top:456px;height:19px;" class="view-line"><span><span class="mtk1">&nbsp;&nbsp;&nbsp;&nbsp;&nbsp;&nbsp;&nbsp;&nbsp;</span><span class="mtk5">"n_kids"</span><span class="mtk12">:</span><span class="mtk1">&nbsp;</span><span class="mtk6">5</span></span></div><div style="top:475px;height:19px;" class="view-line"><span><span class="mtk1">&nbsp;&nbsp;&nbsp;&nbsp;</span><span class="mtk12 bracket-highlighting-1">}</span></span></div><div style="top:494px;height:19px;" class="view-line"><span><span class="mtk12 bracket-highlighting-0">]</span></span></div></div><div data-mprt="1" class="contentWidgets" style="position: absolute; top: 0px;"><div class="lightBulbWidget codicon codicon-light-bulb" style="position: absolute; display: none; visibility: hidden; max-width: 1146px;" widgetid="LightBulbWidget" title="Show Code Actions (Ctrl+.)"></div></div><div role="presentation" aria-hidden="true" class="cursors-layer cursor-line-style cursor-solid"><div class="cursor monaco-mouse-cursor-text " style="height: 19px; top: 114px; left: 37px; font-family: monospace, Consolas, &quot;Courier New&quot;, monospace; font-weight: normal; font-size: 14px; font-feature-settings: &quot;liga&quot; 0, &quot;calt&quot; 0; font-variation-settings: normal; line-height: 19px; letter-spacing: 0px; display: block; visibility: hidden; padding-left: 1px; width: 2px;"></div></div></div><div role="presentation" aria-hidden="true" class="invisible scrollbar horizontal" style="position: absolute; width: 1132px; height: 10px; left: 0px; bottom: 0px;"><div class="slider" style="position: absolute; top: 0px; left: 0px; height: 10px; transform: translate3d(0px, 0px, 0px); contain: strict; will-change: unset; width: 1132px;"></div></div><canvas class="decorationsOverviewRuler" style="position: absolute; transform: translate3d(0px, 0px, 0px); contain: strict; top: 0px; right: 0px; width: 14px; height: 523px; will-change: unset; display: block;" aria-hidden="true" width="21" height="784"></canvas><div role="presentation" aria-hidden="true" class="invisible scrollbar vertical" style="position: absolute; width: 14px; height: 523px; right: 0px; top: 0px;"><div class="slider" style="position: absolute; top: 0px; left: 0px; width: 14px; transform: translate3d(0px, 0px, 0px); contain: strict; will-change: unset; height: 523px;"></div></div></div><div role="presentation" aria-hidden="true" style="width: 1152px;"></div><textarea data-mprt="6" class="inputarea monaco-mouse-cursor-text" wrap="on" style="tab-size: 15.3984px; font-family: monospace, Consolas, &quot;Courier New&quot;, monospace; font-weight: normal; font-size: 14px; font-feature-settings: &quot;liga&quot; 0, &quot;calt&quot; 0; font-variation-settings: normal; line-height: 19px; letter-spacing: 0px; top: 114px; left: 6px; width: 76992px; height: 0px;" autocorrect="off" autocapitalize="none" autocomplete="off" spellcheck="false" aria-label="Editor content;Press Alt+F1 for Accessibility Options." tabindex="0" role="textbox" aria-roledescription="editor" aria-multiline="true" aria-haspopup="false" aria-autocomplete="both">people = [
    {
        "name": "Juan",
        "age": 34,
        "n_kids": 2
    },
    {
        "name": "Pepe",
        "age": 27,
        "n_kids": 0
</textarea><div style="position: absolute; top: 0px; left: 0px; width: 0px; height: 0px;" class="monaco-editor-background textAreaCover"></div><div data-mprt="4" class="overlayWidgets" style="width: 1152px;"></div><div data-mprt="8" class="minimap slider-mouseover" style="position: absolute; left: 0px; width: 0px; height: 523px;" role="presentation" aria-hidden="true"><div class="minimap-shadow-hidden" style="height: 523px;"></div><canvas style="position: absolute; left: 0px; width: 0px; height: 523px;" width="0" height="784"></canvas><canvas style="position: absolute; left: 0px; width: 0px; height: 523px;" class="minimap-decorations-layer" width="0" height="784"></canvas><div style="position: absolute; transform: translate3d(0px, 0px, 0px); contain: strict; width: 0px; will-change: unset;" class="minimap-slider"><div style="position: absolute; width: 0px; height: 0px;" class="minimap-slider-horizontal"></div></div></div><div role="presentation" aria-hidden="true" class="blockDecorations-container"></div></div><div data-mprt="2" class="overflowingContentWidgets" style="display: none;"></div><div class=".in-cell-overflowing"><div style="position: absolute; top: 0px; right: 50%;" widgetid="editor.contrib.quickInputWidget"></div></div></div></div></div><colab-form class="formview vertical layout flex"><div class="widget-area vertical layout"></div></colab-form></div>
    <div class="output" aria-label="Cell 16 output" role="region"><!----> <div class="output-header"> </div>
        <div class="output-content" hidden="">
          <div class="output-info"><colab-output-info></colab-output-info></div>
          <div class="output-iframe-container" hidden="">
            <div class="output-iframe-sizer" style="min-height: 0px;"> <div><div><colab-static-output-renderer tabindex="0" role="group"><div></div><div></div></colab-static-output-renderer></div></div><div><div></div></div></div>
          </div>
        </div></div></div><colab-cell-next-steps></colab-cell-next-steps></div></div><div class="add-cell">
      <div class="add-cell-buttons">
        <md-outlined-button class="add-code add-button" data-aria-label="Add code cell
Ctrl+M B" title="Add code cell
Ctrl+M B" value="" has-icon="">
          <md-icon slot="icon" aria-hidden="true">add</md-icon>
          <!--?lit$935373052$-->Code
        </md-outlined-button>
        <md-outlined-button class="add-text add-button" data-aria-label="Add text cell" title="Add text cell" value="" has-icon="">
          <md-icon slot="icon" aria-hidden="true">add</md-icon>
          <!--?lit$935373052$-->Text
        </md-outlined-button>
        <!--?lit$935373052$-->
      </div><hr>
    </div></div><div class="cell text" id="cell-WTuNJALc2NDc" tabindex="-1" role="region" aria-label="Cell 17: Text cell: " style=""><div class="agent-focus-label">
      <md-icon aria-hidden="true">spark</md-icon>
      <!--?lit$935373052$-->Gemini
    </div><div class="cell-tag-editor sticky"></div><div class="cell-toolbar sticky"></div><div class="main-content" elevation="0"><div class="cell-contents"><div class="cell-mask"></div><span class="imported-info-area"></span><!----> <div class="toolbar-root"></div>
      <div class="editor-container horizontal">
        <div class="editor-root"></div>
        <div class="text-top-div">
          <div class="markdown"><span><p><strong>How many people are there?</strong></p>
</span></div>
        </div>
      </div>

      <div class="section-header" style="display: none;">
        <colab-run-button></colab-run-button>
        <div class="section-header-container" title="click to expand">
          <md-icon aria-hidden="true">subdirectory_arrow_right</md-icon>
          <span>0 cells hidden</span>
        </div>
      </div></div></div><div class="add-cell">
      <div class="add-cell-buttons">
        <md-outlined-button class="add-code add-button" data-aria-label="Add code cell
Ctrl+M B" title="Add code cell
Ctrl+M B" value="" has-icon="">
          <md-icon slot="icon" aria-hidden="true">add</md-icon>
          <!--?lit$935373052$-->Code
        </md-outlined-button>
        <md-outlined-button class="add-text add-button" data-aria-label="Add text cell" title="Add text cell" value="" has-icon="">
          <md-icon slot="icon" aria-hidden="true">add</md-icon>
          <!--?lit$935373052$-->Text
        </md-outlined-button>
        <!--?lit$935373052$-->
      </div><hr>
    </div></div><div class="cell code icon-scrolling code-has-output" id="cell-n4P0riN62NDd" tabindex="-1" role="region" aria-label="Cell 18: Code cell: " style=""><div class="agent-focus-label">
      <md-icon aria-hidden="true">spark</md-icon>
      <!--?lit$935373052$-->Gemini
    </div><div class="cell-tag-editor sticky"></div><div class="cell-toolbar sticky"></div><div class="main-content" elevation="0"><div class="cell-contents"><div class="cell-mask"></div><span class="imported-info-area"></span><div class="codecell-input-output">
      <div class="inputarea horizontal layout code">
        <div class="cell-gutter">
          <!-- Bounding range for vertical scrolling of icons -->
          <div class="cell-execution-container">
            <colab-run-button></colab-run-button>
          </div>
        </div>
      <div class="editor flex lazy-editor" style=""><pre class="lazy-virtualized lazy-virtualized-unstyled-scrollbars" style="font-size: 14px; line-height: 19px;"><pre class="lazy-gutter"></pre><pre class="monaco-colorized colab-dark colab-dark colab-dark colab-dark colab-dark colab-dark colab-dark colab-dark colab-dark colab-dark colab-dark colab-dark colab-dark colab-dark colab-dark colab-dark colab-dark colab-dark colab-dark colab-dark colab-dark colab-dark" data-lang="notebook-python"><span><span class="mtk8">#&nbsp;your&nbsp;code&nbsp;here</span></span><br><span><span class="mtk15">print</span><span class="mtk12">(</span><span class="mtk15">len</span><span class="mtk12">(</span><span class="mtk1">people</span><span class="mtk12">))</span></span><br></pre><colab-read-only-cell-placeholder style="display: none;"></colab-read-only-cell-placeholder></pre></div><colab-form class="formview vertical layout flex"><div class="widget-area vertical layout"></div></colab-form></div>
    <div class="output" aria-label="Cell 18 output" role="region"><!----> <div class="output-header"> </div>
        <div class="output-content">
          <div class="output-info"><colab-output-info></colab-output-info></div>
          <div class="output-iframe-container">
            <div class="output-iframe-sizer" style="min-height: 0px;"> <div><div><colab-static-output-renderer tabindex="0" role="group"><div><div class="stream output-id-1 output_text"><pre>5
</pre></div></div><div></div></colab-static-output-renderer></div></div></div>
          </div>
        </div></div></div><colab-cell-next-steps></colab-cell-next-steps></div></div><div class="add-cell">
      <div class="add-cell-buttons">
        <md-outlined-button class="add-code add-button" data-aria-label="Add code cell
Ctrl+M B" title="Add code cell
Ctrl+M B" value="" has-icon="">
          <md-icon slot="icon" aria-hidden="true">add</md-icon>
          <!--?lit$935373052$-->Code
        </md-outlined-button>
        <md-outlined-button class="add-text add-button" data-aria-label="Add text cell" title="Add text cell" value="" has-icon="">
          <md-icon slot="icon" aria-hidden="true">add</md-icon>
          <!--?lit$935373052$-->Text
        </md-outlined-button>
        <!--?lit$935373052$-->
      </div><hr>
    </div></div><div class="cell text" id="cell-8DSWeTeJ2NDd" tabindex="-1" role="region" aria-label="Cell 19: Text cell: " style=""><div class="agent-focus-label">
      <md-icon aria-hidden="true">spark</md-icon>
      <!--?lit$935373052$-->Gemini
    </div><div class="cell-tag-editor sticky"></div><div class="cell-toolbar sticky"></div><div class="main-content" elevation="0"><div class="cell-contents"><div class="cell-mask"></div><span class="imported-info-area"></span><!----> <div class="toolbar-root"></div>
      <div class="editor-container horizontal">
        <div class="editor-root"></div>
        <div class="text-top-div">
          <div class="markdown"><span><p><strong>How many people have kids</strong>?</p>
</span></div>
        </div>
      </div>

      <div class="section-header" style="display: none;">
        <colab-run-button></colab-run-button>
        <div class="section-header-container" title="click to expand">
          <md-icon aria-hidden="true">subdirectory_arrow_right</md-icon>
          <span>0 cells hidden</span>
        </div>
      </div></div></div><div class="add-cell">
      <div class="add-cell-buttons">
        <md-outlined-button class="add-code add-button" data-aria-label="Add code cell
Ctrl+M B" title="Add code cell
Ctrl+M B" value="" has-icon="">
          <md-icon slot="icon" aria-hidden="true">add</md-icon>
          <!--?lit$935373052$-->Code
        </md-outlined-button>
        <md-outlined-button class="add-text add-button" data-aria-label="Add text cell" title="Add text cell" value="" has-icon="">
          <md-icon slot="icon" aria-hidden="true">add</md-icon>
          <!--?lit$935373052$-->Text
        </md-outlined-button>
        <!--?lit$935373052$-->
      </div><hr>
    </div></div><div class="cell code icon-scrolling code-has-output" id="cell-OycdREXf2NDe" tabindex="-1" role="region" aria-label="Cell 20: Code cell: " style=""><div class="agent-focus-label">
      <md-icon aria-hidden="true">spark</md-icon>
      <!--?lit$935373052$-->Gemini
    </div><div class="cell-tag-editor sticky"></div><div class="cell-toolbar sticky"></div><div class="main-content" elevation="0"><div class="cell-contents"><div class="cell-mask"></div><span class="imported-info-area"></span><div class="codecell-input-output">
      <div class="inputarea horizontal layout code">
        <div class="cell-gutter">
          <!-- Bounding range for vertical scrolling of icons -->
          <div class="cell-execution-container">
            <colab-run-button></colab-run-button>
          </div>
        </div>
      <div class="editor flex lazy-editor" style=""><pre class="lazy-virtualized lazy-virtualized-unstyled-scrollbars" style="font-size: 14px; line-height: 19px;"><pre class="lazy-gutter"></pre><pre class="monaco-colorized colab-dark colab-dark colab-dark colab-dark colab-dark colab-dark colab-dark colab-dark colab-dark colab-dark colab-dark colab-dark colab-dark colab-dark colab-dark colab-dark colab-dark colab-dark colab-dark" data-lang="notebook-python"><span><span class="mtk8">#&nbsp;your&nbsp;code&nbsp;here</span></span><br><span><span class="mtk1">count&nbsp;=&nbsp;</span><span class="mtk6">0</span></span><br><span><span class="mtk18">for</span><span class="mtk1">&nbsp;i&nbsp;</span><span class="mtk17">in</span><span class="mtk1">&nbsp;people</span><span class="mtk12">:</span></span><br><span><span class="mtk1">&nbsp;&nbsp;</span><span class="mtk18">if</span><span class="mtk1">&nbsp;i</span><span class="mtk12">[</span><span class="mtk5">'n_kids'</span><span class="mtk12">]</span><span class="mtk1">&nbsp;&gt;&nbsp;</span><span class="mtk6">0</span><span class="mtk12">:</span></span><br><span><span class="mtk1">&nbsp;&nbsp;&nbsp;&nbsp;count&nbsp;+=&nbsp;</span><span class="mtk6">1</span></span><br><span><span class="mtk15">print</span><span class="mtk12">(</span><span class="mtk1">count</span><span class="mtk12">)</span></span><br></pre><colab-read-only-cell-placeholder style="display: none;"></colab-read-only-cell-placeholder></pre></div><colab-form class="formview vertical layout flex"><div class="widget-area vertical layout"></div></colab-form></div>
    <div class="output" aria-label="Cell 20 output" role="region"><!----> <div class="output-header"> </div>
        <div class="output-content">
          <div class="output-info"><colab-output-info></colab-output-info></div>
          <div class="output-iframe-container">
            <div class="output-iframe-sizer" style="min-height: 0px;"> <div><div><colab-static-output-renderer tabindex="0" role="group"><div><div class="stream output-id-1 output_text"><pre>4
</pre></div></div><div></div></colab-static-output-renderer></div></div><div><div></div></div></div>
          </div>
        </div></div></div><colab-cell-next-steps></colab-cell-next-steps></div></div><div class="add-cell">
      <div class="add-cell-buttons">
        <md-outlined-button class="add-code add-button" data-aria-label="Add code cell
Ctrl+M B" title="Add code cell
Ctrl+M B" value="" has-icon="">
          <md-icon slot="icon" aria-hidden="true">add</md-icon>
          <!--?lit$935373052$-->Code
        </md-outlined-button>
        <md-outlined-button class="add-text add-button" data-aria-label="Add text cell" title="Add text cell" value="" has-icon="">
          <md-icon slot="icon" aria-hidden="true">add</md-icon>
          <!--?lit$935373052$-->Text
        </md-outlined-button>
        <!--?lit$935373052$-->
      </div><hr>
    </div></div><div class="cell text" id="cell-8udMRV762NDe" tabindex="-1" role="region" aria-label="Cell 21: Text cell: " style=""><div class="agent-focus-label">
      <md-icon aria-hidden="true">spark</md-icon>
      <!--?lit$935373052$-->Gemini
    </div><div class="cell-tag-editor sticky"></div><div class="cell-toolbar sticky"></div><div class="main-content" elevation="0"><div class="cell-contents"><div class="cell-mask"></div><span class="imported-info-area"></span><!----> <div class="toolbar-root"></div>
      <div class="editor-container horizontal">
        <div class="editor-root"></div>
        <div class="text-top-div">
          <div class="markdown"><span><p><strong>How many kids do they have in total?</strong></p>
</span></div>
        </div>
      </div>

      <div class="section-header" style="display: none;">
        <colab-run-button></colab-run-button>
        <div class="section-header-container" title="click to expand">
          <md-icon aria-hidden="true">subdirectory_arrow_right</md-icon>
          <span>0 cells hidden</span>
        </div>
      </div></div></div><div class="add-cell">
      <div class="add-cell-buttons">
        <md-outlined-button class="add-code add-button" data-aria-label="Add code cell
Ctrl+M B" title="Add code cell
Ctrl+M B" value="" has-icon="">
          <md-icon slot="icon" aria-hidden="true">add</md-icon>
          <!--?lit$935373052$-->Code
        </md-outlined-button>
        <md-outlined-button class="add-text add-button" data-aria-label="Add text cell" title="Add text cell" value="" has-icon="">
          <md-icon slot="icon" aria-hidden="true">add</md-icon>
          <!--?lit$935373052$-->Text
        </md-outlined-button>
        <!--?lit$935373052$-->
      </div><hr>
    </div></div><div class="cell code icon-scrolling code-has-output" id="cell-YF2Ftyk32NDe" tabindex="-1" role="region" aria-label="Cell 22: Code cell: " style=""><div class="agent-focus-label">
      <md-icon aria-hidden="true">spark</md-icon>
      <!--?lit$935373052$-->Gemini
    </div><div class="cell-tag-editor sticky"></div><div class="cell-toolbar sticky"></div><div class="main-content" elevation="0"><div class="cell-contents"><div class="cell-mask"></div><span class="imported-info-area"></span><div class="codecell-input-output">
      <div class="inputarea horizontal layout code">
        <div class="cell-gutter">
          <!-- Bounding range for vertical scrolling of icons -->
          <div class="cell-execution-container">
            <colab-run-button></colab-run-button>
          </div>
        </div>
      <div class="editor flex lazy-editor" style=""><pre class="lazy-virtualized lazy-virtualized-unstyled-scrollbars" style="font-size: 14px; line-height: 19px;"><pre class="lazy-gutter"></pre><pre class="monaco-colorized colab-dark colab-dark colab-dark colab-dark colab-dark colab-dark colab-dark colab-dark colab-dark colab-dark colab-dark colab-dark colab-dark colab-dark colab-dark colab-dark colab-dark" data-lang="notebook-python"><span><span class="mtk8">#&nbsp;your&nbsp;code&nbsp;here</span></span><br><span><span class="mtk1">count&nbsp;=&nbsp;</span><span class="mtk6">0</span></span><br><span><span class="mtk18">for</span><span class="mtk1">&nbsp;i&nbsp;</span><span class="mtk17">in</span><span class="mtk1">&nbsp;people</span><span class="mtk12">:</span></span><br><span><span class="mtk1">&nbsp;&nbsp;count&nbsp;+=&nbsp;i</span><span class="mtk12">[</span><span class="mtk5">'n_kids'</span><span class="mtk12">]</span></span><br><span><span class="mtk15">print</span><span class="mtk12">(</span><span class="mtk1">count</span><span class="mtk12">)</span></span><br></pre><colab-read-only-cell-placeholder style="display: none;"></colab-read-only-cell-placeholder></pre></div><colab-form class="formview vertical layout flex"><div class="widget-area vertical layout"></div></colab-form></div>
    <div class="output" aria-label="Cell 22 output" role="region"><!----> <div class="output-header"> </div>
        <div class="output-content">
          <div class="output-info"><colab-output-info></colab-output-info></div>
          <div class="output-iframe-container">
            <div class="output-iframe-sizer" style="min-height: 0px;"> <div><div><colab-static-output-renderer tabindex="0" role="group"><div><div class="stream output-id-1 output_text"><pre>10
</pre></div></div><div></div></colab-static-output-renderer></div></div></div>
          </div>
        </div></div></div><colab-cell-next-steps></colab-cell-next-steps></div></div><div class="add-cell">
      <div class="add-cell-buttons">
        <md-outlined-button class="add-code add-button" data-aria-label="Add code cell
Ctrl+M B" title="Add code cell
Ctrl+M B" value="" has-icon="">
          <md-icon slot="icon" aria-hidden="true">add</md-icon>
          <!--?lit$935373052$-->Code
        </md-outlined-button>
        <md-outlined-button class="add-text add-button" data-aria-label="Add text cell" title="Add text cell" value="" has-icon="">
          <md-icon slot="icon" aria-hidden="true">add</md-icon>
          <!--?lit$935373052$-->Text
        </md-outlined-button>
        <!--?lit$935373052$-->
      </div><hr>
    </div></div><div class="cell text" id="cell-a6Yhy_is2NDe" tabindex="-1" role="region" aria-label="Cell 23: Text cell: " style=""><div class="agent-focus-label">
      <md-icon aria-hidden="true">spark</md-icon>
      <!--?lit$935373052$-->Gemini
    </div><div class="cell-tag-editor sticky"></div><div class="cell-toolbar sticky"></div><div class="main-content" elevation="0"><div class="cell-contents"><div class="cell-mask"></div><span class="imported-info-area"></span><!----> <div class="toolbar-root"></div>
      <div class="editor-container horizontal">
        <div class="editor-root"></div>
        <div class="text-top-div">
          <div class="markdown"><span><p><strong>In a year's time, names
 ending with "a" will have an extra kid. Create a list of dictionaries 
with people's info in a year's time</strong></p>
</span></div>
        </div>
      </div>

      <div class="section-header" style="display: none;">
        <colab-run-button></colab-run-button>
        <div class="section-header-container" title="click to expand">
          <md-icon aria-hidden="true">subdirectory_arrow_right</md-icon>
          <span>0 cells hidden</span>
        </div>
      </div></div></div><div class="add-cell">
      <div class="add-cell-buttons">
        <md-outlined-button class="add-code add-button" data-aria-label="Add code cell
Ctrl+M B" title="Add code cell
Ctrl+M B" value="" has-icon="">
          <md-icon slot="icon" aria-hidden="true">add</md-icon>
          <!--?lit$935373052$-->Code
        </md-outlined-button>
        <md-outlined-button class="add-text add-button" data-aria-label="Add text cell" title="Add text cell" value="" has-icon="">
          <md-icon slot="icon" aria-hidden="true">add</md-icon>
          <!--?lit$935373052$-->Text
        </md-outlined-button>
        <!--?lit$935373052$-->
      </div><hr>
    </div></div><div class="cell code icon-scrolling code-has-output" id="cell-pGyCFawb596K" tabindex="-1" role="region" aria-label="Cell 24: Code cell: " style="opacity: 1;"><div class="agent-focus-label">
      <md-icon aria-hidden="true">spark</md-icon>
      <!--?lit$935373052$-->Gemini
    </div><div class="cell-tag-editor sticky"></div><div class="cell-toolbar sticky"></div><div class="main-content" elevation="0"><div class="cell-contents"><div class="cell-mask"></div><span class="imported-info-area"></span><div class="codecell-input-output">
      <div class="inputarea horizontal layout code">
        <div class="cell-gutter">
          <!-- Bounding range for vertical scrolling of icons -->
          <div class="cell-execution-container">
            <colab-run-button></colab-run-button>
          </div>
        </div>
      <div class="editor flex lazy-editor" style=""><div class="editor flex monaco" data-keybinding-context="106" data-mode-id="notebook-python" style="height: 143px; --vscode-editorCodeLens-lineHeight: 16px; --vscode-editorCodeLens-fontSize: 12px; --vscode-editorCodeLens-fontFeatureSettings: &quot;liga&quot; off, &quot;calt&quot; off;"><div class="monaco-editor no-user-select  showUnused showDeprecated vs-dark" role="code" style="width: 1152px; height: 143px;" data-uri="inmemory://model/35"><div data-mprt="3" class="overflow-guard" style="width: 1152px; height: 143px; overflow: clip;"><div class="margin" style="position: absolute; contain: strict; will-change: unset; top: 0px; height: 143px; width: 6px;" role="presentation" aria-hidden="true"><div class="glyph-margin" style="left: 0px; width: 0px; height: 143px;"></div><div class="margin-view-zones" style="position: absolute; width: 6px;" role="presentation" aria-hidden="true"></div><div class="margin-view-overlays" style="position: absolute; font-family: monospace, Consolas, &quot;Courier New&quot;, monospace; font-weight: normal; font-size: 14px; font-feature-settings: &quot;liga&quot; 0, &quot;calt&quot; 0; font-variation-settings: normal; line-height: 19px; letter-spacing: 0px; width: 6px; height: 143px;" role="presentation" aria-hidden="true"><div style="position:absolute;top:0px;width:100%;height:19px;"></div><div style="position: absolute; top: 38px; width: 100%; height: 19px;"></div><div style="position: absolute; top: 57px; width: 100%; height: 19px;"></div><div style="position: absolute; top: 95px; width: 100%; height: 19px;"></div><div style="position: absolute; top: 76px; width: 100%; height: 19px;"></div><div style="position:absolute;top:19px;width:100%;height:19px;"><div class="current-line current-line-margin-both" style="width:6px; height:19px;"></div></div><div style="position:absolute;top:114px;width:100%;height:19px;"></div></div><div class="glyph-margin-widgets" style="position: absolute; top: 0px;"></div></div><div class="monaco-scrollable-element editor-scrollable vs-dark" role="presentation" style="position: absolute; overflow: hidden; left: 6px; width: 1146px; height: 143px;" data-mprt="5"><div class="lines-content monaco-editor-background" style="position: absolute; overflow: hidden; width: 1000000px; height: 143px; contain: strict; will-change: unset; top: 0px; left: 0px;"><div class="view-overlays" style="position: absolute; font-family: monospace, Consolas, &quot;Courier New&quot;, monospace; font-weight: normal; font-size: 14px; font-feature-settings: &quot;liga&quot; 0, &quot;calt&quot; 0; font-variation-settings: normal; line-height: 19px; letter-spacing: 0px; height: 0px; width: 1146px;" role="presentation" aria-hidden="true"><div style="position:absolute;top:0px;width:100%;height:19px;"></div><div style="position: absolute; top: 38px; width: 100%; height: 19px;"></div><div style="position: absolute; top: 57px; width: 100%; height: 19px;"></div><div style="position:absolute;top:95px;width:100%;height:19px;"></div><div style="position: absolute; top: 76px; width: 100%; height: 19px;"></div><div style="position:absolute;top:19px;width:100%;height:19px;"><div class="current-line" style="width:1146px; height:19px;"></div></div><div style="position:absolute;top:114px;width:100%;height:19px;"></div></div><div role="presentation" aria-hidden="true" class="view-rulers"></div><div class="view-zones" style="position: absolute; width: 1146px;" role="presentation" aria-hidden="true"></div><div class="view-lines monaco-mouse-cursor-text" style="position: absolute; font-family: monospace, Consolas, &quot;Courier New&quot;, monospace; font-weight: normal; font-size: 14px; font-feature-settings: &quot;liga&quot; 0, &quot;calt&quot; 0; font-variation-settings: normal; line-height: 19px; letter-spacing: 0px; width: 1146px; height: 143px;" role="presentation" aria-hidden="true" data-mprt="7"><div style="top:0px;height:19px;" class="view-line"><span><span class="mtk8">#&nbsp;your&nbsp;code&nbsp;here</span></span></div><div style="top: 38px; height: 19px;" class="view-line"><span><span class="mtk18">for</span><span class="mtk1">&nbsp;i&nbsp;</span><span class="mtk17">in</span><span class="mtk1">&nbsp;people</span><span class="mtk12">:</span></span></div><div style="top: 57px; height: 19px;" class="view-line"><span><span class="mtk1">&nbsp;&nbsp;</span><span class="mtk18">if</span><span class="mtk1">&nbsp;i</span><span class="mtk12 bracket-highlighting-0">[</span><span class="mtk5">'name'</span><span class="mtk12 bracket-highlighting-0">]</span><span class="mtk12 bracket-highlighting-0">[</span><span class="mtk6">-1</span><span class="mtk12 bracket-highlighting-0">]</span><span class="mtk1">&nbsp;==&nbsp;</span><span class="mtk5">'a'</span><span class="mtk12">:</span></span></div><div style="top: 95px; height: 19px;" class="view-line"><span><span class="mtk1">&nbsp;&nbsp;&nbsp;&nbsp;</span><span class="mtk14">dict</span><span class="mtk1">.append</span><span class="mtk12 bracket-highlighting-0">(</span><span class="mtk1">i</span><span class="mtk12 bracket-highlighting-0">)</span></span></div><div style="top: 76px; height: 19px;" class="view-line"><span><span class="mtk1">&nbsp;&nbsp;&nbsp;&nbsp;i</span><span class="mtk12 bracket-highlighting-0">[</span><span class="mtk5">'n_kids'</span><span class="mtk12 bracket-highlighting-0">]</span><span class="mtk1">&nbsp;+=&nbsp;</span><span class="mtk6">1</span></span></div><div style="top:19px;height:19px;" class="view-line"><span><span class="mtk14">dict</span><span class="mtk1">&nbsp;=&nbsp;</span><span class="mtk12 bracket-highlighting-0">[</span><span class="mtk12 bracket-highlighting-0">]</span></span></div><div style="top:114px;height:19px;" class="view-line"><span><span class="mtk15">print</span><span class="mtk12 bracket-highlighting-0">(</span><span class="mtk14">dict</span><span class="mtk12 bracket-highlighting-0">)</span></span></div></div><div data-mprt="1" class="contentWidgets" style="position: absolute; top: 0px;"><div class="lightBulbWidget codicon-light-bulb codicon" style="position: absolute; display: none; visibility: hidden; max-width: 1146px; top: 76px; left: 0px;" widgetid="LightBulbWidget" title="Show Code Actions (Ctrl+.)"></div></div><div role="presentation" aria-hidden="true" class="cursors-layer cursor-line-style cursor-solid"><div class="cursor monaco-mouse-cursor-text " style="height: 19px; top: 19px; left: 0px; font-family: monospace, Consolas, &quot;Courier New&quot;, monospace; font-weight: normal; font-size: 14px; font-feature-settings: &quot;liga&quot; 0, &quot;calt&quot; 0; font-variation-settings: normal; line-height: 19px; letter-spacing: 0px; display: block; visibility: hidden; padding-left: 0px; width: 2px;"></div></div></div><div role="presentation" aria-hidden="true" class="invisible scrollbar horizontal" style="position: absolute; width: 1132px; height: 10px; left: 0px; bottom: 0px;"><div class="slider" style="position: absolute; top: 0px; left: 0px; height: 10px; transform: translate3d(0px, 0px, 0px); contain: strict; will-change: unset; width: 1132px;"></div></div><canvas class="decorationsOverviewRuler" style="position: absolute; transform: translate3d(0px, 0px, 0px); contain: strict; top: 0px; right: 0px; width: 14px; height: 143px; will-change: unset; display: block;" aria-hidden="true" width="21" height="214"></canvas><div role="presentation" aria-hidden="true" class="invisible scrollbar vertical" style="position: absolute; width: 14px; height: 143px; right: 0px; top: 0px;"><div class="slider" style="position: absolute; top: 0px; left: 0px; width: 14px; transform: translate3d(0px, 0px, 0px); contain: strict; will-change: unset; height: 143px;"></div></div></div><div role="presentation" aria-hidden="true" style="width: 1152px;"></div><textarea data-mprt="6" class="inputarea monaco-mouse-cursor-text" wrap="on" style="tab-size: 15.3984px; font-family: monospace, Consolas, &quot;Courier New&quot;, monospace; font-weight: normal; font-size: 14px; font-feature-settings: &quot;liga&quot; 0, &quot;calt&quot; 0; font-variation-settings: normal; line-height: 19px; letter-spacing: 0px; top: 19px; left: 6px; width: 76992px; height: 0px;" autocorrect="off" autocapitalize="none" autocomplete="off" spellcheck="false" aria-label="Editor content;Press Alt+F1 for Accessibility Options." tabindex="0" role="textbox" aria-roledescription="editor" aria-multiline="true" aria-haspopup="false" aria-autocomplete="both"># your code here
dict = []
for i in people:
  if i['name'][-1] == 'a':
    i['n_kids'] += 1
    dict.append(i)
print(dict)</textarea><div style="position: absolute; top: 0px; left: 0px; width: 0px; height: 0px;" class="monaco-editor-background textAreaCover"></div><div data-mprt="4" class="overlayWidgets" style="width: 1152px;"></div><div data-mprt="8" class="minimap slider-mouseover" style="position: absolute; left: 0px; width: 0px; height: 143px;" role="presentation" aria-hidden="true"><div class="minimap-shadow-hidden" style="height: 143px;"></div><canvas style="position: absolute; left: 0px; width: 0px; height: 143px;" width="0" height="214"></canvas><canvas style="position: absolute; left: 0px; width: 0px; height: 143px;" class="minimap-decorations-layer" width="0" height="214"></canvas><div style="position: absolute; transform: translate3d(0px, 0px, 0px); contain: strict; width: 0px; will-change: unset;" class="minimap-slider"><div style="position: absolute; width: 0px; height: 0px;" class="minimap-slider-horizontal"></div></div></div><div role="presentation" aria-hidden="true" class="blockDecorations-container"></div></div><div data-mprt="2" class="overflowingContentWidgets" style="display: none;"><div style="position: fixed; height: 28px; width: 348px; z-index: 50; display: none; visibility: hidden; max-width: 1280px; top: 237.4px; left: 176.667px;" widgetid="editor.contrib.resizableContentHoverWidget"><div class="monaco-sash vertical" style="left: 346px;"></div><div class="monaco-sash vertical disabled" style="left: -2px;"></div><div class="monaco-sash orthogonal-edge-north horizontal" style="top: -2px;"><div class="orthogonal-drag-handle end"></div></div><div class="monaco-sash orthogonal-edge-south horizontal disabled" style="top: 26px;"><div class="orthogonal-drag-handle end"></div></div><div class="monaco-hover hidden" tabindex="0" role="tooltip" style="width: 348px; height: 28px;"><div class="monaco-scrollable-element " role="presentation" style="position: relative; overflow: hidden;"><div class="monaco-hover-content" style="overflow: hidden; font-size: 14px; line-height: 1.35714; max-width: 760.32px; max-height: 250px; width: 348px; height: 28px;"><div class="hover-row markdown-hover"><div class="hover-contents code-hover-contents"><div class="rendered-markdown"><div data-code="id#30"><span style="font-family: monospace, Consolas, &quot;Courier New&quot;, monospace; font-weight: normal; font-size: 14px; font-feature-settings: &quot;liga&quot; 0, &quot;calt&quot; 0; font-variation-settings: normal; line-height: 19px; letter-spacing: 0px;"><div class="monaco-tokenized-source"><span class="mtk12">(</span><span class="mtk1">method</span><span class="mtk12">)</span><span class="mtk1"> append</span><span class="mtk12">:</span><span class="mtk1"> </span><span class="mtk12">(</span><span class="mtk1">__object</span><span class="mtk12">:</span><span class="mtk1"> Any</span><span class="mtk12">,</span><span class="mtk1"> /</span><span class="mtk12">)</span><span class="mtk1"> -&gt; </span><span class="mtk17">None</span></div></span></div></div></div></div></div><div role="presentation" aria-hidden="true" class="invisible scrollbar horizontal" style="position: absolute; width: 338px; height: 10px; left: 0px; bottom: 0px;"><div class="slider" style="position: absolute; top: 0px; left: 0px; height: 10px; transform: translate3d(0px, 0px, 0px); contain: strict; width: 338px;"></div></div><div role="presentation" aria-hidden="true" class="invisible scrollbar vertical" style="position: absolute; width: 10px; height: 28px; right: 0px; top: 0px;"><div class="slider" style="position: absolute; top: 0px; left: 0px; width: 10px; transform: translate3d(0px, 0px, 0px); contain: strict; height: 28px;"></div></div><div class="shadow"></div><div class="shadow"></div><div class="shadow"></div></div></div></div><div class="editor-widget parameter-hints-widget" style="user-select: text; position: fixed; display: none; visibility: hidden; max-width: 1280px; font-size: 14px; line-height: 1.35714; max-height: 250px; top: 210.4px; left: 315.667px;" widgetid="editor.widget.parameterHintsWidget"><div class="phwrapper" tabindex="-1" style="max-height: 250px;"><div class="controls"><div class="button codicon codicon-parameter-hints-previous"></div><div class="overloads">1/1</div><div class="button codicon codicon-parameter-hints-next"></div></div><div class="monaco-scrollable-element " role="presentation" style="position: relative; overflow: hidden;"><div class="body" style="overflow: hidden;"><div class="signature"><div class="code" style="font-size: 14px; font-family: monospace;"><span>(</span><span class="parameter active">__obj: Sized</span><span>, /) -&gt; int</span></div></div><div class="docs empty"></div></div><div role="presentation" aria-hidden="true" class="invisible scrollbar horizontal" style="position: absolute; width: 185px; height: 10px; left: 0px; bottom: 0px;"><div class="slider" style="position: absolute; top: 0px; left: 0px; height: 10px; transform: translate3d(0px, 0px, 0px); contain: strict; width: 185px;"></div></div><div role="presentation" aria-hidden="true" class="invisible scrollbar vertical" style="position: absolute; width: 10px; height: 27px; right: 0px; top: 0px;"><div class="slider" style="position: absolute; top: 0px; left: 0px; width: 10px; transform: translate3d(0px, 0px, 0px); contain: strict; height: 27px;"></div></div><div class="shadow"></div><div class="shadow"></div><div class="shadow"></div></div></div></div></div><div class=".in-cell-overflowing"><div style="position: absolute; top: 0px; right: 50%;" widgetid="editor.contrib.quickInputWidget"></div></div></div></div></div><colab-form class="formview vertical layout flex"><div class="widget-area vertical layout"></div></colab-form></div>
    <div class="output" aria-label="Cell 24 output" role="region"><!----> <div class="output-header"> </div>
        <div class="output-content">
          <div class="output-info"><colab-output-info></colab-output-info></div>
          <div class="output-iframe-container">
            <div class="output-iframe-sizer" style="min-height: 0px;"> <div><div><colab-static-output-renderer tabindex="0" role="group"><div><div class="stream output-id-1 output_text"><pre>[{'name': 'Sonia', 'age': 41, 'n_kids': 9}, {'name': 'Lucía', 'age': 22, 'n_kids': 8}]
</pre></div></div><div></div></colab-static-output-renderer></div></div><div><div></div></div></div>
          </div>
        </div></div></div><colab-cell-next-steps></colab-cell-next-steps></div></div><div class="add-cell">
      <div class="add-cell-buttons">
        <md-outlined-button class="add-code add-button" data-aria-label="Add code cell
Ctrl+M B" title="Add code cell
Ctrl+M B" value="" has-icon="">
          <md-icon slot="icon" aria-hidden="true">add</md-icon>
          <!--?lit$935373052$-->Code
        </md-outlined-button>
        <md-outlined-button class="add-text add-button" data-aria-label="Add text cell" title="Add text cell" value="" has-icon="">
          <md-icon slot="icon" aria-hidden="true">add</md-icon>
          <!--?lit$935373052$-->Text
        </md-outlined-button>
        <!--?lit$935373052$-->
      </div><hr>
    </div></div></div>
              </div>
            </div>
          <section class="sidebar" aria-label="Comments" style="display: none;"></section></div>
          <!--?lit$935373052$--> <div class="footer-links">
      <a target="_blank" href="https://colab.research.google.com/signup?utm_source=footer&amp;utm_medium=link&amp;utm_campaign=footer_links">
        <!--?lit$935373052$-->Colab paid products
      </a>
      -
      <a href="https://colab.research.google.com/cancel-subscription" target="_blank">
        <!--?lit$935373052$-->Cancel contracts here
      </a>
    </div>
        </div>
      </colab-shaded-scroller>
      <div class="notebook-scroll-shadow" style=""></div>
    </div></colab-tab></div>
  </div></colab-tab-pane>
      <colab-resizer style="height: 33.3%" class="sn-resize no-tabs"><div class="resizer-thumb"></div>
        <!--?lit$935373052$--><colab-tab-pane class="layout vertical grow no-tabs" align="horizontal"><!----> <div class="layout vertical grow">
    <div class="tab-pane-header layout horizontal noshrink">
      <md-tabs></md-tabs>
      <div class="layout grow"></div>
      <!--?lit$935373052$--> <md-icon-button data-aria-expanded="false" data-aria-haspopup="menu" title="More tab actions" data-aria-label="More tab actions" value="">
    <md-icon aria-hidden="true">more_horiz</md-icon>
  </md-icon-button>
    </div>
    <div class="layout vertical grow tab-pane-container"> </div>
  </div></colab-tab-pane>
      </colab-resizer>
    </div>
      <colab-resizer style="width: 37%" class="we-resize no-tabs"><div class="resizer-thumb"></div>
        <!--?lit$935373052$--> <div class="layout vertical tab-pane-parent">
      <!--?lit$935373052$--><colab-tab-pane class="layout vertical grow no-tabs" align="horizontal"><!----> <div class="layout vertical grow">
    <div class="tab-pane-header layout horizontal noshrink">
      <md-tabs></md-tabs>
      <div class="layout grow"></div>
      <!--?lit$935373052$--> <md-icon-button data-aria-expanded="false" data-aria-haspopup="menu" title="More tab actions" data-aria-label="More tab actions" value="">
    <md-icon aria-hidden="true">more_horiz</md-icon>
  </md-icon-button>
    </div>
    <div class="layout vertical grow tab-pane-container"> </div>
  </div></colab-tab-pane>
      <colab-resizer style="height: 33.3%" class="sn-resize no-tabs"><div class="resizer-thumb"></div>
        <!--?lit$935373052$--><colab-tab-pane class="layout vertical grow no-tabs" align="horizontal"><!----> <div class="layout vertical grow">
    <div class="tab-pane-header layout horizontal noshrink">
      <md-tabs></md-tabs>
      <div class="layout grow"></div>
      <!--?lit$935373052$--> <md-icon-button data-aria-expanded="false" data-aria-haspopup="menu" title="More tab actions" data-aria-label="More tab actions" value="">
    <md-icon aria-hidden="true">more_horiz</md-icon>
  </md-icon-button>
    </div>
    <div class="layout vertical grow tab-pane-container"> </div>
  </div></colab-tab-pane>
      </colab-resizer>
    </div>
      </colab-resizer>
    </div></colab-tab-layout-container>
        </div>
        <div class="proxies"><div><colab-dom-lifecycle-events style="display: none;"></colab-dom-lifecycle-events><iframe allow="" style="width: 1px; height: 1px; position: absolute; top: -100px;" src="loops_and_condition_Lab_files/outputframe.htm"></iframe></div><div><colab-dom-lifecycle-events style="display: none;"></colab-dom-lifecycle-events><iframe allow="accelerometer; autoplay; gyroscope; magnetometer; xr-spatial-tracking; clipboard-write" style="width: 1px; height: 1px; position: absolute; top: -100px;" src="loops_and_condition_Lab_files/outputframe_002.htm"></iframe></div></div>
      <colab-file-viewer-manager></colab-file-viewer-manager></div>
    <colab-status-bar role="region" aria-label="Runtime status bar" style="min-height: inherit;"></colab-status-bar></div><div class="goog-menu colab-styled-scroller" id="file-menu" style="user-select: none; max-height: 526px; visibility: visible; left: 68px; top: 62px; display: none;" role="menu" aria-haspopup="true"><!--?lit$935373052$--><div command="locate-in-drive" class=" goog-menuitem " role="menuitem" style="user-select: none;" id=":2"><div class="goog-menuitem-content"><!--?lit$935373052$-->Locate in Drive<!--?lit$935373052$--></div></div><div command="open-in-playground" class=" goog-menuitem " role="menuitem" style="user-select: none;" id=":3"><div class="goog-menuitem-content"><!--?lit$935373052$-->Open in playground mode<!--?lit$935373052$--></div></div><div class="goog-menuseparator goog-menuitem-disabled" style="user-select: none;" aria-disabled="true" role="separator" id=":4"></div><div command="new" class=" goog-menuitem " role="menuitem" style="user-select: none;" id=":5"><div class="goog-menuitem-content"><!--?lit$935373052$-->New notebook in Drive<!--?lit$935373052$--></div></div><div command="open" class=" goog-menuitem " role="menuitem" style="user-select: none;" id=":6"><div class="goog-menuitem-content"><!--?lit$935373052$-->Open notebook<!--?lit$935373052$--><span class="goog-menuitem-accel">Ctrl+O</span></div></div><div command="import-notebook" class=" goog-menuitem " role="menuitem" style="user-select: none;" id=":7"><div class="goog-menuitem-content"><!--?lit$935373052$-->Upload notebook<!--?lit$935373052$--></div></div><div class="goog-menuseparator goog-menuitem-disabled" style="user-select: none;" aria-disabled="true" role="separator" id=":8"></div><div command="rename" class=" goog-menuitem " role="menuitem" style="user-select: none;" id=":9"><div class="goog-menuitem-content"><!--?lit$935373052$-->Rename<!--?lit$935373052$--></div></div><div command="move-notebook" class=" goog-menuitem " role="menuitem" style="user-select: none;" id=":a"><div class="goog-menuitem-content"><!--?lit$935373052$-->Move<!--?lit$935373052$--></div></div><div command="trash" class=" goog-menuitem " role="menuitem" style="user-select: none;" id=":b"><div class="goog-menuitem-content"><!--?lit$935373052$-->Move to the bin<!--?lit$935373052$--></div></div><div class="goog-menuseparator goog-menuitem-disabled" style="user-select: none;" aria-disabled="true" role="separator" id=":c"></div><div command="clone" class=" goog-menuitem " role="menuitem" style="user-select: none;" id=":d"><div class="goog-menuitem-content"><!--?lit$935373052$-->Save a copy in Drive<!--?lit$935373052$--></div></div><div command="copy-to-gist" class=" goog-menuitem " role="menuitem" style="user-select: none;" id=":e"><div class="goog-menuitem-content"><!--?lit$935373052$-->Save a copy as a GitHub Gist<!--?lit$935373052$--></div></div><div command="copy-to-github" class=" goog-menuitem " role="menuitem" style="user-select: none;" id=":f"><div class="goog-menuitem-content"><!--?lit$935373052$-->Save a copy in GitHub<!--?lit$935373052$--></div></div><div class="goog-menuseparator goog-menuitem-disabled" style="user-select: none;" aria-disabled="true" role="separator" id=":g"></div><div command="save" class=" goog-menuitem " role="menuitem" style="user-select: none;" id=":h"><div class="goog-menuitem-content"><!--?lit$935373052$-->Save<!--?lit$935373052$--><span class="goog-menuitem-accel">Ctrl+S</span></div></div><div command="save-and-checkpoint" class=" goog-menuitem " role="menuitem" style="user-select: none;" id=":i"><div class="goog-menuitem-content"><!--?lit$935373052$-->Save and pin revision<!--?lit$935373052$--><span class="goog-menuitem-accel">Ctrl+M S</span></div></div><div command="show-history" class=" goog-menuitem " role="menuitem" style="user-select: none;" id=":j"><div class="goog-menuitem-content"><!--?lit$935373052$-->Revision history<!--?lit$935373052$--></div></div><div class="goog-menuseparator goog-menuitem-disabled" style="user-select: none;" aria-disabled="true" role="separator" id=":k"></div><div class="goog-submenu goog-menuitem" id="download-submenu-menu-button" role="menuitem" style="user-select: none;" aria-haspopup="true"><div class="goog-menuitem-content">
      <!--?lit$935373052$-->Download
    <span class="goog-submenu-arrow">►</span></div></div><div command="print" class=" goog-menuitem " role="menuitem" style="user-select: none;" id=":o"><div class="goog-menuitem-content"><!--?lit$935373052$-->Print<!--?lit$935373052$--><span class="goog-menuitem-accel">Ctrl+P</span></div></div></div><div class="goog-menu" id="download-submenu-menu" style="display: none; user-select: none;" role="menu" aria-haspopup="true"><!--?lit$935373052$--><div command="download-ipynb" class=" goog-menuitem " role="menuitem" style="user-select: none;" id=":m"><div class="goog-menuitem-content"><!--?lit$935373052$-->Download .ipynb<!--?lit$935373052$--></div></div><div command="download-python" class=" goog-menuitem " role="menuitem" style="user-select: none;" id=":n"><div class="goog-menuitem-content"><!--?lit$935373052$-->Download .py<!--?lit$935373052$--></div></div></div><div class="goog-menu" id="edit-menu" style="display: none; user-select: none;" role="menu" aria-haspopup="true"><!--?lit$935373052$--><div command="undo" class=" goog-menuitem " role="menuitem" style="user-select: none;" id=":q"><div class="goog-menuitem-content"><!--?lit$935373052$-->Undo<!--?lit$935373052$--></div></div><div command="redo" class=" goog-menuitem " role="menuitem" style="user-select: none;" id=":r"><div class="goog-menuitem-content"><!--?lit$935373052$-->Redo<!--?lit$935373052$--></div></div><div class="goog-menuseparator goog-menuitem-disabled" style="user-select: none;" aria-disabled="true" role="separator" id=":s"></div><div command="select-all" class=" goog-menuitem " role="menuitem" style="user-select: none;" id=":t"><div class="goog-menuitem-content"><!--?lit$935373052$-->Select all cells<!--?lit$935373052$--></div></div><div command="cut" class=" goog-menuitem " role="menuitem" style="user-select: none;" id=":u"><div class="goog-menuitem-content"><!--?lit$935373052$-->Cut cell or selection<!--?lit$935373052$--></div></div><div command="copy" class=" goog-menuitem " role="menuitem" style="user-select: none;" id=":v"><div class="goog-menuitem-content"><!--?lit$935373052$-->Copy cell or selection<!--?lit$935373052$--></div></div><div command="paste" class=" goog-menuitem " role="menuitem" style="user-select: none;" id=":w"><div class="goog-menuitem-content"><!--?lit$935373052$-->Paste<!--?lit$935373052$--></div></div><div command="delete-cell-or-selection" class=" goog-menuitem " role="menuitem" style="user-select: none;" id=":x"><div class="goog-menuitem-content"><!--?lit$935373052$-->Delete selected cells<!--?lit$935373052$--></div></div><div class="goog-menuseparator goog-menuitem-disabled" style="user-select: none;" aria-disabled="true" role="separator" id=":y"></div><div command="find" class=" goog-menuitem " role="menuitem" style="user-select: none;" id=":z"><div class="goog-menuitem-content"><!--?lit$935373052$-->Find and replace<!--?lit$935373052$--></div></div><div command="find-next" class=" goog-menuitem " role="menuitem" style="user-select: none;" id=":10"><div class="goog-menuitem-content"><!--?lit$935373052$-->Find next<!--?lit$935373052$--></div></div><div command="find-previous" class=" goog-menuitem " role="menuitem" style="user-select: none;" id=":11"><div class="goog-menuitem-content"><!--?lit$935373052$-->Find previous<!--?lit$935373052$--></div></div><div class="goog-menuseparator goog-menuitem-disabled" style="user-select: none;" aria-disabled="true" role="separator" id=":12"></div><div command="notebook-settings" class=" goog-menuitem " role="menuitem" style="user-select: none;" id=":13"><div class="goog-menuitem-content"><!--?lit$935373052$-->Notebook settings<!--?lit$935373052$--></div></div><div class="goog-menuseparator goog-menuitem-disabled" style="user-select: none;" aria-disabled="true" role="separator" id=":14"></div><div command="clear-outputs" class=" goog-menuitem " role="menuitem" style="user-select: none;" id=":15"><div class="goog-menuitem-content"><!--?lit$935373052$-->Clear all outputs<!--?lit$935373052$--></div></div></div><div class="goog-menu" id="view-menu" style="display: none; user-select: none;" role="menu" aria-haspopup="true"><!--?lit$935373052$--><div command="show-toc-pane" class="goog-menuitem goog-option" role="menuitemcheckbox" aria-checked="false" style="user-select: none;" id=":17"><div class="goog-menuitem-content"><div class="goog-menuitem-checkbox"><!----><md-icon aria-hidden="true">check</md-icon> </div><!--?lit$935373052$-->Table of contents<!--?lit$935373052$--></div></div><div command="show-fileinfo" class=" goog-menuitem " role="menuitem" style="user-select: none;" id=":18"><div class="goog-menuitem-content"><!--?lit$935373052$-->Notebook info<!--?lit$935373052$--></div></div><div command="show-executedcode" class=" goog-menuitem " role="menuitem" style="user-select: none;" id=":19"><div class="goog-menuitem-content"><!--?lit$935373052$-->Executed code history<!--?lit$935373052$--></div></div><div class="goog-submenu goog-menuitem" id="comments-submenu-menu-button" role="menuitem" style="user-select: none;" aria-haspopup="true"><div class="goog-menuitem-content">
      <!--?lit$935373052$-->Comments
    <span class="goog-submenu-arrow">►</span></div></div><div class="goog-menuseparator goog-menuitem-disabled" style="user-select: none;" aria-disabled="true" role="separator" id=":1e"></div><div command="collapse-sections" class=" goog-menuitem " role="menuitem" style="user-select: none;" id=":1f"><div class="goog-menuitem-content"><!--?lit$935373052$-->Collapse sections<!--?lit$935373052$--></div></div><div command="expand-sections" class=" goog-menuitem " role="menuitem" style="user-select: none;" id=":1g"><div class="goog-menuitem-content"><!--?lit$935373052$-->Expand sections<!--?lit$935373052$--></div></div><div command="save-section-layout" class=" goog-menuitem " role="menuitem" style="user-select: none;" id=":1h"><div class="goog-menuitem-content"><!--?lit$935373052$-->Save collapsed section layout<!--?lit$935373052$--></div></div><div class="goog-menuseparator goog-menuitem-disabled" style="user-select: none;" aria-disabled="true" role="separator" id=":1i"></div><div command="hide-code" class=" goog-menuitem " role="menuitem" style="user-select: none;" id=":1j"><div class="goog-menuitem-content"><!--?lit$935373052$-->Show/hide code<!--?lit$935373052$--></div></div><div command="toggle-output" class=" goog-menuitem " role="menuitem" style="user-select: none;" id=":1k"><div class="goog-menuitem-content"><!--?lit$935373052$-->Show/hide output<!--?lit$935373052$--></div></div><div class="goog-menuseparator goog-menuitem-disabled" style="user-select: none;" aria-disabled="true" role="separator" id=":1l"></div><div command="focus-next-tab" class=" goog-menuitem " role="menuitem" style="user-select: none;" id=":1m"><div class="goog-menuitem-content"><!--?lit$935373052$-->Focus next tab<!--?lit$935373052$--></div></div><div command="focus-previous-tab" class=" goog-menuitem " role="menuitem" style="user-select: none;" id=":1n"><div class="goog-menuitem-content"><!--?lit$935373052$-->Focus previous tab<!--?lit$935373052$--></div></div><div command="move-tab-to-next" class=" goog-menuitem " role="menuitem" style="user-select: none;" id=":1o"><div class="goog-menuitem-content"><!--?lit$935373052$-->Move tab to next pane<!--?lit$935373052$--></div></div><div command="move-tab-to-prev" class=" goog-menuitem " role="menuitem" style="user-select: none;" id=":1p"><div class="goog-menuitem-content"><!--?lit$935373052$-->Move tab to previous pane<!--?lit$935373052$--></div></div></div><div class="goog-menu" id="comments-submenu-menu" style="display: none; user-select: none;" role="menu" aria-haspopup="true"><!--?lit$935373052$--><div command="hide-sidebar-comments" class=" goog-menuitem goog-option-selectable " role="menuitem" style="user-select: none;" id=":1b"><div class="goog-menuitem-content"><!--?lit$935373052$-->Hide comments<!--?lit$935373052$--></div></div><div command="show-minimized-sidebar-comments" class=" goog-menuitem goog-option-selectable " role="menuitem" style="user-select: none;" id=":1c"><div class="goog-menuitem-content"><!--?lit$935373052$-->Minimise comments<!--?lit$935373052$--></div></div><div command="show-expanded-sidebar-comments" class=" goog-menuitem goog-option-selectable " role="menuitem" style="user-select: none;" id=":1d"><div class="goog-menuitem-content"><!--?lit$935373052$-->Expand comments<!--?lit$935373052$--></div></div></div><div class="goog-menu" id="insert-menu" style="display: none; user-select: none;" role="menu" aria-haspopup="true"><!--?lit$935373052$--><div command="insert-cell-below" class=" goog-menuitem " role="menuitem" style="user-select: none;" id=":1r"><div class="goog-menuitem-content"><!--?lit$935373052$-->Code cell<!--?lit$935373052$--></div></div><div command="add-text" class=" goog-menuitem " role="menuitem" style="user-select: none;" id=":1s"><div class="goog-menuitem-content"><!--?lit$935373052$-->Text cell<!--?lit$935373052$--></div></div><div command="add-section-header" class=" goog-menuitem " role="menuitem" style="user-select: none;" id=":1t"><div class="goog-menuitem-content"><!--?lit$935373052$-->Section header cell<!--?lit$935373052$--></div></div><div class="goog-menuseparator goog-menuitem-disabled" style="user-select: none;" aria-disabled="true" role="separator" id=":1u"></div><div command="open-scratch-code-cell" class=" goog-menuitem " role="menuitem" style="user-select: none;" id=":1v"><div class="goog-menuitem-content"><!--?lit$935373052$-->Scratch code cell<!--?lit$935373052$--></div></div><div command="snippets" class=" goog-menuitem " role="menuitem" style="user-select: none;" id=":1w"><div class="goog-menuitem-content"><!--?lit$935373052$-->Code snippets<!--?lit$935373052$--></div></div><div class="goog-menuseparator goog-menuitem-disabled" style="user-select: none;" aria-disabled="true" role="separator" id=":1x"></div><div command="add-form-field" class=" goog-menuitem " role="menuitem" style="user-select: none;" id=":1y"><div class="goog-menuitem-content"><!--?lit$935373052$-->Add a form field<!--?lit$935373052$--></div></div></div><div class="goog-menu" id="runtime-menu" style="display: none; user-select: none;" role="menu" aria-haspopup="true"><!--?lit$935373052$--><div command="runall" class=" goog-menuitem " role="menuitem" style="user-select: none;" id=":20"><div class="goog-menuitem-content"><!--?lit$935373052$-->Run all<!--?lit$935373052$--></div></div><div command="runbefore" class=" goog-menuitem " role="menuitem" style="user-select: none;" id=":21"><div class="goog-menuitem-content"><!--?lit$935373052$-->Run before<!--?lit$935373052$--></div></div><div command="runfocused" class=" goog-menuitem " role="menuitem" style="user-select: none;" id=":22"><div class="goog-menuitem-content"><!--?lit$935373052$-->Run the focused cell<!--?lit$935373052$--></div></div><div command="runselected" class=" goog-menuitem " role="menuitem" style="user-select: none;" id=":23"><div class="goog-menuitem-content"><!--?lit$935373052$-->Run selection<!--?lit$935373052$--></div></div><div command="runafter" class=" goog-menuitem " role="menuitem" style="user-select: none;" id=":24"><div class="goog-menuitem-content"><!--?lit$935373052$-->Run cell and below<!--?lit$935373052$--></div></div><div class="goog-menuseparator goog-menuitem-disabled" style="user-select: none;" aria-disabled="true" role="separator" id=":25"></div><div command="interrupt" class=" goog-menuitem " role="menuitem" style="user-select: none;" id=":26"><div class="goog-menuitem-content"><!--?lit$935373052$-->Interrupt execution<!--?lit$935373052$--></div></div><div command="restart" class=" goog-menuitem " role="menuitem" style="user-select: none;" id=":27"><div class="goog-menuitem-content"><!--?lit$935373052$-->Restart session<!--?lit$935373052$--></div></div><div command="restart-and-run-all" class=" goog-menuitem " role="menuitem" style="user-select: none;" id=":28"><div class="goog-menuitem-content"><!--?lit$935373052$-->Restart session and run all<!--?lit$935373052$--></div></div><div command="powerwash-current-vm" class=" goog-menuitem " role="menuitem" style="user-select: none;" id=":29"><div class="goog-menuitem-content"><!--?lit$935373052$-->Disconnect and delete runtime<!--?lit$935373052$--></div></div><div class="goog-menuseparator goog-menuitem-disabled" style="user-select: none;" aria-disabled="true" role="separator" id=":2a"></div><div command="change-runtime-type" class=" goog-menuitem " role="menuitem" style="user-select: none;" id=":2b"><div class="goog-menuitem-content"><!--?lit$935373052$-->Change runtime type<!--?lit$935373052$--></div></div><div class="goog-menuseparator goog-menuitem-disabled" style="user-select: none;" aria-disabled="true" role="separator" id=":2c"></div><div command="manage-sessions" class=" goog-menuitem " role="menuitem" style="user-select: none;" id=":2d"><div class="goog-menuitem-content"><!--?lit$935373052$-->Manage sessions<!--?lit$935373052$--></div></div><div command="open-resource-viewer" class=" goog-menuitem " role="menuitem" style="user-select: none;" id=":2e"><div class="goog-menuitem-content"><!--?lit$935373052$-->View resources<!--?lit$935373052$--></div></div><div command="view-runtime-logs" class=" goog-menuitem " role="menuitem" style="user-select: none;" id=":2f"><div class="goog-menuitem-content"><!--?lit$935373052$-->View runtime logs<!--?lit$935373052$--></div></div></div><div class="goog-menu" id="tools-menu" style="display: none; user-select: none;" role="menu" aria-haspopup="true"><!--?lit$935373052$--><div command="show-command-palette" class=" goog-menuitem " role="menuitem" style="user-select: none;" id=":2h"><div class="goog-menuitem-content"><!--?lit$935373052$-->Command palette<!--?lit$935373052$--></div></div><div class="goog-menuseparator goog-menuitem-disabled" style="user-select: none;" aria-disabled="true" role="separator" id=":2i"></div><div command="preferences" class=" goog-menuitem " role="menuitem" style="user-select: none;" id=":2j"><div class="goog-menuitem-content"><!--?lit$935373052$-->Settings<!--?lit$935373052$--></div></div><div command="shortcuts" class=" goog-menuitem " role="menuitem" style="user-select: none;" id=":2k"><div class="goog-menuitem-content"><!--?lit$935373052$-->Keyboard shortcuts<!--?lit$935373052$--></div></div><div class="goog-menuseparator goog-menuitem-disabled" style="user-select: none;" aria-disabled="true" role="separator" id=":2l"></div><div command="open-differ" class=" goog-menuitem " role="menuitem" style="user-select: none;" id=":2m"><div class="goog-menuitem-content"><!--?lit$935373052$-->Diff notebooks<!--?lit$935373052$--> <span class="screenreader-only"><!--?lit$935373052$-->(opens in a new tab)</span></div></div></div><div class="goog-menu" id="help-menu" style="display: none; user-select: none;" role="menu" aria-haspopup="true"><!--?lit$935373052$--><div command="faq" class=" goog-menuitem " role="menuitem" style="user-select: none;" id=":2o"><div class="goog-menuitem-content"><!--?lit$935373052$-->Frequently asked questions<!--?lit$935373052$--></div></div><div command="view-relnotes" class=" goog-menuitem " role="menuitem" style="user-select: none;" id=":2p"><div class="goog-menuitem-content"><!--?lit$935373052$-->View release notes<!--?lit$935373052$--></div></div><div command="snippets" class=" goog-menuitem " role="menuitem" style="user-select: none;" id=":2q"><div class="goog-menuitem-content"><!--?lit$935373052$-->Search code snippets<!--?lit$935373052$--></div></div><div class="goog-menuseparator goog-menuitem-disabled" style="user-select: none;" aria-disabled="true" role="separator" id=":2r"></div><div command="report-bug" class=" goog-menuitem " role="menuitem" style="user-select: none;" id=":2s"><div class="goog-menuitem-content"><!--?lit$935373052$-->Report a bug<!--?lit$935373052$--></div></div><div command="report-abuse" class=" goog-menuitem " role="menuitem" style="user-select: none;" id=":2t"><div class="goog-menuitem-content"><!--?lit$935373052$-->Report Drive abuse<!--?lit$935373052$--></div></div><div command="send-feedback" class=" goog-menuitem " role="menuitem" style="user-select: none;" id=":2u"><div class="goog-menuitem-content"><!--?lit$935373052$-->Send feedback<!--?lit$935373052$--></div></div><div command="view-tos" class=" goog-menuitem " role="menuitem" style="user-select: none;" id=":2v"><div class="goog-menuitem-content"><!--?lit$935373052$-->View Terms of Service<!--?lit$935373052$--></div></div><div command="view-in-english" class=" goog-menuitem " role="menuitem" style="user-select: none;" id=":2w"><div class="goog-menuitem-content"><!--?lit$935373052$-->View in English<!--?lit$935373052$--></div></div></div><dialog class="doc-comments-area" aria-label="Comments"><!----><div class="doc-comments-buttons">
        <md-text-button command="add-comment" value="" has-icon="">
          <md-icon slot="icon" filled="" aria-hidden="true">comment</md-icon>
          <!--?lit$935373052$-->Add a comment
        </md-text-button>
      </div></dialog><div class="thumbnail"></div><iframe id="apiproxyff83ba9b5f21f1d4a0a48b72b5ee04d775c03eaf0.869937645" name="apiproxyff83ba9b5f21f1d4a0a48b72b5ee04d775c03eaf0.869937645" style="width: 1px; height: 1px; position: absolute; top: -100px; display: none;" src="loops_and_condition_Lab_files/proxy.htm" tabindex="-1" aria-hidden="true"></iframe><div class="monaco-aria-container"><div class="monaco-alert" role="alert" aria-atomic="true" style="visibility: visible;">pend(i)
  else:</div><div class="monaco-alert" role="alert" aria-atomic="true" style="visibility: visible;"></div><div class="monaco-status" role="complementary" aria-live="polite" aria-atomic="true"></div><div class="monaco-status" role="complementary" aria-live="polite" aria-atomic="true"></div></div><div><div class="grecaptcha-badge" data-style="bottomright" style="width: 256px; height: 60px; position: fixed; visibility: hidden; display: block; transition: right 0.3s; bottom: 14px; right: -186px; box-shadow: gray 0px 0px 5px; border-radius: 2px; overflow: hidden;"><div class="grecaptcha-logo"><iframe title="reCAPTCHA" width="256" height="60" role="presentation" name="a-wqml22ovto3b" frameborder="0" scrolling="no" sandbox="allow-forms allow-popups allow-same-origin allow-scripts allow-top-navigation allow-modals allow-popups-to-escape-sandbox allow-storage-access-by-user-activation" src="loops_and_condition_Lab_files/anchor.htm"></iframe></div><div class="grecaptcha-error"></div><textarea id="g-recaptcha-response-100000" name="g-recaptcha-response" class="g-recaptcha-response" style="width: 250px; height: 40px; border: 1px solid rgb(193, 193, 193); margin: 10px 25px; padding: 0px; resize: none; display: none;">03AFcWeA5JER6rntrhuis4wuE5PPwGFvXTcmBmk8BSHNMFbodeO8UEMlQXpccAs05RC-
xqC_DjC8yNEtMbkw0iiyVLjE-
fBGid3OdVwSVLff4f-3t6mt0OVMkWXlmxpTgNCeJsJzFk1ZFyI7XViWBK-Pk6ZwIad-
ncIwyp1t8MU3wG4Oqqr6BVI1OzeUGlFtkNrINXzSPM_9C0UbkECAxXvqvf9LD-
sFecj9UhPhvahNPkhFxKBCDQGkhtTBxuHgK3hHXZgR1HEWC5-
M96f_i1M0V_levLozcyMmRpEsVro8EyNFLXHFhzXJDRqDoHPTAv3qdX_WKjLvnus1vmxJq6F6zaH3lkcOQ3EKyO1xx1uSfMUlnGC-
pGKUaQu6pL6GcIZeOycZ05aVs1vLEuV1cD-v775YME2DeHLc1z7H7lRd-
UFiiQyLuIoRyS4Ga0-
yvQ2XOX3H5ER7fIHxNE3Cv9-1DWygUjnwv4r74HcCRobJCPRUPOXdmA3yavp8KwuLsii66ZFgGgXUsefC8zQPk4OpgBwZ4gT8bOPbrt8qTGqk2d218p22Xd5qYVTAvuoDRZIGjV6Hy_d_nJCx-
MIIqRhA2aoK6LJB80SujRW33O-
QkJ3AQKayZb0zMiwyR4da_kYe5HxkvmKtV1rVsprVZDp9Jd2EV8YJZT0uf52FNe9lZGtuMv5g0T9BmpxMS_b_lUUwalIC8iNXhFR395n6RRqNJxoT5ce-1DnksyMo8oQZj_OSmB4XFzGcIYTDAwamlbLPcpHdvwdWP-
xHgVeKaAXYuxNXaIhLo4dIm8SSoOWV1WMn2kgZE1NYvw5HOLdQIRNv5tFbZqs-
TA9KvwB2TsnAvauQ597VSVxLc3cxbZ0qcPLR_k3oYjY8N71zvHbSpU22upGla6x1ra1G-
dPrE-suPFs7lXexIOru2TCkpsgTuQcOLXVxqDgqXmJEQdTkleobXJqL4jV-
JY1Hh-70enfOymh7xRTDkHFCoovzsBQbfthG5HmxHYuzUGTRoSWiegihah7YbpKWypw7RXPAENDHHSxfJyAbUUZi7hLRIQN68jz89tZTx2RVgTwt92IVS845a9pJt248JZcv3cDMlbDVq087EgxCx-
HygK9gMOszoMQ6WwWxAqgi_lBD3GMrKffjzKKSBTCNsIVCUne1XDw9VNn0n-Y2ZH-
TCQKikdQiOSFA_HrrcBeu7m3gCsgNIARRHeHRFC2wvEXs-8PIwhDN1zFtN-9GDO5Yx-
iHLm3VDLN_n3nFSOQDu2kasuv5km9gAKrRWmFO-
OGDdljy2plPoH4Ef_Sa7-6wpksIyJL9u6IDh5SRyi0YP7ml6lm9TUxggHRiMo5P0vw1jyJAFlUVe4zuKYqHeg5dQIZZ-89HI_NpRL6bNAf9dWO33eAlzStjNwh8uMkr47I-535njuNgy3VE32TlPgu1BkTx8c5l8CEQUnAfahcWf5xoAW42hbgy6iA1dw-
OHayR0ZlC3-Z4mHL8hewZtk-C7lYnQ3mwptZt-zeygI7seVTc4zEA-
LLkQoJj65wNgxw0zjLs4Q6VgboPRSTDUtbMaxivI5pNGUH2b1MmsFUyy62iHLTzH3gdsemsjCNlmKht0Fj0n01Ok10O_LGZxgDZF0GBOle9gkMn8ndDCIu4POQM5Uq7n1422oUKqQGZa-
X5eqq1Co5CUguudxpHt5OXmjoGyBNGJmQwIYK9iIOWA-17JUH-4I01L4Ssg79H2zN7HKlvxxWlf81E-
Et2w6h7sYVUA0V4Wmcu1mYlYOkb4gxyEfDj4i8H5GsFSOIRU5lBtncPJq3HjJUvVm3aLqKxnUawYqt1qfGjVX6rbdVK7_M6RkUa4u48ES9HcQlca4VWLHgqVyvO3h4g3IEoXDGQzumRgAM-
dPO7g18ixpU9U7RpAood-UdnFFeC5CvqHnkUndxAlvQ-
jPKmgF43hjzAhQGrgWhViKEIFoSjeT7EL6xD1T_ma98bYiQBg_4LWsdJKwGA6l1B1FeAojsIA-2huEaUMoFbRCleYAo-
y0C5mfHErpwfYYNR124KUvt6EogSQVMy94GpO37sGf1TJLInWCvqqQZdUzdZfDmt2wXYo</textarea></div><iframe style="display: none;"></iframe></div><iframe style="display: none;" src="loops_and_condition_Lab_files/bscframe.htm"></iframe><colab-callout dismisstext="" tooltipstyling="" aria-label="Rename notebook" style="visibility: visible; top: 38px; left: 92px;" opened="" role="tooltip" verticaldirection="below" horizontaldirection="right">
      <!--?lit$935373052$--><div slot="content"><!----><!--?lit$935373052$--><!----><div><!--?lit$935373052$-->Rename notebook</div><!----><!--?--></div>
    </colab-callout></body></html>